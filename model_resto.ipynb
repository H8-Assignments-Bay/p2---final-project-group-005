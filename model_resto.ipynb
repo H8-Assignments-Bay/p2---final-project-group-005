{
 "cells": [
  {
   "cell_type": "code",
   "execution_count": 1,
   "metadata": {},
   "outputs": [],
   "source": [
    "import pandas as pd\n",
    "import numpy as np\n",
    "import matplotlib.pyplot as plt\n",
    "import seaborn as sns\n",
    "from sklearn.preprocessing import OrdinalEncoder, Normalizer, StandardScaler\n",
    "\n",
    "from sklearn.cluster import KMeans\n",
    "from sklearn.metrics import silhouette_score\n",
    "from sklearn.cluster import SpectralClustering\n",
    "from sklearn.cluster import AgglomerativeClustering as AC"
   ]
  },
  {
   "cell_type": "code",
   "execution_count": 2,
   "metadata": {},
   "outputs": [
    {
     "name": "stdout",
     "output_type": "stream",
     "text": [
      "<class 'pandas.core.frame.DataFrame'>\n",
      "RangeIndex: 37 entries, 0 to 36\n",
      "Data columns (total 7 columns):\n",
      " #   Column           Non-Null Count  Dtype  \n",
      "---  ------           --------------  -----  \n",
      " 0   restaurant_name  37 non-null     object \n",
      " 1   rating           37 non-null     float64\n",
      " 2   total_review     37 non-null     int64  \n",
      " 3   rate_price       37 non-null     object \n",
      " 4   restaurant_type  37 non-null     object \n",
      " 5   coordinate       37 non-null     object \n",
      " 6   image            37 non-null     object \n",
      "dtypes: float64(1), int64(1), object(5)\n",
      "memory usage: 2.1+ KB\n"
     ]
    }
   ],
   "source": [
    "df = pd.read_csv('resto.csv',encoding='latin-1')\n",
    "df.info()"
   ]
  },
  {
   "cell_type": "code",
   "execution_count": 3,
   "metadata": {},
   "outputs": [
    {
     "data": {
      "text/html": [
       "<div>\n",
       "<style scoped>\n",
       "    .dataframe tbody tr th:only-of-type {\n",
       "        vertical-align: middle;\n",
       "    }\n",
       "\n",
       "    .dataframe tbody tr th {\n",
       "        vertical-align: top;\n",
       "    }\n",
       "\n",
       "    .dataframe thead th {\n",
       "        text-align: right;\n",
       "    }\n",
       "</style>\n",
       "<table border=\"1\" class=\"dataframe\">\n",
       "  <thead>\n",
       "    <tr style=\"text-align: right;\">\n",
       "      <th></th>\n",
       "      <th>rating</th>\n",
       "      <th>total_review</th>\n",
       "    </tr>\n",
       "  </thead>\n",
       "  <tbody>\n",
       "    <tr>\n",
       "      <th>count</th>\n",
       "      <td>37.000000</td>\n",
       "      <td>37.000000</td>\n",
       "    </tr>\n",
       "    <tr>\n",
       "      <th>mean</th>\n",
       "      <td>4.191892</td>\n",
       "      <td>256.243243</td>\n",
       "    </tr>\n",
       "    <tr>\n",
       "      <th>std</th>\n",
       "      <td>0.475732</td>\n",
       "      <td>270.720274</td>\n",
       "    </tr>\n",
       "    <tr>\n",
       "      <th>min</th>\n",
       "      <td>2.500000</td>\n",
       "      <td>2.000000</td>\n",
       "    </tr>\n",
       "    <tr>\n",
       "      <th>25%</th>\n",
       "      <td>4.100000</td>\n",
       "      <td>54.000000</td>\n",
       "    </tr>\n",
       "    <tr>\n",
       "      <th>50%</th>\n",
       "      <td>4.300000</td>\n",
       "      <td>168.000000</td>\n",
       "    </tr>\n",
       "    <tr>\n",
       "      <th>75%</th>\n",
       "      <td>4.400000</td>\n",
       "      <td>323.000000</td>\n",
       "    </tr>\n",
       "    <tr>\n",
       "      <th>max</th>\n",
       "      <td>4.800000</td>\n",
       "      <td>949.000000</td>\n",
       "    </tr>\n",
       "  </tbody>\n",
       "</table>\n",
       "</div>"
      ],
      "text/plain": [
       "          rating  total_review\n",
       "count  37.000000     37.000000\n",
       "mean    4.191892    256.243243\n",
       "std     0.475732    270.720274\n",
       "min     2.500000      2.000000\n",
       "25%     4.100000     54.000000\n",
       "50%     4.300000    168.000000\n",
       "75%     4.400000    323.000000\n",
       "max     4.800000    949.000000"
      ]
     },
     "execution_count": 3,
     "metadata": {},
     "output_type": "execute_result"
    }
   ],
   "source": [
    "df.describe()"
   ]
  },
  {
   "cell_type": "code",
   "execution_count": 4,
   "metadata": {},
   "outputs": [],
   "source": [
    "review_group = []\n",
    "\n",
    "for i in df['total_review']:\n",
    "    if 2 <= i <= 54:\n",
    "        review_group.append('bin_1')\n",
    "    elif 55 <= i <= 168:\n",
    "        review_group.append('bin_2')\n",
    "    elif 169 <= i <= 323:\n",
    "        review_group.append('bin_3')\n",
    "    else:\n",
    "        review_group.append('bin_4')"
   ]
  },
  {
   "cell_type": "code",
   "execution_count": 5,
   "metadata": {},
   "outputs": [
    {
     "data": {
      "text/plain": [
       "37"
      ]
     },
     "execution_count": 5,
     "metadata": {},
     "output_type": "execute_result"
    }
   ],
   "source": [
    "len(review_group)"
   ]
  },
  {
   "cell_type": "code",
   "execution_count": 6,
   "metadata": {},
   "outputs": [],
   "source": [
    "df[\"bin_review\"] = review_group"
   ]
  },
  {
   "cell_type": "code",
   "execution_count": 7,
   "metadata": {},
   "outputs": [
    {
     "data": {
      "text/html": [
       "<div>\n",
       "<style scoped>\n",
       "    .dataframe tbody tr th:only-of-type {\n",
       "        vertical-align: middle;\n",
       "    }\n",
       "\n",
       "    .dataframe tbody tr th {\n",
       "        vertical-align: top;\n",
       "    }\n",
       "\n",
       "    .dataframe thead th {\n",
       "        text-align: right;\n",
       "    }\n",
       "</style>\n",
       "<table border=\"1\" class=\"dataframe\">\n",
       "  <thead>\n",
       "    <tr style=\"text-align: right;\">\n",
       "      <th></th>\n",
       "      <th>restaurant_name</th>\n",
       "      <th>rating</th>\n",
       "      <th>total_review</th>\n",
       "      <th>rate_price</th>\n",
       "      <th>restaurant_type</th>\n",
       "      <th>coordinate</th>\n",
       "      <th>image</th>\n",
       "      <th>bin_review</th>\n",
       "    </tr>\n",
       "  </thead>\n",
       "  <tbody>\n",
       "    <tr>\n",
       "      <th>0</th>\n",
       "      <td>Le Pirate Restaurant &amp; Deck - Labuan Bajo</td>\n",
       "      <td>4.1</td>\n",
       "      <td>409</td>\n",
       "      <td>$$</td>\n",
       "      <td>Vegetarian Food</td>\n",
       "      <td>-8.492852260326872, 119.87774201182877</td>\n",
       "      <td>https://lh5.googleusercontent.com/p/AF1QipNBo1...</td>\n",
       "      <td>bin_4</td>\n",
       "    </tr>\n",
       "    <tr>\n",
       "      <th>1</th>\n",
       "      <td>La Cucina</td>\n",
       "      <td>4.3</td>\n",
       "      <td>949</td>\n",
       "      <td>$$</td>\n",
       "      <td>Italian Food</td>\n",
       "      <td>-8.496184927167649, 119.87879999648594</td>\n",
       "      <td>https://lh5.googleusercontent.com/p/AF1QipPmZr...</td>\n",
       "      <td>bin_4</td>\n",
       "    </tr>\n",
       "    <tr>\n",
       "      <th>2</th>\n",
       "      <td>Atlantis On The Rock</td>\n",
       "      <td>4.5</td>\n",
       "      <td>223</td>\n",
       "      <td>$$$</td>\n",
       "      <td>Western Food</td>\n",
       "      <td>-8.456781069547054, 119.87035200997813</td>\n",
       "      <td>https://lh5.googleusercontent.com/p/AF1QipPJWt...</td>\n",
       "      <td>bin_3</td>\n",
       "    </tr>\n",
       "    <tr>\n",
       "      <th>3</th>\n",
       "      <td>MadeInItaly Ristorante Italiano</td>\n",
       "      <td>4.3</td>\n",
       "      <td>688</td>\n",
       "      <td>$$$</td>\n",
       "      <td>Italian Food</td>\n",
       "      <td>-8.50276092661708, 119.88109355415743</td>\n",
       "      <td>https://lh5.googleusercontent.com/p/AF1QipPWWY...</td>\n",
       "      <td>bin_4</td>\n",
       "    </tr>\n",
       "    <tr>\n",
       "      <th>4</th>\n",
       "      <td>Hong Signature Restaurant</td>\n",
       "      <td>4.2</td>\n",
       "      <td>45</td>\n",
       "      <td>$$</td>\n",
       "      <td>Seafood</td>\n",
       "      <td>-8.495971482783027, 119.87899569648584</td>\n",
       "      <td>https://lh5.googleusercontent.com/p/AF1QipPAas...</td>\n",
       "      <td>bin_1</td>\n",
       "    </tr>\n",
       "  </tbody>\n",
       "</table>\n",
       "</div>"
      ],
      "text/plain": [
       "                             restaurant_name  rating  total_review rate_price  \\\n",
       "0  Le Pirate Restaurant & Deck - Labuan Bajo     4.1           409         $$   \n",
       "1                                  La Cucina     4.3           949         $$   \n",
       "2                       Atlantis On The Rock     4.5           223        $$$   \n",
       "3            MadeInItaly Ristorante Italiano     4.3           688        $$$   \n",
       "4                  Hong Signature Restaurant     4.2            45         $$   \n",
       "\n",
       "   restaurant_type                              coordinate  \\\n",
       "0  Vegetarian Food  -8.492852260326872, 119.87774201182877   \n",
       "1     Italian Food  -8.496184927167649, 119.87879999648594   \n",
       "2     Western Food  -8.456781069547054, 119.87035200997813   \n",
       "3     Italian Food   -8.50276092661708, 119.88109355415743   \n",
       "4          Seafood  -8.495971482783027, 119.87899569648584   \n",
       "\n",
       "                                               image bin_review  \n",
       "0  https://lh5.googleusercontent.com/p/AF1QipNBo1...      bin_4  \n",
       "1  https://lh5.googleusercontent.com/p/AF1QipPmZr...      bin_4  \n",
       "2  https://lh5.googleusercontent.com/p/AF1QipPJWt...      bin_3  \n",
       "3  https://lh5.googleusercontent.com/p/AF1QipPWWY...      bin_4  \n",
       "4  https://lh5.googleusercontent.com/p/AF1QipPAas...      bin_1  "
      ]
     },
     "execution_count": 7,
     "metadata": {},
     "output_type": "execute_result"
    }
   ],
   "source": [
    "df.head()"
   ]
  },
  {
   "cell_type": "code",
   "execution_count": 8,
   "metadata": {},
   "outputs": [],
   "source": [
    "# membuat fungsi untuk distribusi data menggunakan histogram dan boxplot\n",
    "def plot_dist(df, col):\n",
    "    fig, axes = plt.subplots(ncols = 2, figsize = (15, 5))\n",
    "\n",
    "    # histogram\n",
    "    sns.histplot(df[col],ax = axes[0], bins=30)\n",
    "    axes[0].set_title(f\"Histogram '{col}'\")\n",
    "    axes[0].axvline(df[col].mean(), color = 'red', linestyle = 'dashed', label = 'mean')\n",
    "    axes[0].axvline(df[col].median(), color = 'green', linestyle = 'dashed', label = 'median')\n",
    "    axes[0].legend()\n",
    "\n",
    "    # boxplot\n",
    "    sns.boxplot(y=df[col], ax =  axes[1])\n",
    "    axes[1].set_title(f\"Boxplot '{col}'\")\n",
    "\n",
    "    plt.show()\n",
    "\n",
    "    # skewness\n",
    "    print('Skewness :', df[col].skew())\n",
    "    if -0.5 <= df[col].skew() <= 0.5:\n",
    "        print(\"Kolom '{}' berdistribusi normal\".format(col))\n",
    "    elif df[col].skew() > 0.5:\n",
    "        print(\"Kolom '{}' right skewed (miring ke kanan)\".format(col))\n",
    "    elif df[col].skew() < -0.5:\n",
    "        print(\"Kolom '{}' left skewed (miring ke kiri)\".format(col))"
   ]
  },
  {
   "cell_type": "code",
   "execution_count": 9,
   "metadata": {},
   "outputs": [
    {
     "data": {
      "image/png": "[encoded data removed]",
      "text/plain": [
       "<Figure size 1080x360 with 2 Axes>"
      ]
     },
     "metadata": {
      "needs_background": "light"
     },
     "output_type": "display_data"
    },
    {
     "name": "stdout",
     "output_type": "stream",
     "text": [
      "Skewness : 1.3306707324506668\n",
      "Kolom 'total_review' right skewed (miring ke kanan)\n"
     ]
    }
   ],
   "source": [
    "plot_dist(df, \"total_review\")"
   ]
  },
  {
   "cell_type": "code",
   "execution_count": 10,
   "metadata": {},
   "outputs": [
    {
     "data": {
      "text/html": [
       "<div>\n",
       "<style scoped>\n",
       "    .dataframe tbody tr th:only-of-type {\n",
       "        vertical-align: middle;\n",
       "    }\n",
       "\n",
       "    .dataframe tbody tr th {\n",
       "        vertical-align: top;\n",
       "    }\n",
       "\n",
       "    .dataframe thead th {\n",
       "        text-align: right;\n",
       "    }\n",
       "</style>\n",
       "<table border=\"1\" class=\"dataframe\">\n",
       "  <thead>\n",
       "    <tr style=\"text-align: right;\">\n",
       "      <th></th>\n",
       "      <th>rating</th>\n",
       "    </tr>\n",
       "  </thead>\n",
       "  <tbody>\n",
       "    <tr>\n",
       "      <th>0</th>\n",
       "      <td>4.1</td>\n",
       "    </tr>\n",
       "    <tr>\n",
       "      <th>1</th>\n",
       "      <td>4.3</td>\n",
       "    </tr>\n",
       "    <tr>\n",
       "      <th>2</th>\n",
       "      <td>4.5</td>\n",
       "    </tr>\n",
       "    <tr>\n",
       "      <th>3</th>\n",
       "      <td>4.3</td>\n",
       "    </tr>\n",
       "    <tr>\n",
       "      <th>4</th>\n",
       "      <td>4.2</td>\n",
       "    </tr>\n",
       "  </tbody>\n",
       "</table>\n",
       "</div>"
      ],
      "text/plain": [
       "   rating\n",
       "0     4.1\n",
       "1     4.3\n",
       "2     4.5\n",
       "3     4.3\n",
       "4     4.2"
      ]
     },
     "execution_count": 10,
     "metadata": {},
     "output_type": "execute_result"
    }
   ],
   "source": [
    "X_num = df[[\"rating\"]]\n",
    "X_num.head()"
   ]
  },
  {
   "cell_type": "code",
   "execution_count": 11,
   "metadata": {},
   "outputs": [
    {
     "data": {
      "text/html": [
       "<div>\n",
       "<style scoped>\n",
       "    .dataframe tbody tr th:only-of-type {\n",
       "        vertical-align: middle;\n",
       "    }\n",
       "\n",
       "    .dataframe tbody tr th {\n",
       "        vertical-align: top;\n",
       "    }\n",
       "\n",
       "    .dataframe thead th {\n",
       "        text-align: right;\n",
       "    }\n",
       "</style>\n",
       "<table border=\"1\" class=\"dataframe\">\n",
       "  <thead>\n",
       "    <tr style=\"text-align: right;\">\n",
       "      <th></th>\n",
       "      <th>rate_price</th>\n",
       "      <th>bin_review</th>\n",
       "    </tr>\n",
       "  </thead>\n",
       "  <tbody>\n",
       "    <tr>\n",
       "      <th>0</th>\n",
       "      <td>$$</td>\n",
       "      <td>bin_4</td>\n",
       "    </tr>\n",
       "    <tr>\n",
       "      <th>1</th>\n",
       "      <td>$$</td>\n",
       "      <td>bin_4</td>\n",
       "    </tr>\n",
       "    <tr>\n",
       "      <th>2</th>\n",
       "      <td>$$$</td>\n",
       "      <td>bin_3</td>\n",
       "    </tr>\n",
       "    <tr>\n",
       "      <th>3</th>\n",
       "      <td>$$$</td>\n",
       "      <td>bin_4</td>\n",
       "    </tr>\n",
       "    <tr>\n",
       "      <th>4</th>\n",
       "      <td>$$</td>\n",
       "      <td>bin_1</td>\n",
       "    </tr>\n",
       "    <tr>\n",
       "      <th>5</th>\n",
       "      <td>$$</td>\n",
       "      <td>bin_3</td>\n",
       "    </tr>\n",
       "    <tr>\n",
       "      <th>6</th>\n",
       "      <td>$$</td>\n",
       "      <td>bin_4</td>\n",
       "    </tr>\n",
       "    <tr>\n",
       "      <th>7</th>\n",
       "      <td>$$</td>\n",
       "      <td>bin_4</td>\n",
       "    </tr>\n",
       "    <tr>\n",
       "      <th>8</th>\n",
       "      <td>$</td>\n",
       "      <td>bin_2</td>\n",
       "    </tr>\n",
       "  </tbody>\n",
       "</table>\n",
       "</div>"
      ],
      "text/plain": [
       "  rate_price bin_review\n",
       "0         $$      bin_4\n",
       "1         $$      bin_4\n",
       "2        $$$      bin_3\n",
       "3        $$$      bin_4\n",
       "4         $$      bin_1\n",
       "5         $$      bin_3\n",
       "6         $$      bin_4\n",
       "7         $$      bin_4\n",
       "8          $      bin_2"
      ]
     },
     "execution_count": 11,
     "metadata": {},
     "output_type": "execute_result"
    }
   ],
   "source": [
    "X_col = df[[\"rate_price\",\"bin_review\"]]\n",
    "X_col.head(9)"
   ]
  },
  {
   "cell_type": "code",
   "execution_count": 12,
   "metadata": {},
   "outputs": [],
   "source": [
    "scaler_normalizer = Normalizer()\n",
    "scaler_standar = StandardScaler()\n",
    "\n",
    "X_num_scaled = scaler_normalizer.fit_transform(X_num)\n",
    "X_num_final = scaler_standar.fit_transform(X_num_scaled)"
   ]
  },
  {
   "cell_type": "code",
   "execution_count": 13,
   "metadata": {},
   "outputs": [
    {
     "data": {
      "text/plain": [
       "array([[1.],\n",
       "       [1.],\n",
       "       [1.],\n",
       "       [1.],\n",
       "       [1.],\n",
       "       [1.],\n",
       "       [1.],\n",
       "       [1.],\n",
       "       [1.],\n",
       "       [1.],\n",
       "       [1.],\n",
       "       [1.],\n",
       "       [1.],\n",
       "       [1.],\n",
       "       [1.],\n",
       "       [1.],\n",
       "       [1.],\n",
       "       [1.],\n",
       "       [1.],\n",
       "       [1.],\n",
       "       [1.],\n",
       "       [1.],\n",
       "       [1.],\n",
       "       [1.],\n",
       "       [1.],\n",
       "       [1.],\n",
       "       [1.],\n",
       "       [1.],\n",
       "       [1.],\n",
       "       [1.],\n",
       "       [1.],\n",
       "       [1.],\n",
       "       [1.],\n",
       "       [1.],\n",
       "       [1.],\n",
       "       [1.],\n",
       "       [1.]])"
      ]
     },
     "execution_count": 13,
     "metadata": {},
     "output_type": "execute_result"
    }
   ],
   "source": [
    "X_num_scaled"
   ]
  },
  {
   "cell_type": "code",
   "execution_count": 14,
   "metadata": {},
   "outputs": [
    {
     "data": {
      "text/plain": [
       "array([[0.],\n",
       "       [0.],\n",
       "       [0.],\n",
       "       [0.],\n",
       "       [0.],\n",
       "       [0.],\n",
       "       [0.],\n",
       "       [0.],\n",
       "       [0.],\n",
       "       [0.],\n",
       "       [0.],\n",
       "       [0.],\n",
       "       [0.],\n",
       "       [0.],\n",
       "       [0.],\n",
       "       [0.],\n",
       "       [0.],\n",
       "       [0.],\n",
       "       [0.],\n",
       "       [0.],\n",
       "       [0.],\n",
       "       [0.],\n",
       "       [0.],\n",
       "       [0.],\n",
       "       [0.],\n",
       "       [0.],\n",
       "       [0.],\n",
       "       [0.],\n",
       "       [0.],\n",
       "       [0.],\n",
       "       [0.],\n",
       "       [0.],\n",
       "       [0.],\n",
       "       [0.],\n",
       "       [0.],\n",
       "       [0.],\n",
       "       [0.]])"
      ]
     },
     "execution_count": 14,
     "metadata": {},
     "output_type": "execute_result"
    }
   ],
   "source": [
    "np.round(X_num_final,10)"
   ]
  },
  {
   "cell_type": "code",
   "execution_count": 15,
   "metadata": {},
   "outputs": [
    {
     "data": {
      "text/plain": [
       "array([[1., 3.],\n",
       "       [1., 3.],\n",
       "       [2., 2.],\n",
       "       [2., 3.],\n",
       "       [1., 0.],\n",
       "       [1., 2.],\n",
       "       [1., 3.],\n",
       "       [1., 3.],\n",
       "       [0., 1.]])"
      ]
     },
     "execution_count": 15,
     "metadata": {},
     "output_type": "execute_result"
    }
   ],
   "source": [
    "encoding = OrdinalEncoder()\n",
    "X_col_encode = encoding.fit_transform(X_col)\n",
    "X_col_encode[:9]"
   ]
  },
  {
   "cell_type": "code",
   "execution_count": 16,
   "metadata": {},
   "outputs": [
    {
     "data": {
      "text/plain": [
       "array([[0., 1., 3.],\n",
       "       [0., 1., 3.],\n",
       "       [0., 2., 2.],\n",
       "       [0., 2., 3.],\n",
       "       [0., 1., 0.],\n",
       "       [0., 1., 2.],\n",
       "       [0., 1., 3.],\n",
       "       [0., 1., 3.],\n",
       "       [0., 0., 1.],\n",
       "       [0., 1., 2.],\n",
       "       [0., 1., 1.],\n",
       "       [0., 2., 0.],\n",
       "       [0., 0., 2.],\n",
       "       [0., 1., 1.],\n",
       "       [0., 0., 0.],\n",
       "       [0., 1., 3.],\n",
       "       [0., 0., 2.],\n",
       "       [0., 1., 0.],\n",
       "       [0., 0., 1.],\n",
       "       [0., 0., 3.],\n",
       "       [0., 1., 2.],\n",
       "       [0., 1., 3.],\n",
       "       [0., 2., 1.],\n",
       "       [0., 2., 0.],\n",
       "       [0., 0., 0.],\n",
       "       [0., 1., 1.],\n",
       "       [0., 1., 2.],\n",
       "       [0., 1., 3.],\n",
       "       [0., 1., 2.],\n",
       "       [0., 2., 0.],\n",
       "       [0., 2., 1.],\n",
       "       [0., 0., 0.],\n",
       "       [0., 1., 1.],\n",
       "       [0., 1., 1.],\n",
       "       [0., 0., 0.],\n",
       "       [0., 0., 0.],\n",
       "       [0., 1., 2.]])"
      ]
     },
     "execution_count": 16,
     "metadata": {},
     "output_type": "execute_result"
    }
   ],
   "source": [
    "X_final = np.concatenate([X_num_final,X_col_encode], axis=1)\n",
    "X_final"
   ]
  },
  {
   "cell_type": "markdown",
   "metadata": {},
   "source": [
    "---\n",
    "# Model Definition\n",
    "\n",
    "Pada tahap ini akan dilakukan inisiasi / definisi awal dari model-model yang akan digunakan."
   ]
  },
  {
   "cell_type": "code",
   "execution_count": 17,
   "metadata": {},
   "outputs": [],
   "source": [
    "# model clustering\n",
    "kmeans = KMeans(n_clusters=3, random_state=100)\n",
    "agg_clust = AC(linkage='ward')"
   ]
  },
  {
   "cell_type": "code",
   "execution_count": 18,
   "metadata": {},
   "outputs": [
    {
     "data": {
      "image/png": "[encoded data removed]",
      "text/plain": [
       "<Figure size 720x360 with 1 Axes>"
      ]
     },
     "metadata": {
      "needs_background": "light"
     },
     "output_type": "display_data"
    }
   ],
   "source": [
    "K=[2,3,4]\n",
    "\n",
    "inertia = [KMeans(n_clusters=i).fit(X_final).inertia_ for i in K]\n",
    "plt.figure(figsize=(10,5))\n",
    "plt.plot(K,inertia)\n",
    "plt.xlabel('K')\n",
    "plt.ylabel('Inertia')\n",
    "plt.grid()\n",
    "plt.show()"
   ]
  },
  {
   "cell_type": "code",
   "execution_count": 19,
   "metadata": {},
   "outputs": [
    {
     "data": {
      "image/png": "[encoded data removed]",
      "text/plain": [
       "<Figure size 720x360 with 1 Axes>"
      ]
     },
     "metadata": {
      "needs_background": "light"
     },
     "output_type": "display_data"
    }
   ],
   "source": [
    "# training model KMeans\n",
    "K=[2,3,4,5,6,7,8,9,10]\n",
    "s_score=[silhouette_score(X_final, KMeans(n_clusters=i).fit(X_final).labels_) for i in K]\n",
    "plt.figure(figsize=(10,5))\n",
    "plt.plot(K,s_score)\n",
    "plt.xlabel('K')\n",
    "plt.ylabel('Silhouette Score')\n",
    "plt.grid()\n",
    "plt.show()"
   ]
  },
  {
   "cell_type": "code",
   "execution_count": 20,
   "metadata": {},
   "outputs": [
    {
     "data": {
      "text/plain": [
       "SpectralClustering(affinity='nearest_neighbors', n_clusters=3)"
      ]
     },
     "execution_count": 20,
     "metadata": {},
     "output_type": "execute_result"
    }
   ],
   "source": [
    "scl = SpectralClustering(n_clusters=3,affinity='nearest_neighbors')\n",
    "scl.fit(X_final)"
   ]
  },
  {
   "cell_type": "code",
   "execution_count": 22,
   "metadata": {},
   "outputs": [
    {
     "data": {
      "text/plain": [
       "1    17\n",
       "2    13\n",
       "0     7\n",
       "Name: Cluster, dtype: int64"
      ]
     },
     "execution_count": 22,
     "metadata": {},
     "output_type": "execute_result"
    }
   ],
   "source": [
    "sc_df = pd.DataFrame(scl.labels_, columns = ['Cluster'])\n",
    "hasil_scl = pd.concat([df, sc_df], axis=1)\n",
    "hasil_scl[\"Cluster\"].value_counts()"
   ]
  },
  {
   "cell_type": "code",
   "execution_count": 23,
   "metadata": {},
   "outputs": [
    {
     "name": "stdout",
     "output_type": "stream",
     "text": [
      "Rata-rata type 0 :\n",
      " $    7\n",
      "Name: rate_price, dtype: int64\n",
      "Rata-rata type 1 :\n",
      " $$     13\n",
      "$       3\n",
      "$$$     1\n",
      "Name: rate_price, dtype: int64\n",
      "Rata-rata type 2 :\n",
      " $$     7\n",
      "$$$    6\n",
      "Name: rate_price, dtype: int64\n"
     ]
    }
   ],
   "source": [
    "print('Rata-rata type 0 :\\n', hasil_scl[hasil_scl['Cluster'] == 0]['rate_price'].value_counts())\n",
    "print('Rata-rata type 1 :\\n', hasil_scl[hasil_scl['Cluster'] == 1]['rate_price'].value_counts())\n",
    "print('Rata-rata type 2 :\\n', hasil_scl[hasil_scl['Cluster'] == 2]['rate_price'].value_counts())\n"
   ]
  },
  {
   "cell_type": "code",
   "execution_count": 24,
   "metadata": {},
   "outputs": [
    {
     "data": {
      "text/html": [
       "<div>\n",
       "<style scoped>\n",
       "    .dataframe tbody tr th:only-of-type {\n",
       "        vertical-align: middle;\n",
       "    }\n",
       "\n",
       "    .dataframe tbody tr th {\n",
       "        vertical-align: top;\n",
       "    }\n",
       "\n",
       "    .dataframe thead th {\n",
       "        text-align: right;\n",
       "    }\n",
       "</style>\n",
       "<table border=\"1\" class=\"dataframe\">\n",
       "  <thead>\n",
       "    <tr style=\"text-align: right;\">\n",
       "      <th></th>\n",
       "      <th>restaurant_name</th>\n",
       "      <th>rating</th>\n",
       "      <th>total_review</th>\n",
       "      <th>rate_price</th>\n",
       "      <th>restaurant_type</th>\n",
       "      <th>coordinate</th>\n",
       "      <th>image</th>\n",
       "      <th>bin_review</th>\n",
       "      <th>Cluster</th>\n",
       "    </tr>\n",
       "  </thead>\n",
       "  <tbody>\n",
       "    <tr>\n",
       "      <th>2</th>\n",
       "      <td>Atlantis On The Rock</td>\n",
       "      <td>4.5</td>\n",
       "      <td>223</td>\n",
       "      <td>$$$</td>\n",
       "      <td>Western Food</td>\n",
       "      <td>-8.456781069547054, 119.87035200997813</td>\n",
       "      <td>https://lh5.googleusercontent.com/p/AF1QipPJWt...</td>\n",
       "      <td>bin_3</td>\n",
       "      <td>2</td>\n",
       "    </tr>\n",
       "    <tr>\n",
       "      <th>4</th>\n",
       "      <td>Hong Signature Restaurant</td>\n",
       "      <td>4.2</td>\n",
       "      <td>45</td>\n",
       "      <td>$$</td>\n",
       "      <td>Seafood</td>\n",
       "      <td>-8.495971482783027, 119.87899569648584</td>\n",
       "      <td>https://lh5.googleusercontent.com/p/AF1QipPAas...</td>\n",
       "      <td>bin_1</td>\n",
       "      <td>2</td>\n",
       "    </tr>\n",
       "    <tr>\n",
       "      <th>10</th>\n",
       "      <td>Baccalá</td>\n",
       "      <td>4.6</td>\n",
       "      <td>149</td>\n",
       "      <td>$$</td>\n",
       "      <td>Western Food</td>\n",
       "      <td>-8.491754283226278, 119.8778149970323</td>\n",
       "      <td>https://lh5.googleusercontent.com/p/AF1QipOqnW...</td>\n",
       "      <td>bin_2</td>\n",
       "      <td>2</td>\n",
       "    </tr>\n",
       "    <tr>\n",
       "      <th>11</th>\n",
       "      <td>RINCA Restaurant</td>\n",
       "      <td>4.3</td>\n",
       "      <td>36</td>\n",
       "      <td>$$$</td>\n",
       "      <td>Indonesian Food</td>\n",
       "      <td>-8.468150489124445, 119.87401067487203</td>\n",
       "      <td>https://lh5.googleusercontent.com/p/AF1QipNYVb...</td>\n",
       "      <td>bin_1</td>\n",
       "      <td>2</td>\n",
       "    </tr>\n",
       "    <tr>\n",
       "      <th>13</th>\n",
       "      <td>BAJO SUNSET HOTEL &amp; FLORES FOOD RESTAURANT</td>\n",
       "      <td>3.9</td>\n",
       "      <td>66</td>\n",
       "      <td>$$</td>\n",
       "      <td>Western Food</td>\n",
       "      <td>-8.485863682510606, 119.87817983881429</td>\n",
       "      <td>https://lh5.googleusercontent.com/p/AF1QipMN0m...</td>\n",
       "      <td>bin_2</td>\n",
       "      <td>2</td>\n",
       "    </tr>\n",
       "    <tr>\n",
       "      <th>17</th>\n",
       "      <td>Restaurant @ Angel Island Resort Komodo</td>\n",
       "      <td>4.8</td>\n",
       "      <td>14</td>\n",
       "      <td>$$</td>\n",
       "      <td>Western Food</td>\n",
       "      <td>-8.483272679163987, 119.83890982457683</td>\n",
       "      <td>https://lh5.googleusercontent.com/p/AF1QipOE5s...</td>\n",
       "      <td>bin_1</td>\n",
       "      <td>2</td>\n",
       "    </tr>\n",
       "    <tr>\n",
       "      <th>22</th>\n",
       "      <td>Say Se'i Restaurant</td>\n",
       "      <td>4.3</td>\n",
       "      <td>166</td>\n",
       "      <td>$$$</td>\n",
       "      <td>Indonesian Food</td>\n",
       "      <td>-8.487476382554066, 119.8954531676501</td>\n",
       "      <td>https://lh5.googleusercontent.com/p/AF1QipOdyl...</td>\n",
       "      <td>bin_2</td>\n",
       "      <td>2</td>\n",
       "    </tr>\n",
       "    <tr>\n",
       "      <th>23</th>\n",
       "      <td>Kisik Grill</td>\n",
       "      <td>4.6</td>\n",
       "      <td>11</td>\n",
       "      <td>$$$</td>\n",
       "      <td>Seafood</td>\n",
       "      <td>-8.468350117629567, 119.87394876764986</td>\n",
       "      <td>https://lh5.googleusercontent.com/p/AF1QipN1FJ...</td>\n",
       "      <td>bin_1</td>\n",
       "      <td>2</td>\n",
       "    </tr>\n",
       "    <tr>\n",
       "      <th>25</th>\n",
       "      <td>Dragon Resto</td>\n",
       "      <td>4.3</td>\n",
       "      <td>129</td>\n",
       "      <td>$$</td>\n",
       "      <td>Chinese Food</td>\n",
       "      <td>-8.484948305296118, 119.89458538299286</td>\n",
       "      <td>https://lh5.googleusercontent.com/p/AF1QipPoRE...</td>\n",
       "      <td>bin_2</td>\n",
       "      <td>2</td>\n",
       "    </tr>\n",
       "    <tr>\n",
       "      <th>29</th>\n",
       "      <td>HONZEN Komodo</td>\n",
       "      <td>3.7</td>\n",
       "      <td>21</td>\n",
       "      <td>$$$</td>\n",
       "      <td>Japanese Food</td>\n",
       "      <td>-8.467892305778825, 119.87403342532129</td>\n",
       "      <td>https://lh5.googleusercontent.com/p/AF1QipOjhr...</td>\n",
       "      <td>bin_1</td>\n",
       "      <td>2</td>\n",
       "    </tr>\n",
       "    <tr>\n",
       "      <th>30</th>\n",
       "      <td>Sesto Senso Restaurant And Lounge</td>\n",
       "      <td>4.8</td>\n",
       "      <td>56</td>\n",
       "      <td>$$$</td>\n",
       "      <td>Western Food</td>\n",
       "      <td>-8.482635982423705, 119.88359179648572</td>\n",
       "      <td>https://lh5.googleusercontent.com/p/AF1QipMRFa...</td>\n",
       "      <td>bin_2</td>\n",
       "      <td>2</td>\n",
       "    </tr>\n",
       "    <tr>\n",
       "      <th>32</th>\n",
       "      <td>Pondok Flores</td>\n",
       "      <td>4.0</td>\n",
       "      <td>92</td>\n",
       "      <td>$$</td>\n",
       "      <td>Indonesian Food</td>\n",
       "      <td>-8.49194687146331, 119.89457189648591</td>\n",
       "      <td>https://lh5.googleusercontent.com/p/AF1QipNhaq...</td>\n",
       "      <td>bin_2</td>\n",
       "      <td>2</td>\n",
       "    </tr>\n",
       "    <tr>\n",
       "      <th>33</th>\n",
       "      <td>Cafe Melinjo - French Flavor</td>\n",
       "      <td>4.7</td>\n",
       "      <td>156</td>\n",
       "      <td>$$</td>\n",
       "      <td>Café</td>\n",
       "      <td>-8.490834582644537, 119.87609689648579</td>\n",
       "      <td>https://lh5.googleusercontent.com/p/AF1QipNMUO...</td>\n",
       "      <td>bin_2</td>\n",
       "      <td>2</td>\n",
       "    </tr>\n",
       "  </tbody>\n",
       "</table>\n",
       "</div>"
      ],
      "text/plain": [
       "                               restaurant_name  rating  total_review  \\\n",
       "2                         Atlantis On The Rock     4.5           223   \n",
       "4                    Hong Signature Restaurant     4.2            45   \n",
       "10                                     Baccalá     4.6           149   \n",
       "11                            RINCA Restaurant     4.3            36   \n",
       "13  BAJO SUNSET HOTEL & FLORES FOOD RESTAURANT     3.9            66   \n",
       "17     Restaurant @ Angel Island Resort Komodo     4.8            14   \n",
       "22                         Say Se'i Restaurant     4.3           166   \n",
       "23                                 Kisik Grill     4.6            11   \n",
       "25                                Dragon Resto     4.3           129   \n",
       "29                               HONZEN Komodo     3.7            21   \n",
       "30           Sesto Senso Restaurant And Lounge     4.8            56   \n",
       "32                               Pondok Flores     4.0            92   \n",
       "33                Cafe Melinjo - French Flavor     4.7           156   \n",
       "\n",
       "   rate_price  restaurant_type                              coordinate  \\\n",
       "2         $$$     Western Food  -8.456781069547054, 119.87035200997813   \n",
       "4          $$          Seafood  -8.495971482783027, 119.87899569648584   \n",
       "10         $$     Western Food   -8.491754283226278, 119.8778149970323   \n",
       "11        $$$  Indonesian Food  -8.468150489124445, 119.87401067487203   \n",
       "13         $$     Western Food  -8.485863682510606, 119.87817983881429   \n",
       "17         $$     Western Food  -8.483272679163987, 119.83890982457683   \n",
       "22        $$$  Indonesian Food   -8.487476382554066, 119.8954531676501   \n",
       "23        $$$          Seafood  -8.468350117629567, 119.87394876764986   \n",
       "25         $$     Chinese Food  -8.484948305296118, 119.89458538299286   \n",
       "29        $$$    Japanese Food  -8.467892305778825, 119.87403342532129   \n",
       "30        $$$     Western Food  -8.482635982423705, 119.88359179648572   \n",
       "32         $$  Indonesian Food   -8.49194687146331, 119.89457189648591   \n",
       "33         $$             Café  -8.490834582644537, 119.87609689648579   \n",
       "\n",
       "                                                image bin_review  Cluster  \n",
       "2   https://lh5.googleusercontent.com/p/AF1QipPJWt...      bin_3        2  \n",
       "4   https://lh5.googleusercontent.com/p/AF1QipPAas...      bin_1        2  \n",
       "10  https://lh5.googleusercontent.com/p/AF1QipOqnW...      bin_2        2  \n",
       "11  https://lh5.googleusercontent.com/p/AF1QipNYVb...      bin_1        2  \n",
       "13  https://lh5.googleusercontent.com/p/AF1QipMN0m...      bin_2        2  \n",
       "17  https://lh5.googleusercontent.com/p/AF1QipOE5s...      bin_1        2  \n",
       "22  https://lh5.googleusercontent.com/p/AF1QipOdyl...      bin_2        2  \n",
       "23  https://lh5.googleusercontent.com/p/AF1QipN1FJ...      bin_1        2  \n",
       "25  https://lh5.googleusercontent.com/p/AF1QipPoRE...      bin_2        2  \n",
       "29  https://lh5.googleusercontent.com/p/AF1QipOjhr...      bin_1        2  \n",
       "30  https://lh5.googleusercontent.com/p/AF1QipMRFa...      bin_2        2  \n",
       "32  https://lh5.googleusercontent.com/p/AF1QipNhaq...      bin_2        2  \n",
       "33  https://lh5.googleusercontent.com/p/AF1QipNMUO...      bin_2        2  "
      ]
     },
     "execution_count": 24,
     "metadata": {},
     "output_type": "execute_result"
    }
   ],
   "source": [
    "hasil_scl[hasil_scl['Cluster'] == 2]"
   ]
  },
  {
   "cell_type": "code",
   "execution_count": 30,
   "metadata": {},
   "outputs": [
    {
     "data": {
      "text/plain": [
       "Deluxe    17\n",
       "King      13\n",
       "Basic      7\n",
       "Name: cluster_resto, dtype: int64"
      ]
     },
     "execution_count": 30,
     "metadata": {},
     "output_type": "execute_result"
    }
   ],
   "source": [
    "hasil_scl['cluster_resto'] = hasil_scl['Cluster'].map({0 : 'Basic',  1 : 'Deluxe', 2 : 'King'})\n",
    "hasil_scl.cluster_resto.value_counts()"
   ]
  },
  {
   "cell_type": "code",
   "execution_count": 37,
   "metadata": {},
   "outputs": [],
   "source": [
    "hasil_scl.to_csv('resto_final.csv', index=False)"
   ]
  }
 ],
 "metadata": {
  "kernelspec": {
   "display_name": "Python 3.10.4 64-bit",
   "language": "python",
   "name": "python3"
  },
  "language_info": {
   "codemirror_mode": {
    "name": "ipython",
    "version": 3
   },
   "file_extension": ".py",
   "mimetype": "text/x-python",
   "name": "python",
   "nbconvert_exporter": "python",
   "pygments_lexer": "ipython3",
   "version": "3.10.4"
  },
  "orig_nbformat": 4,
  "vscode": {
   "interpreter": {
    "hash": "9da1b1b2a29d3b236fe49fb5812d61ad0fc9ad1d043df80838b3360eeace8084"
   }
  }
 },
 "nbformat": 4,
 "nbformat_minor": 2
}
