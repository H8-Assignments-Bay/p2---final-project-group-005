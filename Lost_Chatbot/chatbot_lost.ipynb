{
 "cells": [
  {
   "cell_type": "markdown",
   "metadata": {},
   "source": [
    "# ChatBot Let's Get Lost!"
   ]
  },
  {
   "cell_type": "markdown",
   "metadata": {},
   "source": [
    "Notebook ini berisi dalam pembuatan model chatbot AI menggunakan JSON format file lalu mengunakan library TensorFlow dengan Keras dalam Python."
   ]
  },
  {
   "cell_type": "markdown",
   "metadata": {},
   "source": [
    "## Import Libraries"
   ]
  },
  {
   "cell_type": "code",
   "execution_count": 1,
   "metadata": {},
   "outputs": [
    {
     "name": "stderr",
     "output_type": "stream",
     "text": [
      "[nltk_data] Downloading package punkt to\n",
      "[nltk_data]     C:\\Users\\TheSevenS\\AppData\\Roaming\\nltk_data...\n",
      "[nltk_data]   Package punkt is already up-to-date!\n"
     ]
    },
    {
     "data": {
      "text/plain": [
       "True"
      ]
     },
     "execution_count": 1,
     "metadata": {},
     "output_type": "execute_result"
    }
   ],
   "source": [
    "# Import Library\n",
    "import json\n",
    "import string\n",
    "import pickle\n",
    "import numpy as np\n",
    "import pandas as pd\n",
    "import matplotlib.pyplot as plt\n",
    "\n",
    "# Preprocessing\n",
    "from sklearn.preprocessing import LabelEncoder\n",
    "from sklearn.model_selection import train_test_split\n",
    "\n",
    "# Model\n",
    "import tensorflow as tf\n",
    "from keras.models import Sequential\n",
    "from keras.layers import Dense, Activation, Dropout\n",
    "\n",
    "\n",
    "# Words Pre\n",
    "import nltk\n",
    "from nltk.tokenize import word_tokenize\n",
    "nltk.download('punkt')"
   ]
  },
  {
   "cell_type": "markdown",
   "metadata": {},
   "source": [
    "## Load Data"
   ]
  },
  {
   "cell_type": "code",
   "execution_count": 2,
   "metadata": {},
   "outputs": [],
   "source": [
    "# load json file\n",
    "\n",
    "data_file = open('intents.json').read()\n",
    "intents_json = json.loads(data_file)"
   ]
  },
  {
   "cell_type": "code",
   "execution_count": 3,
   "metadata": {},
   "outputs": [],
   "source": [
    "# Create list from json\n",
    "patterns = [] # Input\n",
    "tag = [] # Classes/intent\n",
    "\n",
    "for i in range(len(intents_json['intents'])):\n",
    "    for user_patterns in intents_json['intents'][i]['patterns']:\n",
    "        patterns.append(user_patterns)\n",
    "        tag.append(intents_json['intents'][i]['tag'])\n"
   ]
  },
  {
   "cell_type": "code",
   "execution_count": 4,
   "metadata": {},
   "outputs": [
    {
     "data": {
      "text/html": [
       "<div>\n",
       "<style scoped>\n",
       "    .dataframe tbody tr th:only-of-type {\n",
       "        vertical-align: middle;\n",
       "    }\n",
       "\n",
       "    .dataframe tbody tr th {\n",
       "        vertical-align: top;\n",
       "    }\n",
       "\n",
       "    .dataframe thead th {\n",
       "        text-align: right;\n",
       "    }\n",
       "</style>\n",
       "<table border=\"1\" class=\"dataframe\">\n",
       "  <thead>\n",
       "    <tr style=\"text-align: right;\">\n",
       "      <th></th>\n",
       "      <th>patterns</th>\n",
       "      <th>tag</th>\n",
       "    </tr>\n",
       "  </thead>\n",
       "  <tbody>\n",
       "    <tr>\n",
       "      <th>0</th>\n",
       "      <td>Hai</td>\n",
       "      <td>greet</td>\n",
       "    </tr>\n",
       "    <tr>\n",
       "      <th>1</th>\n",
       "      <td>Hi</td>\n",
       "      <td>greet</td>\n",
       "    </tr>\n",
       "    <tr>\n",
       "      <th>2</th>\n",
       "      <td>Halo</td>\n",
       "      <td>greet</td>\n",
       "    </tr>\n",
       "    <tr>\n",
       "      <th>3</th>\n",
       "      <td>Apa Kabar</td>\n",
       "      <td>greet</td>\n",
       "    </tr>\n",
       "    <tr>\n",
       "      <th>4</th>\n",
       "      <td>Selamat Pagi</td>\n",
       "      <td>greet</td>\n",
       "    </tr>\n",
       "  </tbody>\n",
       "</table>\n",
       "</div>"
      ],
      "text/plain": [
       "       patterns    tag\n",
       "0           Hai  greet\n",
       "1            Hi  greet\n",
       "2          Halo  greet\n",
       "3     Apa Kabar  greet\n",
       "4  Selamat Pagi  greet"
      ]
     },
     "execution_count": 4,
     "metadata": {},
     "output_type": "execute_result"
    }
   ],
   "source": [
    "# Create dataframe from json\n",
    "df = pd.DataFrame({\n",
    "    'patterns': patterns,\n",
    "    'tag' : tag,\n",
    "})\n",
    "df.head()"
   ]
  },
  {
   "cell_type": "markdown",
   "metadata": {},
   "source": [
    "## Preprocessing"
   ]
  },
  {
   "cell_type": "markdown",
   "metadata": {},
   "source": [
    "**Splitting Data**"
   ]
  },
  {
   "cell_type": "code",
   "execution_count": 5,
   "metadata": {},
   "outputs": [],
   "source": [
    "X = df['patterns']\n",
    "y = df['tag']"
   ]
  },
  {
   "cell_type": "code",
   "execution_count": 6,
   "metadata": {},
   "outputs": [
    {
     "name": "stdout",
     "output_type": "stream",
     "text": [
      "Ukuran dimensi Data Trainval-set:  (163,)\n",
      "Ukuran dimensi Data Test-set:  (70,)\n"
     ]
    }
   ],
   "source": [
    "# Splitting Dataset\n",
    "X_train, X_test, y_train, y_test = train_test_split(X, y, test_size = 0.3, random_state = 50, stratify = y)\n",
    "\n",
    "print('Ukuran dimensi Data Trainval-set: ', X_train.shape)\n",
    "print('Ukuran dimensi Data Test-set: ', X_test.shape)"
   ]
  },
  {
   "cell_type": "code",
   "execution_count": 7,
   "metadata": {},
   "outputs": [
    {
     "data": {
      "text/plain": [
       "greet                 12\n",
       "creator                8\n",
       "pilihan                8\n",
       "bye                    8\n",
       "thanks                 8\n",
       "pembayaran             8\n",
       "nanya_apps             8\n",
       "sop_covid              8\n",
       "reschedule_bantuan     7\n",
       "complain_marah         7\n",
       "mengubah_pilihan       6\n",
       "nanya_gobot            6\n",
       "nama                   5\n",
       "refund                 5\n",
       "tanya wisata alam      5\n",
       "pilihan_2              5\n",
       "weblink                5\n",
       "dokumen                5\n",
       "reschedule_info        4\n",
       "pembayaran_error       4\n",
       "canda                  4\n",
       "vaksin_info            4\n",
       "complain               4\n",
       "keamanan_data          4\n",
       "canda_3                3\n",
       "salah_input            3\n",
       "random_talk3           3\n",
       "random_talk            3\n",
       "canda_2                3\n",
       "Name: tag, dtype: int64"
      ]
     },
     "execution_count": 7,
     "metadata": {},
     "output_type": "execute_result"
    }
   ],
   "source": [
    "y_train.value_counts()"
   ]
  },
  {
   "cell_type": "code",
   "execution_count": 8,
   "metadata": {},
   "outputs": [
    {
     "data": {
      "text/plain": [
       "greet                 5\n",
       "pilihan               4\n",
       "pembayaran            4\n",
       "dokumen               3\n",
       "creator               3\n",
       "sop_covid             3\n",
       "refund                3\n",
       "complain_marah        3\n",
       "bye                   3\n",
       "thanks                3\n",
       "nanya_apps            3\n",
       "reschedule_bantuan    3\n",
       "nanya_gobot           2\n",
       "nama                  2\n",
       "tanya wisata alam     2\n",
       "random_talk           2\n",
       "complain              2\n",
       "canda                 2\n",
       "keamanan_data         2\n",
       "vaksin_info           2\n",
       "pembayaran_error      2\n",
       "reschedule_info       2\n",
       "pilihan_2             2\n",
       "mengubah_pilihan      2\n",
       "weblink               2\n",
       "random_talk3          1\n",
       "canda_3               1\n",
       "salah_input           1\n",
       "canda_2               1\n",
       "Name: tag, dtype: int64"
      ]
     },
     "execution_count": 8,
     "metadata": {},
     "output_type": "execute_result"
    }
   ],
   "source": [
    "y_test.value_counts()"
   ]
  },
  {
   "cell_type": "markdown",
   "metadata": {},
   "source": [
    "**Clean Text**"
   ]
  },
  {
   "cell_type": "code",
   "execution_count": 9,
   "metadata": {},
   "outputs": [],
   "source": [
    "# Clean text\n",
    "def clean_text(text):\n",
    "    \"\"\"\n",
    "    Fungsi yang digunakan untuk melakukan praproses\n",
    "    \"\"\"\n",
    "    # konversi ke lowercase\n",
    "    text = text.lower()\n",
    "    # menghapus tanda baca\n",
    "    tandabaca = tuple(string.punctuation)\n",
    "    text = ''.join(ch for ch in text if ch not in tandabaca)\n",
    "    return text"
   ]
  },
  {
   "cell_type": "code",
   "execution_count": 10,
   "metadata": {},
   "outputs": [
    {
     "data": {
      "text/plain": [
       "'halo boleh bantuannya'"
      ]
     },
     "execution_count": 10,
     "metadata": {},
     "output_type": "execute_result"
    }
   ],
   "source": [
    "# Konfirmasi function diatas\n",
    "kalimat = 'Halo boleh bantuannya?'\n",
    "clean_text(kalimat)"
   ]
  },
  {
   "cell_type": "code",
   "execution_count": 11,
   "metadata": {},
   "outputs": [
    {
     "data": {
      "text/plain": [
       "70                    link apps nya apa\n",
       "190                      cara ubah nama\n",
       "182    aku mau mengubah pilihan liburan\n",
       "212                  data kami diapakan\n",
       "17                                dadah\n",
       "Name: patterns, dtype: object"
      ]
     },
     "execution_count": 11,
     "metadata": {},
     "output_type": "execute_result"
    }
   ],
   "source": [
    "X_train = X_train.apply(clean_text)\n",
    "X_train.head()"
   ]
  },
  {
   "cell_type": "markdown",
   "metadata": {},
   "source": [
    "**Tokenizing**"
   ]
  },
  {
   "cell_type": "markdown",
   "metadata": {},
   "source": [
    "Setelah melakukan cleaning data, selanjutnya saya akan menggunakan nltk.word_tokenize untuk menggabungkan list kalimat yang ada untuk menjadi satu kalimat berdasarkan tags.\n",
    "\n",
    "Tokenizing merupakan salah satu jenis preprocessing yang dilakukan sebelum membuat machine learning model. Tokenizing merupakan hal dasar pada data text."
   ]
  },
  {
   "cell_type": "code",
   "execution_count": 12,
   "metadata": {},
   "outputs": [],
   "source": [
    "# Create corpus\n",
    "words = set([\n",
    "    word for word in X_train for word in word_tokenize(word)\n",
    "    ]\n",
    ")"
   ]
  },
  {
   "cell_type": "code",
   "execution_count": 13,
   "metadata": {},
   "outputs": [],
   "source": [
    "corpus_size = len(words)"
   ]
  },
  {
   "cell_type": "code",
   "execution_count": 14,
   "metadata": {},
   "outputs": [
    {
     "name": "stdout",
     "output_type": "stream",
     "text": [
      "174 8\n"
     ]
    }
   ],
   "source": [
    "# Pengunaan tokenize pada text\n",
    "df['length'] = X_train.apply(word_tokenize).apply(len)\n",
    "sequence_length = int(round(df['length'].max(),0))\n",
    "print(corpus_size,sequence_length)"
   ]
  },
  {
   "cell_type": "markdown",
   "metadata": {},
   "source": [
    "**Encoding**"
   ]
  },
  {
   "cell_type": "code",
   "execution_count": 15,
   "metadata": {},
   "outputs": [],
   "source": [
    "# Label Encoding\n",
    "encoder = LabelEncoder()\n",
    "y_train = encoder.fit_transform(y_train)\n",
    "y_train = tf.keras.utils.to_categorical(y_train)"
   ]
  },
  {
   "cell_type": "code",
   "execution_count": 16,
   "metadata": {},
   "outputs": [],
   "source": [
    "y_test = encoder.transform(y_test)\n",
    "y_test = tf.keras.utils.to_categorical(y_test)"
   ]
  },
  {
   "cell_type": "code",
   "execution_count": 17,
   "metadata": {},
   "outputs": [
    {
     "name": "stdout",
     "output_type": "stream",
     "text": [
      "['bye' 'canda' 'canda_2' 'canda_3' 'complain' 'complain_marah' 'creator'\n",
      " 'dokumen' 'greet' 'keamanan_data' 'mengubah_pilihan' 'nama' 'nanya_apps'\n",
      " 'nanya_gobot' 'pembayaran' 'pembayaran_error' 'pilihan' 'pilihan_2'\n",
      " 'random_talk' 'random_talk3' 'refund' 'reschedule_bantuan'\n",
      " 'reschedule_info' 'salah_input' 'sop_covid' 'tanya wisata alam' 'thanks'\n",
      " 'vaksin_info' 'weblink']\n"
     ]
    }
   ],
   "source": [
    "print(encoder.classes_)"
   ]
  },
  {
   "cell_type": "code",
   "execution_count": 18,
   "metadata": {},
   "outputs": [
    {
     "name": "stdout",
     "output_type": "stream",
     "text": [
      "29\n"
     ]
    }
   ],
   "source": [
    "print(len(encoder.classes_))"
   ]
  },
  {
   "cell_type": "markdown",
   "metadata": {},
   "source": [
    "**Vectorization**\n",
    "\n",
    "Vektorisasi merupakan metode *bag of words* merupakan metode pengumpulan vocab pada corpus, metode yang saya gunakan pada hal ini adalah text vectorization yang terdapat pada TensorFlow kit."
   ]
  },
  {
   "cell_type": "code",
   "execution_count": 19,
   "metadata": {},
   "outputs": [],
   "source": [
    "vect = tf.keras.layers.TextVectorization(\n",
    "    max_tokens=corpus_size,\n",
    "    standardize='lower_and_strip_punctuation',\n",
    "    split='whitespace',\n",
    "    ngrams=None,\n",
    "    output_mode='int',\n",
    "    output_sequence_length=sequence_length\n",
    ")\n",
    "vect.adapt(X_train)   "
   ]
  },
  {
   "cell_type": "code",
   "execution_count": 20,
   "metadata": {},
   "outputs": [
    {
     "data": {
      "text/plain": [
       "<tf.Tensor: shape=(8,), dtype=int64, numpy=array([143,   1,   1,   0,   0,   0,   0,   0], dtype=int64)>"
      ]
     },
     "execution_count": 20,
     "metadata": {},
     "output_type": "execute_result"
    }
   ],
   "source": [
    "check = 'halo boleh bantuannya?'\n",
    "vect(clean_text(check))"
   ]
  },
  {
   "cell_type": "markdown",
   "metadata": {},
   "source": [
    "**Embedding**"
   ]
  },
  {
   "cell_type": "code",
   "execution_count": 21,
   "metadata": {},
   "outputs": [],
   "source": [
    "# Define function Embedding\n",
    "embedding = tf.keras.layers.Embedding(\n",
    "    input_dim=corpus_size,\n",
    "    output_dim=16,\n",
    "    input_length=sequence_length,\n",
    "    embeddings_initializer='uniform'\n",
    ")"
   ]
  },
  {
   "cell_type": "code",
   "execution_count": 22,
   "metadata": {},
   "outputs": [
    {
     "data": {
      "text/plain": [
       "<tf.Tensor: shape=(8, 16), dtype=float32, numpy=\n",
       "array([[-0.04450644, -0.017117  , -0.0050404 , -0.01686976,  0.04061216,\n",
       "         0.00769783,  0.01735086, -0.02149274,  0.03278548,  0.04695627,\n",
       "        -0.03971088,  0.03847608, -0.02638775,  0.03015796,  0.00048444,\n",
       "        -0.03847359],\n",
       "       [-0.01957269,  0.04665721,  0.04475385,  0.02230271, -0.03599774,\n",
       "        -0.03217723,  0.00822517, -0.00350789, -0.02783493, -0.01313834,\n",
       "        -0.00832633,  0.01411993,  0.00276369, -0.01479509, -0.01795298,\n",
       "        -0.02396485],\n",
       "       [-0.01957269,  0.04665721,  0.04475385,  0.02230271, -0.03599774,\n",
       "        -0.03217723,  0.00822517, -0.00350789, -0.02783493, -0.01313834,\n",
       "        -0.00832633,  0.01411993,  0.00276369, -0.01479509, -0.01795298,\n",
       "        -0.02396485],\n",
       "       [ 0.00717758, -0.04717542, -0.02071076, -0.02321426,  0.00192751,\n",
       "         0.00089649, -0.04370483, -0.02600048, -0.02808129, -0.01835576,\n",
       "        -0.00445247, -0.00552479, -0.00441501,  0.04887674, -0.04902666,\n",
       "        -0.01760588],\n",
       "       [ 0.00717758, -0.04717542, -0.02071076, -0.02321426,  0.00192751,\n",
       "         0.00089649, -0.04370483, -0.02600048, -0.02808129, -0.01835576,\n",
       "        -0.00445247, -0.00552479, -0.00441501,  0.04887674, -0.04902666,\n",
       "        -0.01760588],\n",
       "       [ 0.00717758, -0.04717542, -0.02071076, -0.02321426,  0.00192751,\n",
       "         0.00089649, -0.04370483, -0.02600048, -0.02808129, -0.01835576,\n",
       "        -0.00445247, -0.00552479, -0.00441501,  0.04887674, -0.04902666,\n",
       "        -0.01760588],\n",
       "       [ 0.00717758, -0.04717542, -0.02071076, -0.02321426,  0.00192751,\n",
       "         0.00089649, -0.04370483, -0.02600048, -0.02808129, -0.01835576,\n",
       "        -0.00445247, -0.00552479, -0.00441501,  0.04887674, -0.04902666,\n",
       "        -0.01760588],\n",
       "       [ 0.00717758, -0.04717542, -0.02071076, -0.02321426,  0.00192751,\n",
       "         0.00089649, -0.04370483, -0.02600048, -0.02808129, -0.01835576,\n",
       "        -0.00445247, -0.00552479, -0.00441501,  0.04887674, -0.04902666,\n",
       "        -0.01760588]], dtype=float32)>"
      ]
     },
     "execution_count": 22,
     "metadata": {},
     "output_type": "execute_result"
    }
   ],
   "source": [
    "# Show vector value from text check\n",
    "embedding(vect(clean_text(check)))"
   ]
  },
  {
   "cell_type": "markdown",
   "metadata": {},
   "source": [
    "**Pipeline Tensorflow**"
   ]
  },
  {
   "cell_type": "code",
   "execution_count": 23,
   "metadata": {},
   "outputs": [
    {
     "data": {
      "text/plain": [
       "(163, 29)"
      ]
     },
     "execution_count": 23,
     "metadata": {},
     "output_type": "execute_result"
    }
   ],
   "source": [
    "y_train.shape"
   ]
  },
  {
   "cell_type": "code",
   "execution_count": 46,
   "metadata": {},
   "outputs": [],
   "source": [
    "# data train\n",
    "train_dataset = tf.data.Dataset.from_tensor_slices((X_train, y_train)).shuffle(163).batch(8)  # shuffle sebanyak jumlah baris data train"
   ]
  },
  {
   "cell_type": "code",
   "execution_count": 47,
   "metadata": {},
   "outputs": [],
   "source": [
    "# data test\n",
    "test_dataset = tf.data.Dataset.from_tensor_slices((X_test, y_test)).batch(8)"
   ]
  },
  {
   "cell_type": "code",
   "execution_count": 48,
   "metadata": {},
   "outputs": [
    {
     "data": {
      "text/plain": [
       "70                    link apps nya apa\n",
       "190                      cara ubah nama\n",
       "182    aku mau mengubah pilihan liburan\n",
       "212                  data kami diapakan\n",
       "17                                dadah\n",
       "                     ...               \n",
       "224                          apps jelek\n",
       "175              butuh dokumen apa saja\n",
       "206                dimana tempat vaksin\n",
       "173             bantuin reschedule dong\n",
       "62                              appsnya\n",
       "Name: patterns, Length: 163, dtype: object"
      ]
     },
     "execution_count": 48,
     "metadata": {},
     "output_type": "execute_result"
    }
   ],
   "source": [
    "X_train\n"
   ]
  },
  {
   "cell_type": "markdown",
   "metadata": {},
   "source": [
    "## Model Training"
   ]
  },
  {
   "cell_type": "markdown",
   "metadata": {},
   "source": [
    "From this chapter we will try train our data with LSTM (Long Short Term Memory) from tensorflow to make prediction for answer of the ChatBot."
   ]
  },
  {
   "cell_type": "code",
   "execution_count": 49,
   "metadata": {},
   "outputs": [],
   "source": [
    "# Functional API Model\n",
    "\n",
    "input = tf.keras.layers.Input(shape=(1,), dtype='string')\n",
    "hidden_1 = vect(input)\n",
    "hidden_2 = embedding (hidden_1)\n",
    "hidden_3 = tf.keras.layers.Bidirectional(tf.keras.layers.LSTM(16))(hidden_2)\n",
    "output = tf.keras.layers.Dense(len(encoder.classes_), activation='softmax')(hidden_3)\n",
    "model = tf.keras.Model(inputs=input, outputs=output)\n",
    "\n",
    "\n",
    "\n",
    "#Compile Model\n",
    "model.compile(loss='categorical_crossentropy',optimizer='adam',metrics='accuracy')\n"
   ]
  },
  {
   "cell_type": "code",
   "execution_count": 28,
   "metadata": {},
   "outputs": [],
   "source": [
    "# Functional API Model\n",
    "\n",
    "# input = tf.keras.layers.Input(shape=(1,), dtype='string')\n",
    "# hidden_1 = vect(input)\n",
    "# hidden_2 = embedding (hidden_1)\n",
    "# hidden_3 = tf.keras.layers.Bidirectional(tf.keras.layers.LSTM(32, return_sequences = True))(hidden_2) \n",
    "# hidden_4 = tf.keras.layers.Bidirectional(tf.keras.layers.LSTM(16))(hidden_3)\n",
    "# output = tf.keras.layers.Dense(len(encoder.classes_), activation='softmax')(hidden_4)\n",
    "# model = tf.keras.Model(inputs=input, outputs=output)\n",
    "\n",
    "\n",
    "# #Compile Model\n",
    "# model.compile(loss='categorical_crossentropy',optimizer='adam',metrics='accuracy')"
   ]
  },
  {
   "cell_type": "code",
   "execution_count": 50,
   "metadata": {},
   "outputs": [
    {
     "name": "stdout",
     "output_type": "stream",
     "text": [
      "Model: \"model_1\"\n",
      "_________________________________________________________________\n",
      " Layer (type)                Output Shape              Param #   \n",
      "=================================================================\n",
      " input_2 (InputLayer)        [(None, 1)]               0         \n",
      "                                                                 \n",
      " text_vectorization (TextVec  (None, 8)                0         \n",
      " torization)                                                     \n",
      "                                                                 \n",
      " embedding (Embedding)       (None, 8, 16)             2784      \n",
      "                                                                 \n",
      " bidirectional_1 (Bidirectio  (None, 32)               4224      \n",
      " nal)                                                            \n",
      "                                                                 \n",
      " dense_1 (Dense)             (None, 29)                957       \n",
      "                                                                 \n",
      "=================================================================\n",
      "Total params: 7,965\n",
      "Trainable params: 7,965\n",
      "Non-trainable params: 0\n",
      "_________________________________________________________________\n"
     ]
    }
   ],
   "source": [
    "# Show summary of model\n",
    "model.summary()"
   ]
  },
  {
   "cell_type": "code",
   "execution_count": 51,
   "metadata": {},
   "outputs": [
    {
     "data": {
      "text/html": [
       "<div>\n",
       "<style scoped>\n",
       "    .dataframe tbody tr th:only-of-type {\n",
       "        vertical-align: middle;\n",
       "    }\n",
       "\n",
       "    .dataframe tbody tr th {\n",
       "        vertical-align: top;\n",
       "    }\n",
       "\n",
       "    .dataframe thead th {\n",
       "        text-align: right;\n",
       "    }\n",
       "</style>\n",
       "<table border=\"1\" class=\"dataframe\">\n",
       "  <thead>\n",
       "    <tr style=\"text-align: right;\">\n",
       "      <th></th>\n",
       "      <th>loss</th>\n",
       "      <th>accuracy</th>\n",
       "      <th>val_loss</th>\n",
       "      <th>val_accuracy</th>\n",
       "    </tr>\n",
       "  </thead>\n",
       "  <tbody>\n",
       "    <tr>\n",
       "      <th>95</th>\n",
       "      <td>0.020339</td>\n",
       "      <td>1.0</td>\n",
       "      <td>2.663739</td>\n",
       "      <td>0.500000</td>\n",
       "    </tr>\n",
       "    <tr>\n",
       "      <th>96</th>\n",
       "      <td>0.019876</td>\n",
       "      <td>1.0</td>\n",
       "      <td>2.661391</td>\n",
       "      <td>0.485714</td>\n",
       "    </tr>\n",
       "    <tr>\n",
       "      <th>97</th>\n",
       "      <td>0.019440</td>\n",
       "      <td>1.0</td>\n",
       "      <td>2.676039</td>\n",
       "      <td>0.485714</td>\n",
       "    </tr>\n",
       "    <tr>\n",
       "      <th>98</th>\n",
       "      <td>0.019008</td>\n",
       "      <td>1.0</td>\n",
       "      <td>2.667031</td>\n",
       "      <td>0.485714</td>\n",
       "    </tr>\n",
       "    <tr>\n",
       "      <th>99</th>\n",
       "      <td>0.018603</td>\n",
       "      <td>1.0</td>\n",
       "      <td>2.677122</td>\n",
       "      <td>0.485714</td>\n",
       "    </tr>\n",
       "  </tbody>\n",
       "</table>\n",
       "</div>"
      ],
      "text/plain": [
       "        loss  accuracy  val_loss  val_accuracy\n",
       "95  0.020339       1.0  2.663739      0.500000\n",
       "96  0.019876       1.0  2.661391      0.485714\n",
       "97  0.019440       1.0  2.676039      0.485714\n",
       "98  0.019008       1.0  2.667031      0.485714\n",
       "99  0.018603       1.0  2.677122      0.485714"
      ]
     },
     "execution_count": 51,
     "metadata": {},
     "output_type": "execute_result"
    }
   ],
   "source": [
    "hist = model.fit(train_dataset, validation_data = test_dataset,  epochs=100, verbose=0)\n",
    "pd.DataFrame(hist.history).tail()"
   ]
  },
  {
   "cell_type": "code",
   "execution_count": 52,
   "metadata": {},
   "outputs": [
    {
     "data": {
      "image/png": "[encoded data removed]",
      "text/plain": [
       "<Figure size 720x360 with 1 Axes>"
      ]
     },
     "metadata": {
      "needs_background": "light"
     },
     "output_type": "display_data"
    }
   ],
   "source": [
    "# visualisasi hasil training basic model rnn\n",
    "fig, ax = plt.subplots(figsize=(10,5))\n",
    "ax.plot(range(hist.epoch[-1]+1),hist.history['loss'],label='train loss')\n",
    "ax.plot(range(hist.epoch[-1]+1),hist.history['val_loss'],label='val loss')\n",
    "ax.set_xlabel('Epoch')\n",
    "ax.set_ylabel('loss')\n",
    "plt.legend()\n",
    "plt.show()"
   ]
  },
  {
   "cell_type": "markdown",
   "metadata": {},
   "source": [
    "**Saving Model**"
   ]
  },
  {
   "cell_type": "code",
   "execution_count": 53,
   "metadata": {},
   "outputs": [],
   "source": [
    "# Save Encoder\n",
    "\n",
    "with open('encoder.pkl', 'wb') as f:\n",
    "    pickle.dump(encoder, f)"
   ]
  },
  {
   "cell_type": "code",
   "execution_count": 54,
   "metadata": {},
   "outputs": [],
   "source": [
    "pickle.dump({'config': vect.get_config(),\n",
    "             'weights': vect.get_weights()}\n",
    "            , open(\"vect.pkl\", \"wb\"))"
   ]
  },
  {
   "cell_type": "code",
   "execution_count": 55,
   "metadata": {},
   "outputs": [
    {
     "name": "stderr",
     "output_type": "stream",
     "text": [
      "WARNING:absl:Found untraced functions such as lstm_cell_4_layer_call_fn, lstm_cell_4_layer_call_and_return_conditional_losses, lstm_cell_5_layer_call_fn, lstm_cell_5_layer_call_and_return_conditional_losses while saving (showing 4 of 4). These functions will not be directly callable after loading.\n"
     ]
    },
    {
     "name": "stdout",
     "output_type": "stream",
     "text": [
      "INFO:tensorflow:Assets written to: model.tf\\assets\n"
     ]
    },
    {
     "name": "stderr",
     "output_type": "stream",
     "text": [
      "INFO:tensorflow:Assets written to: model.tf\\assets\n"
     ]
    }
   ],
   "source": [
    "model.save('model.tf', save_traces=True)"
   ]
  },
  {
   "cell_type": "markdown",
   "metadata": {},
   "source": [
    "## Inference"
   ]
  },
  {
   "cell_type": "code",
   "execution_count": 35,
   "metadata": {},
   "outputs": [],
   "source": [
    "def bot_response(text):\n",
    "    \"\"\"Take text as function input then predict using model. Return response based on highest probability using numpy argmax    \n",
    "    \"\"\"\n",
    "    text = clean_text(text)\n",
    "    pred = model.predict([text])\n",
    "    res = encoder.classes_[pred.argmax()] # Mencari index yang memiliki probabilitas tertinggi\n",
    "    i = 0\n",
    "    try:\n",
    "        if vect(text).numpy().max() > 1: # If the input is known word(s)\n",
    "            while i < len(intents_json['intents']):\n",
    "                if res == intents_json['intents'][i]['tag']:\n",
    "                    responses = intents_json['intents'][i]['responses']\n",
    "                    break\n",
    "                else:\n",
    "                    i+=1\n",
    "        else: # If only unknown word(s)\n",
    "            responses = ['Maaf kawan, aku tidak mengerti perkataan mu ...']\n",
    "    except: # If empty string or any error occured\n",
    "        responses = ['GoBot tidak mengerti :( ...']\n",
    "\n",
    "    # For debugging only\n",
    "    dict_temp = []\n",
    "    for i in range(len(pred[0])):\n",
    "        temp = {encoder.classes_[i]: pred[0][i]}\n",
    "        dict_temp.append(temp)\n",
    "    print(dict_temp)\n",
    "    print(encoder.classes_[pred.argmax()])\n",
    "\n",
    "    return(np.random.choice(responses))"
   ]
  },
  {
   "cell_type": "code",
   "execution_count": 36,
   "metadata": {},
   "outputs": [
    {
     "data": {
      "text/plain": [
       "'hai'"
      ]
     },
     "execution_count": 36,
     "metadata": {},
     "output_type": "execute_result"
    }
   ],
   "source": [
    "tes1 = 'hai'\n",
    "clean_text(tes1)"
   ]
  },
  {
   "cell_type": "code",
   "execution_count": 37,
   "metadata": {},
   "outputs": [
    {
     "name": "stdout",
     "output_type": "stream",
     "text": [
      "1/1 [==============================] - 1s 1s/step\n"
     ]
    },
    {
     "data": {
      "text/plain": [
       "array([[1.0282357e-02, 1.4568812e-03, 1.7543568e-04, 3.1464744e-05,\n",
       "        5.1664589e-05, 1.1466248e-03, 5.0905679e-04, 1.0977087e-03,\n",
       "        5.9307963e-03, 3.7058126e-05, 5.4996431e-06, 5.3460355e-04,\n",
       "        5.9388135e-02, 4.1966859e-02, 1.1585504e-02, 5.4320338e-04,\n",
       "        1.6461030e-03, 1.8821680e-04, 5.4762489e-04, 1.3510495e-07,\n",
       "        5.3083419e-05, 9.3254792e-05, 1.5876787e-05, 1.8511171e-06,\n",
       "        1.4651136e-02, 8.8650231e-06, 8.4790671e-01, 1.2867104e-05,\n",
       "        1.3148964e-04]], dtype=float32)"
      ]
     },
     "execution_count": 37,
     "metadata": {},
     "output_type": "execute_result"
    }
   ],
   "source": [
    "model.predict([clean_text(tes1)])"
   ]
  },
  {
   "cell_type": "code",
   "execution_count": 38,
   "metadata": {},
   "outputs": [
    {
     "name": "stdout",
     "output_type": "stream",
     "text": [
      "1/1 [==============================] - 0s 28ms/step\n"
     ]
    },
    {
     "data": {
      "text/plain": [
       "26"
      ]
     },
     "execution_count": 38,
     "metadata": {},
     "output_type": "execute_result"
    }
   ],
   "source": [
    "model.predict([clean_text(tes1)]).argmax()"
   ]
  },
  {
   "cell_type": "code",
   "execution_count": 39,
   "metadata": {},
   "outputs": [
    {
     "name": "stdout",
     "output_type": "stream",
     "text": [
      "1/1 [==============================] - 0s 28ms/step\n"
     ]
    },
    {
     "data": {
      "text/plain": [
       "'thanks'"
      ]
     },
     "execution_count": 39,
     "metadata": {},
     "output_type": "execute_result"
    }
   ],
   "source": [
    "encoder.classes_[model.predict([clean_text(tes1)]).argmax()]\n"
   ]
  },
  {
   "cell_type": "code",
   "execution_count": 40,
   "metadata": {},
   "outputs": [
    {
     "data": {
      "text/plain": [
       "['GoBot merupakan online Chatbot, yang dapat membantu kawan untuk mecarikan rekomendasi tempat kawan liburan.',\n",
       " 'Salam kenal aku GoBot',\n",
       " 'Panggil aku GoBot kawan :)',\n",
       " 'Aku GoBot!',\n",
       " 'Perkenalkan aku GoBot']"
      ]
     },
     "execution_count": 40,
     "metadata": {},
     "output_type": "execute_result"
    }
   ],
   "source": [
    "intents_json['intents'][4]['responses']"
   ]
  },
  {
   "cell_type": "code",
   "execution_count": 41,
   "metadata": {},
   "outputs": [
    {
     "name": "stdout",
     "output_type": "stream",
     "text": [
      "1/1 [==============================] - 0s 27ms/step\n",
      "[{'bye': 0.016788583}, {'canda': 0.0021324165}, {'canda_2': 0.00021285449}, {'canda_3': 2.7538941e-05}, {'complain': 3.0049758e-05}, {'complain_marah': 0.0006764973}, {'creator': 0.0004074495}, {'dokumen': 0.0014819383}, {'greet': 0.008652421}, {'keamanan_data': 2.9225503e-05}, {'mengubah_pilihan': 6.011419e-06}, {'nama': 0.0008038508}, {'nanya_apps': 0.033891607}, {'nanya_gobot': 0.074306644}, {'pembayaran': 0.018373461}, {'pembayaran_error': 0.00046996633}, {'pilihan': 0.0023890303}, {'pilihan_2': 0.00031272802}, {'random_talk': 0.00050499453}, {'random_talk3': 1.7338355e-07}, {'refund': 8.792205e-05}, {'reschedule_bantuan': 0.00014488088}, {'reschedule_info': 3.110614e-05}, {'salah_input': 1.103946e-06}, {'sop_covid': 0.019728137}, {'tanya wisata alam': 1.656065e-05}, {'thanks': 0.8183686}, {'vaksin_info': 1.0719335e-05}, {'weblink': 0.000113592345}]\n",
      "thanks\n"
     ]
    },
    {
     "data": {
      "text/plain": [
       "'GoBot tidak mengerti :( ...'"
      ]
     },
     "execution_count": 41,
     "metadata": {},
     "output_type": "execute_result"
    }
   ],
   "source": [
    "bot_response('')"
   ]
  },
  {
   "cell_type": "code",
   "execution_count": 42,
   "metadata": {},
   "outputs": [
    {
     "name": "stdout",
     "output_type": "stream",
     "text": [
      "1/1 [==============================] - 0s 37ms/step\n",
      "[{'bye': 0.00018788589}, {'canda': 0.0028878502}, {'canda_2': 2.3080349e-05}, {'canda_3': 9.586507e-06}, {'complain': 3.008553e-06}, {'complain_marah': 8.5835396e-05}, {'creator': 0.00023547075}, {'dokumen': 0.00032587815}, {'greet': 0.97452456}, {'keamanan_data': 1.8340517e-05}, {'mengubah_pilihan': 0.00011339223}, {'nama': 0.00021025894}, {'nanya_apps': 0.0008216914}, {'nanya_gobot': 0.0009202442}, {'pembayaran': 0.0012269367}, {'pembayaran_error': 0.0011567794}, {'pilihan': 0.0028104351}, {'pilihan_2': 2.7121663e-05}, {'random_talk': 9.506641e-05}, {'random_talk3': 2.8849857e-07}, {'refund': 0.00085488235}, {'reschedule_bantuan': 0.00055018725}, {'reschedule_info': 0.00016968008}, {'salah_input': 2.6107335e-07}, {'sop_covid': 0.00581381}, {'tanya wisata alam': 7.133755e-06}, {'thanks': 0.00676768}, {'vaksin_info': 8.315358e-07}, {'weblink': 0.0001518114}]\n",
      "greet\n"
     ]
    },
    {
     "data": {
      "text/plain": [
       "'Hai Kawan Gobot'"
      ]
     },
     "execution_count": 42,
     "metadata": {},
     "output_type": "execute_result"
    }
   ],
   "source": [
    "bot_response('Halo!')"
   ]
  },
  {
   "cell_type": "code",
   "execution_count": 43,
   "metadata": {},
   "outputs": [
    {
     "name": "stdout",
     "output_type": "stream",
     "text": [
      "1/1 [==============================] - 0s 29ms/step\n",
      "[{'bye': 0.00031148977}, {'canda': 0.09533282}, {'canda_2': 0.00047143013}, {'canda_3': 0.0011075889}, {'complain': 2.5697513e-05}, {'complain_marah': 3.4571673e-05}, {'creator': 9.543765e-06}, {'dokumen': 0.023383673}, {'greet': 0.0074723545}, {'keamanan_data': 0.0008417466}, {'mengubah_pilihan': 0.0014767386}, {'nama': 6.621531e-06}, {'nanya_apps': 0.0001164222}, {'nanya_gobot': 0.00024413719}, {'pembayaran': 0.00025506326}, {'pembayaran_error': 0.004522836}, {'pilihan': 0.8459014}, {'pilihan_2': 0.0013721872}, {'random_talk': 1.4475309e-05}, {'random_talk3': 1.3315518e-07}, {'refund': 0.0021569899}, {'reschedule_bantuan': 0.0041491906}, {'reschedule_info': 0.00020264367}, {'salah_input': 4.823164e-06}, {'sop_covid': 0.0030642275}, {'tanya wisata alam': 0.00010173203}, {'thanks': 0.006600521}, {'vaksin_info': 9.409729e-06}, {'weblink': 0.0008095368}]\n",
      "pilihan\n"
     ]
    },
    {
     "data": {
      "text/plain": [
       "'Mohon maaf kami hanya tersedia untuk liburan di Labuan Bajo saja.'"
      ]
     },
     "execution_count": 43,
     "metadata": {},
     "output_type": "execute_result"
    }
   ],
   "source": [
    "bot_response('bali')"
   ]
  },
  {
   "cell_type": "markdown",
   "metadata": {},
   "source": []
  },
  {
   "cell_type": "code",
   "execution_count": 44,
   "metadata": {},
   "outputs": [
    {
     "name": "stdout",
     "output_type": "stream",
     "text": [
      "1/1 [==============================] - 0s 31ms/step\n",
      "[{'bye': 0.96672744}, {'canda': 0.00024129644}, {'canda_2': 0.0013098845}, {'canda_3': 9.844987e-07}, {'complain': 0.00012588136}, {'complain_marah': 0.0018167015}, {'creator': 0.0030444008}, {'dokumen': 0.0001826118}, {'greet': 0.00027959768}, {'keamanan_data': 3.9179482e-05}, {'mengubah_pilihan': 2.1132125e-06}, {'nama': 0.008001266}, {'nanya_apps': 0.00010901369}, {'nanya_gobot': 0.0020965347}, {'pembayaran': 0.0026574307}, {'pembayaran_error': 1.9966553e-06}, {'pilihan': 3.452605e-05}, {'pilihan_2': 0.0010872519}, {'random_talk': 0.0004163614}, {'random_talk3': 1.3386053e-06}, {'refund': 8.61584e-07}, {'reschedule_bantuan': 3.4418265e-06}, {'reschedule_info': 0.00012260256}, {'salah_input': 5.5998594e-06}, {'sop_covid': 0.0024591752}, {'tanya wisata alam': 6.196432e-05}, {'thanks': 0.008766683}, {'vaksin_info': 0.00020395652}, {'weblink': 0.00020005512}]\n",
      "bye\n"
     ]
    },
    {
     "data": {
      "text/plain": [
       "'Kalau butuh bantuan, hubungi GoBot lagi ya'"
      ]
     },
     "execution_count": 44,
     "metadata": {},
     "output_type": "execute_result"
    }
   ],
   "source": [
    "bot_response('Dadah!')"
   ]
  },
  {
   "cell_type": "code",
   "execution_count": 45,
   "metadata": {},
   "outputs": [
    {
     "name": "stdout",
     "output_type": "stream",
     "text": [
      "1/1 [==============================] - 0s 26ms/step\n",
      "[{'bye': 0.00018788589}, {'canda': 0.0028878502}, {'canda_2': 2.3080349e-05}, {'canda_3': 9.586507e-06}, {'complain': 3.008553e-06}, {'complain_marah': 8.5835396e-05}, {'creator': 0.00023547075}, {'dokumen': 0.00032587815}, {'greet': 0.97452456}, {'keamanan_data': 1.8340517e-05}, {'mengubah_pilihan': 0.00011339223}, {'nama': 0.00021025894}, {'nanya_apps': 0.0008216914}, {'nanya_gobot': 0.0009202442}, {'pembayaran': 0.0012269367}, {'pembayaran_error': 0.0011567794}, {'pilihan': 0.0028104351}, {'pilihan_2': 2.7121663e-05}, {'random_talk': 9.506641e-05}, {'random_talk3': 2.8849857e-07}, {'refund': 0.00085488235}, {'reschedule_bantuan': 0.00055018725}, {'reschedule_info': 0.00016968008}, {'salah_input': 2.6107335e-07}, {'sop_covid': 0.00581381}, {'tanya wisata alam': 7.133755e-06}, {'thanks': 0.00676768}, {'vaksin_info': 8.315358e-07}, {'weblink': 0.0001518114}]\n",
      "greet\n"
     ]
    },
    {
     "data": {
      "text/plain": [
       "'Halo!'"
      ]
     },
     "execution_count": 45,
     "metadata": {},
     "output_type": "execute_result"
    }
   ],
   "source": [
    "bot_response('Halo!')"
   ]
  },
  {
   "cell_type": "code",
   "execution_count": null,
   "metadata": {},
   "outputs": [],
   "source": []
  }
 ],
 "metadata": {
  "kernelspec": {
   "display_name": "Python 3.10.2 64-bit",
   "language": "python",
   "name": "python3"
  },
  "language_info": {
   "codemirror_mode": {
    "name": "ipython",
    "version": 3
   },
   "file_extension": ".py",
   "mimetype": "text/x-python",
   "name": "python",
   "nbconvert_exporter": "python",
   "pygments_lexer": "ipython3",
   "version": "3.10.2"
  },
  "orig_nbformat": 4,
  "vscode": {
   "interpreter": {
    "hash": "f6d4618e7af4546ebad8ab782c82b55d92d10efd6ebf51140178db89315c3b3b"
   }
  }
 },
 "nbformat": 4,
 "nbformat_minor": 2
}
