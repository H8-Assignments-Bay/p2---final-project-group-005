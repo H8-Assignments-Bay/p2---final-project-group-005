{
 "cells": [
  {
   "cell_type": "markdown",
   "metadata": {},
   "source": [
    "# Model Clustering - Hotel Dataset"
   ]
  },
  {
   "cell_type": "markdown",
   "metadata": {},
   "source": [
    "____________"
   ]
  },
  {
   "cell_type": "markdown",
   "metadata": {},
   "source": [
    "Pada bagian ini, kita akan melakukan clustering pada hotel-hotel yang ada di Labuan Bajo. Clustering yang diharapkan adalah 3 cluster yang sesuai dengan kelas user yaitu Basic, Deluxe, dan King, maka pada bagian ini kita tetapkan n_cluster = 3. Model clustering yang akan kita gunakan adalah model K-Means, Agglomerative Clustering, dan Spectral Clustering. Apabila pada hasil clustering yang didapatkan menghasilkan cluster yang buruk atau tidak sesuai dengan kelas user, maka kita akan menerapkan manual clustering berdasarkan kolom tertentu yang terdapat pada dataset hotel."
   ]
  },
  {
   "cell_type": "markdown",
   "metadata": {},
   "source": [
    "---\n",
    "# Import Libraries"
   ]
  },
  {
   "cell_type": "code",
   "execution_count": 22,
   "metadata": {},
   "outputs": [],
   "source": [
    "# import library umum\n",
    "import pandas as pd\n",
    "import numpy as np\n",
    "import matplotlib.pyplot as plt\n",
    "import seaborn as sns\n",
    "import matplotlib.cm as cm\n",
    "\n",
    "# preprocessing\n",
    "from sklearn.preprocessing import RobustScaler, OrdinalEncoder, MinMaxScaler\n",
    "from statsmodels.stats.outliers_influence import variance_inflation_factor\n",
    "from sklearn.decomposition import PCA\n",
    "\n",
    "# model\n",
    "from sklearn.cluster import KMeans, SpectralClustering as SC, AgglomerativeClustering as AC\n",
    "\n",
    "# metrics\n",
    "from sklearn.metrics import silhouette_score, silhouette_samples\n",
    "\n",
    "# code untuk menghilangkan warning\n",
    "from warnings import filterwarnings\n",
    "filterwarnings('ignore')"
   ]
  },
  {
   "cell_type": "markdown",
   "metadata": {},
   "source": [
    "---\n",
    "# Data Loading"
   ]
  },
  {
   "cell_type": "code",
   "execution_count": 2,
   "metadata": {},
   "outputs": [
    {
     "data": {
      "text/html": [
       "<div>\n",
       "<style scoped>\n",
       "    .dataframe tbody tr th:only-of-type {\n",
       "        vertical-align: middle;\n",
       "    }\n",
       "\n",
       "    .dataframe tbody tr th {\n",
       "        vertical-align: top;\n",
       "    }\n",
       "\n",
       "    .dataframe thead th {\n",
       "        text-align: right;\n",
       "    }\n",
       "</style>\n",
       "<table border=\"1\" class=\"dataframe\">\n",
       "  <thead>\n",
       "    <tr style=\"text-align: right;\">\n",
       "      <th></th>\n",
       "      <th>hotel_name</th>\n",
       "      <th>rating</th>\n",
       "      <th>total_review</th>\n",
       "      <th>hotel_star</th>\n",
       "      <th>price</th>\n",
       "      <th>facility_pool</th>\n",
       "      <th>facility_wifi</th>\n",
       "      <th>facility_breakfast</th>\n",
       "      <th>facility_beach_access</th>\n",
       "      <th>facility_pet_friendly</th>\n",
       "      <th>facility_spa</th>\n",
       "      <th>coordinate</th>\n",
       "      <th>image</th>\n",
       "    </tr>\n",
       "  </thead>\n",
       "  <tbody>\n",
       "    <tr>\n",
       "      <th>0</th>\n",
       "      <td>Loccal Collection Hotel</td>\n",
       "      <td>4.2</td>\n",
       "      <td>905</td>\n",
       "      <td>4-star hotel</td>\n",
       "      <td>1930000</td>\n",
       "      <td>Yes</td>\n",
       "      <td>Yes</td>\n",
       "      <td>Yes</td>\n",
       "      <td>Yes</td>\n",
       "      <td>No</td>\n",
       "      <td>Yes</td>\n",
       "      <td>-8.483960342450034, 119.87987822532138</td>\n",
       "      <td>https://lh5.googleusercontent.com/proxy/tP_a7C...</td>\n",
       "    </tr>\n",
       "    <tr>\n",
       "      <th>1</th>\n",
       "      <td>Sunset Hill Hotel</td>\n",
       "      <td>4.1</td>\n",
       "      <td>277</td>\n",
       "      <td>3-star hotel</td>\n",
       "      <td>627000</td>\n",
       "      <td>No</td>\n",
       "      <td>Yes</td>\n",
       "      <td>Yes</td>\n",
       "      <td>No</td>\n",
       "      <td>No</td>\n",
       "      <td>No</td>\n",
       "      <td>-8.481018332731258, 119.8836460253213</td>\n",
       "      <td>https://lh5.googleusercontent.com/p/AF1QipOlUq...</td>\n",
       "    </tr>\n",
       "    <tr>\n",
       "      <th>2</th>\n",
       "      <td>Plataran Komodo Resort &amp; Spa</td>\n",
       "      <td>4.7</td>\n",
       "      <td>562</td>\n",
       "      <td>5-star hotel</td>\n",
       "      <td>4510000</td>\n",
       "      <td>Yes</td>\n",
       "      <td>Yes</td>\n",
       "      <td>Yes</td>\n",
       "      <td>Yes</td>\n",
       "      <td>No</td>\n",
       "      <td>Yes</td>\n",
       "      <td>-8.456531325825136, 119.87045562532123</td>\n",
       "      <td>https://lh5.googleusercontent.com/p/AF1QipNpwa...</td>\n",
       "    </tr>\n",
       "    <tr>\n",
       "      <th>3</th>\n",
       "      <td>Meruorah Komodo Labuan Bajo</td>\n",
       "      <td>4.7</td>\n",
       "      <td>488</td>\n",
       "      <td>5-star hotel</td>\n",
       "      <td>2930000</td>\n",
       "      <td>Yes</td>\n",
       "      <td>Yes</td>\n",
       "      <td>No</td>\n",
       "      <td>Yes</td>\n",
       "      <td>No</td>\n",
       "      <td>Yes</td>\n",
       "      <td>-8.490100723667199, 119.87555714066441</td>\n",
       "      <td>https://lh3.googleusercontent.com/proxy/gCR1_7...</td>\n",
       "    </tr>\n",
       "    <tr>\n",
       "      <th>4</th>\n",
       "      <td>Sylvia Beach Villa</td>\n",
       "      <td>4.2</td>\n",
       "      <td>79</td>\n",
       "      <td>3-star hotel</td>\n",
       "      <td>569000</td>\n",
       "      <td>Yes</td>\n",
       "      <td>Yes</td>\n",
       "      <td>Yes</td>\n",
       "      <td>Yes</td>\n",
       "      <td>No</td>\n",
       "      <td>No</td>\n",
       "      <td>-8.4621296653001, 119.87294071182824</td>\n",
       "      <td>https://lh3.googleusercontent.com/proxy/3fr3w7...</td>\n",
       "    </tr>\n",
       "  </tbody>\n",
       "</table>\n",
       "</div>"
      ],
      "text/plain": [
       "                     hotel_name  rating  total_review    hotel_star    price  \\\n",
       "0       Loccal Collection Hotel     4.2           905  4-star hotel  1930000   \n",
       "1             Sunset Hill Hotel     4.1           277  3-star hotel   627000   \n",
       "2  Plataran Komodo Resort & Spa     4.7           562  5-star hotel  4510000   \n",
       "3   Meruorah Komodo Labuan Bajo     4.7           488  5-star hotel  2930000   \n",
       "4            Sylvia Beach Villa     4.2            79  3-star hotel   569000   \n",
       "\n",
       "  facility_pool facility_wifi facility_breakfast facility_beach_access  \\\n",
       "0           Yes           Yes                Yes                   Yes   \n",
       "1            No           Yes                Yes                    No   \n",
       "2           Yes           Yes                Yes                   Yes   \n",
       "3           Yes           Yes                 No                   Yes   \n",
       "4           Yes           Yes                Yes                   Yes   \n",
       "\n",
       "  facility_pet_friendly facility_spa                              coordinate  \\\n",
       "0                    No          Yes  -8.483960342450034, 119.87987822532138   \n",
       "1                    No           No   -8.481018332731258, 119.8836460253213   \n",
       "2                    No          Yes  -8.456531325825136, 119.87045562532123   \n",
       "3                    No          Yes  -8.490100723667199, 119.87555714066441   \n",
       "4                    No           No    -8.4621296653001, 119.87294071182824   \n",
       "\n",
       "                                               image  \n",
       "0  https://lh5.googleusercontent.com/proxy/tP_a7C...  \n",
       "1  https://lh5.googleusercontent.com/p/AF1QipOlUq...  \n",
       "2  https://lh5.googleusercontent.com/p/AF1QipNpwa...  \n",
       "3  https://lh3.googleusercontent.com/proxy/gCR1_7...  \n",
       "4  https://lh3.googleusercontent.com/proxy/3fr3w7...  "
      ]
     },
     "execution_count": 2,
     "metadata": {},
     "output_type": "execute_result"
    }
   ],
   "source": [
    "# preview dataset hotel\n",
    "df_hotel = pd.read_csv('Data\\hotel.csv')\n",
    "df_hotel.head()"
   ]
  },
  {
   "cell_type": "code",
   "execution_count": 3,
   "metadata": {},
   "outputs": [
    {
     "data": {
      "text/plain": [
       "Index(['hotel_name', 'rating', 'total_review', 'hotel_star', 'price',\n",
       "       'facility_pool', 'facility_wifi', 'facility_breakfast',\n",
       "       'facility_beach_access', 'facility_pet_friendly', 'facility_spa',\n",
       "       'coordinate', 'image'],\n",
       "      dtype='object')"
      ]
     },
     "execution_count": 3,
     "metadata": {},
     "output_type": "execute_result"
    }
   ],
   "source": [
    "# nama kolom dataset hotel\n",
    "df_hotel.columns"
   ]
  },
  {
   "cell_type": "code",
   "execution_count": 4,
   "metadata": {},
   "outputs": [
    {
     "data": {
      "text/plain": [
       "(53, 13)"
      ]
     },
     "execution_count": 4,
     "metadata": {},
     "output_type": "execute_result"
    }
   ],
   "source": [
    "# ukuran dimensi dataset hotel\n",
    "df_hotel.shape"
   ]
  },
  {
   "cell_type": "markdown",
   "metadata": {},
   "source": [
    "Terdapat 53 data hotel dengan 13 kolom data."
   ]
  },
  {
   "cell_type": "code",
   "execution_count": 5,
   "metadata": {},
   "outputs": [
    {
     "name": "stdout",
     "output_type": "stream",
     "text": [
      "<class 'pandas.core.frame.DataFrame'>\n",
      "RangeIndex: 53 entries, 0 to 52\n",
      "Data columns (total 13 columns):\n",
      " #   Column                 Non-Null Count  Dtype  \n",
      "---  ------                 --------------  -----  \n",
      " 0   hotel_name             53 non-null     object \n",
      " 1   rating                 53 non-null     float64\n",
      " 2   total_review           53 non-null     int64  \n",
      " 3   hotel_star             53 non-null     object \n",
      " 4   price                  53 non-null     int64  \n",
      " 5   facility_pool          53 non-null     object \n",
      " 6   facility_wifi          53 non-null     object \n",
      " 7   facility_breakfast     53 non-null     object \n",
      " 8   facility_beach_access  53 non-null     object \n",
      " 9   facility_pet_friendly  53 non-null     object \n",
      " 10  facility_spa           53 non-null     object \n",
      " 11  coordinate             53 non-null     object \n",
      " 12  image                  53 non-null     object \n",
      "dtypes: float64(1), int64(2), object(10)\n",
      "memory usage: 5.5+ KB\n"
     ]
    }
   ],
   "source": [
    "# informasi dataset hotel\n",
    "df_hotel.info()"
   ]
  },
  {
   "cell_type": "markdown",
   "metadata": {},
   "source": [
    "---\n",
    "# Exploratory Data Analysis"
   ]
  },
  {
   "cell_type": "markdown",
   "metadata": {},
   "source": [
    "## Distribusi Data Numerik"
   ]
  },
  {
   "cell_type": "code",
   "execution_count": 6,
   "metadata": {},
   "outputs": [],
   "source": [
    "# membuat fungsi untuk distribusi data menggunakan histogram dan boxplot\n",
    "def plot_dist(df, col):\n",
    "    fig, axes = plt.subplots(ncols = 2, figsize = (15, 5))\n",
    "    \n",
    "    # histogram\n",
    "    sns.histplot(df[col],ax = axes[0], bins=30)\n",
    "    axes[0].set_title(f\"Histogram '{col}'\")\n",
    "    axes[0].axvline(df[col].mean(), color = 'red', linestyle = 'dashed', label = 'mean')\n",
    "    axes[0].axvline(df[col].median(), color = 'green', linestyle = 'dashed', label = 'median')\n",
    "    axes[0].legend()\n",
    "    \n",
    "    # boxplot\n",
    "    sns.boxplot(y=df[col], ax =  axes[1])\n",
    "    axes[1].set_title(f\"Boxplot '{col}'\")\n",
    "    \n",
    "    plt.show()\n",
    "    \n",
    "    # skewness\n",
    "    print('Skewness :', df[col].skew())\n",
    "    if -0.5 <= df[col].skew() <= 0.5:\n",
    "        print(\"Kolom '{}' berdistribusi normal\".format(col))\n",
    "    elif df[col].skew() > 0.5:\n",
    "        print(\"Kolom '{}' right skewed (miring ke kanan)\".format(col))\n",
    "    elif df[col].skew() < -0.5:\n",
    "        print(\"Kolom '{}' left skewed (miring ke kiri)\".format(col))"
   ]
  },
  {
   "cell_type": "code",
   "execution_count": 7,
   "metadata": {},
   "outputs": [
    {
     "data": {
      "image/png": "[encoded data removed]",
      "text/plain": [
       "<Figure size 1080x360 with 2 Axes>"
      ]
     },
     "metadata": {
      "needs_background": "light"
     },
     "output_type": "display_data"
    },
    {
     "name": "stdout",
     "output_type": "stream",
     "text": [
      "Skewness : 3.1530745524482584\n",
      "Kolom 'price' right skewed (miring ke kanan)\n"
     ]
    }
   ],
   "source": [
    "plot_dist(df_hotel, 'price')"
   ]
  },
  {
   "cell_type": "code",
   "execution_count": 8,
   "metadata": {},
   "outputs": [
    {
     "data": {
      "image/png": "[encoded data removed]",
      "text/plain": [
       "<Figure size 1080x360 with 2 Axes>"
      ]
     },
     "metadata": {
      "needs_background": "light"
     },
     "output_type": "display_data"
    },
    {
     "name": "stdout",
     "output_type": "stream",
     "text": [
      "Skewness : -0.3210004585791814\n",
      "Kolom 'rating' berdistribusi normal\n"
     ]
    }
   ],
   "source": [
    "plot_dist(df_hotel, 'rating')"
   ]
  },
  {
   "cell_type": "code",
   "execution_count": 9,
   "metadata": {},
   "outputs": [
    {
     "data": {
      "image/png": "[encoded data removed]",
      "text/plain": [
       "<Figure size 1080x360 with 2 Axes>"
      ]
     },
     "metadata": {
      "needs_background": "light"
     },
     "output_type": "display_data"
    },
    {
     "name": "stdout",
     "output_type": "stream",
     "text": [
      "Skewness : 2.672506410647718\n",
      "Kolom 'total_review' right skewed (miring ke kanan)\n"
     ]
    }
   ],
   "source": [
    "plot_dist(df_hotel, 'total_review')"
   ]
  },
  {
   "cell_type": "markdown",
   "metadata": {},
   "source": [
    "Dari hasil diatas, kita dapat mengetahui bahwa kolom `price` dan kolom `total_review` memiliki distribusi yang tidak normal. Hal ini perlu menjadi catatan pada bagian data preprocessing untuk menggunakan metode scaling yaitu Robust Scaler karena distribusi data numerik tidak normal."
   ]
  },
  {
   "cell_type": "markdown",
   "metadata": {},
   "source": [
    "## Analisis Hotel Star"
   ]
  },
  {
   "cell_type": "code",
   "execution_count": 9,
   "metadata": {},
   "outputs": [
    {
     "data": {
      "text/plain": [
       "3-star hotel    25\n",
       "2-star hotel    11\n",
       "4-star hotel     8\n",
       "1-star hotel     5\n",
       "5-star hotel     4\n",
       "Name: hotel_star, dtype: int64"
      ]
     },
     "execution_count": 9,
     "metadata": {},
     "output_type": "execute_result"
    }
   ],
   "source": [
    "df_hotel['hotel_star'].value_counts()"
   ]
  },
  {
   "cell_type": "code",
   "execution_count": 10,
   "metadata": {},
   "outputs": [
    {
     "data": {
      "image/png": "[encoded data removed]",
      "text/plain": [
       "<Figure size 864x720 with 1 Axes>"
      ]
     },
     "metadata": {
      "needs_background": "light"
     },
     "output_type": "display_data"
    }
   ],
   "source": [
    "plt.figure(figsize=(12,10))\n",
    "sns.barplot(data = df_hotel, x = 'hotel_star', y = 'price', order=['1-star hotel', '2-star hotel', '3-star hotel', '4-star hotel', '5-star hotel'])\n",
    "plt.title('Rata-rata Harga Hotel', size = 15)\n",
    "plt.xlabel('Bintang Hotel')\n",
    "plt.ylabel('Rata-rata Harga Hotel (Juta Rupiah)')\n",
    "plt.show()"
   ]
  },
  {
   "cell_type": "code",
   "execution_count": 11,
   "metadata": {},
   "outputs": [
    {
     "name": "stdout",
     "output_type": "stream",
     "text": [
      "Rata-rata harga hotel bintang 1 : 318600.0\n",
      "Minimum harga hotel bintang 1 : 176000\n",
      "Maksimum harga hotel bintang 1 : 438000 \n",
      "\n",
      "Rata-rata harga hotel bintang 2 : 390455.0\n",
      "Minimum harga hotel bintang 2 : 200000\n",
      "Maksimum harga hotel bintang 2 : 655000 \n",
      "\n",
      "Rata-rata harga hotel bintang 3 : 540880.0\n",
      "Minimum harga hotel bintang 3 : 270000\n",
      "Maksimum harga hotel bintang 3 : 893000 \n",
      "\n",
      "Rata-rata harga hotel bintang 4 : 959250.0\n",
      "Minimum harga hotel bintang 4 : 535000\n",
      "Maksimum harga hotel bintang 4 : 1930000 \n",
      "\n",
      "Rata-rata harga hotel bintang 5 : 3612500.0\n",
      "Minimum harga hotel bintang 5 : 2620000\n",
      "Maksimum harga hotel bintang 5 : 4510000 \n",
      "\n"
     ]
    }
   ],
   "source": [
    "print('Rata-rata harga hotel bintang 1 :', np.round(df_hotel[df_hotel['hotel_star'] == '1-star hotel']['price'].mean()))\n",
    "print('Minimum harga hotel bintang 1 :', np.round(df_hotel[df_hotel['hotel_star'] == '1-star hotel']['price'].min()))\n",
    "print('Maksimum harga hotel bintang 1 :', np.round(df_hotel[df_hotel['hotel_star'] == '1-star hotel']['price'].max()),'\\n')\n",
    "\n",
    "print('Rata-rata harga hotel bintang 2 :', np.round(df_hotel[df_hotel['hotel_star'] == '2-star hotel']['price'].mean()))\n",
    "print('Minimum harga hotel bintang 2 :', np.round(df_hotel[df_hotel['hotel_star'] == '2-star hotel']['price'].min()))\n",
    "print('Maksimum harga hotel bintang 2 :', np.round(df_hotel[df_hotel['hotel_star'] == '2-star hotel']['price'].max()),'\\n')\n",
    "\n",
    "print('Rata-rata harga hotel bintang 3 :', np.round(df_hotel[df_hotel['hotel_star'] == '3-star hotel']['price'].mean()))\n",
    "print('Minimum harga hotel bintang 3 :', np.round(df_hotel[df_hotel['hotel_star'] == '3-star hotel']['price'].min()))\n",
    "print('Maksimum harga hotel bintang 3 :', np.round(df_hotel[df_hotel['hotel_star'] == '3-star hotel']['price'].max()),'\\n')\n",
    "\n",
    "print('Rata-rata harga hotel bintang 4 :', np.round(df_hotel[df_hotel['hotel_star'] == '4-star hotel']['price'].mean()))\n",
    "print('Minimum harga hotel bintang 4 :', np.round(df_hotel[df_hotel['hotel_star'] == '4-star hotel']['price'].min()))\n",
    "print('Maksimum harga hotel bintang 4 :', np.round(df_hotel[df_hotel['hotel_star'] == '4-star hotel']['price'].max()),'\\n')\n",
    "\n",
    "print('Rata-rata harga hotel bintang 5 :', np.round(df_hotel[df_hotel['hotel_star'] == '5-star hotel']['price'].mean()))\n",
    "print('Minimum harga hotel bintang 5 :', np.round(df_hotel[df_hotel['hotel_star'] == '5-star hotel']['price'].min()))\n",
    "print('Maksimum harga hotel bintang 5 :', np.round(df_hotel[df_hotel['hotel_star'] == '5-star hotel']['price'].max()),'\\n')"
   ]
  },
  {
   "cell_type": "markdown",
   "metadata": {},
   "source": [
    "Berdasarkan analisis kolom `hotel_star` diatas, kita dapat melihat proporsi hotel bintang 1 sampai 5 pada dataset hotel ini. Hotel bintang 3 merupakan hotel paling banyak dengan jumlah 25 hotel. Analisis juga memperlihatkan semakin tinggi bintang hotelnya maka rata-rata harga hotel semakin mahal. Hal ini wajar karena semakin tinggi bintang hotel, maka semakin mahal harga hotel.  \n",
    "  \n",
    "Rata-rata harga hotel bintang 1 berada pada harga Rp. 318.600 , sedangkan harga hotel bintang 2 berada pada harga Rp. 390.455. Karena hotel bintang 1 dan 2 ini memiliki rata-rata harga hotel yang mirip, maka kita dapat gabungkan menjadi satu cluster. Rata-rata harga hotel bintang 3 berada pada harga Rp. 540.880, harga hotel bintang 3 ini sudah cukup jauh dengan harga hotel bintang 1 dan 2, sehingga hotel bintang 3 dapat menjadi cluster tersendiri. Rata-rata harga hotel bintang 4 berada pada harga Rp. 959.250, harga ini sudah dapat dikatakan cukup mahal dikalangan user traveler, maka untuk hotel bintang 4 dan 5 akan dapat kita gabungkan menjadi 1 cluster yang sama.  \n",
    "  \n",
    "Kesimpulan dari analisis Hotel star ini adalah kita dapat membagi hotel menjadi 3 cluster yaitu sebagai berikut:\n",
    "1. Hotel bintang 1 dan 2 -> Basic\n",
    "2. Hotel bintang 3 -> Deluxe\n",
    "3. Hotel bintang 4 dan 5 -> King  \n",
    "  \n",
    "\n",
    "Hasil clustering diatas berdasarkan analisa pada kolom `hotel_star` dan kolom `price`. Apabila pada hasil clustering menggunakan model menghasilkan model clustering yang buruk, maka kita dapat menggunakan clustering berdasarkan hasil analisa diatas."
   ]
  },
  {
   "cell_type": "markdown",
   "metadata": {},
   "source": [
    "## Analisis Range Harga Hotel"
   ]
  },
  {
   "cell_type": "code",
   "execution_count": 12,
   "metadata": {},
   "outputs": [
    {
     "data": {
      "text/html": [
       "<div>\n",
       "<style scoped>\n",
       "    .dataframe tbody tr th:only-of-type {\n",
       "        vertical-align: middle;\n",
       "    }\n",
       "\n",
       "    .dataframe tbody tr th {\n",
       "        vertical-align: top;\n",
       "    }\n",
       "\n",
       "    .dataframe thead th {\n",
       "        text-align: right;\n",
       "    }\n",
       "</style>\n",
       "<table border=\"1\" class=\"dataframe\">\n",
       "  <thead>\n",
       "    <tr style=\"text-align: right;\">\n",
       "      <th></th>\n",
       "      <th>rating</th>\n",
       "      <th>total_review</th>\n",
       "      <th>price</th>\n",
       "    </tr>\n",
       "  </thead>\n",
       "  <tbody>\n",
       "    <tr>\n",
       "      <th>count</th>\n",
       "      <td>53.000000</td>\n",
       "      <td>53.000000</td>\n",
       "      <td>5.300000e+01</td>\n",
       "    </tr>\n",
       "    <tr>\n",
       "      <th>mean</th>\n",
       "      <td>4.224528</td>\n",
       "      <td>317.415094</td>\n",
       "      <td>7.836604e+05</td>\n",
       "    </tr>\n",
       "    <tr>\n",
       "      <th>std</th>\n",
       "      <td>0.380236</td>\n",
       "      <td>438.963264</td>\n",
       "      <td>8.971595e+05</td>\n",
       "    </tr>\n",
       "    <tr>\n",
       "      <th>min</th>\n",
       "      <td>3.300000</td>\n",
       "      <td>2.000000</td>\n",
       "      <td>1.760000e+05</td>\n",
       "    </tr>\n",
       "    <tr>\n",
       "      <th>25%</th>\n",
       "      <td>4.000000</td>\n",
       "      <td>77.000000</td>\n",
       "      <td>3.510000e+05</td>\n",
       "    </tr>\n",
       "    <tr>\n",
       "      <th>50%</th>\n",
       "      <td>4.200000</td>\n",
       "      <td>160.000000</td>\n",
       "      <td>5.350000e+05</td>\n",
       "    </tr>\n",
       "    <tr>\n",
       "      <th>75%</th>\n",
       "      <td>4.500000</td>\n",
       "      <td>277.000000</td>\n",
       "      <td>7.440000e+05</td>\n",
       "    </tr>\n",
       "    <tr>\n",
       "      <th>max</th>\n",
       "      <td>4.900000</td>\n",
       "      <td>2192.000000</td>\n",
       "      <td>4.510000e+06</td>\n",
       "    </tr>\n",
       "  </tbody>\n",
       "</table>\n",
       "</div>"
      ],
      "text/plain": [
       "          rating  total_review         price\n",
       "count  53.000000     53.000000  5.300000e+01\n",
       "mean    4.224528    317.415094  7.836604e+05\n",
       "std     0.380236    438.963264  8.971595e+05\n",
       "min     3.300000      2.000000  1.760000e+05\n",
       "25%     4.000000     77.000000  3.510000e+05\n",
       "50%     4.200000    160.000000  5.350000e+05\n",
       "75%     4.500000    277.000000  7.440000e+05\n",
       "max     4.900000   2192.000000  4.510000e+06"
      ]
     },
     "execution_count": 12,
     "metadata": {},
     "output_type": "execute_result"
    }
   ],
   "source": [
    "df_hotel.describe()"
   ]
  },
  {
   "cell_type": "code",
   "execution_count": 14,
   "metadata": {},
   "outputs": [],
   "source": [
    "df_basic = df_hotel[df_hotel['price'] <= 400000]"
   ]
  },
  {
   "cell_type": "code",
   "execution_count": 15,
   "metadata": {},
   "outputs": [],
   "source": [
    "df_deluxe = df_hotel[(df_hotel['price'] >= 400000) & (df_hotel['price'] <= 900000)]"
   ]
  },
  {
   "cell_type": "code",
   "execution_count": 16,
   "metadata": {},
   "outputs": [],
   "source": [
    "df_king = df_hotel[df_hotel['price'] >= 900000]"
   ]
  },
  {
   "cell_type": "code",
   "execution_count": 17,
   "metadata": {},
   "outputs": [
    {
     "name": "stdout",
     "output_type": "stream",
     "text": [
      "53\n"
     ]
    }
   ],
   "source": [
    "print(df_basic.shape[0] + df_deluxe.shape[0] + df_king.shape[0])"
   ]
  },
  {
   "cell_type": "code",
   "execution_count": 13,
   "metadata": {},
   "outputs": [],
   "source": [
    "hotel_cluster = []\n",
    "\n",
    "for i in df_hotel['price']:\n",
    "    if  i <= 400000:\n",
    "        hotel_cluster.append('Basic')\n",
    "    elif 400000 <= i <= 900000:\n",
    "        hotel_cluster.append('Deluxe')\n",
    "    else:\n",
    "        hotel_cluster.append('King')"
   ]
  },
  {
   "cell_type": "code",
   "execution_count": 14,
   "metadata": {},
   "outputs": [
    {
     "data": {
      "text/plain": [
       "['King', 'Deluxe', 'King', 'King', 'Deluxe']"
      ]
     },
     "execution_count": 14,
     "metadata": {},
     "output_type": "execute_result"
    }
   ],
   "source": [
    "hotel_cluster[:5]"
   ]
  },
  {
   "cell_type": "code",
   "execution_count": 15,
   "metadata": {},
   "outputs": [],
   "source": [
    "df_hotel['cluster_hotel'] = hotel_cluster"
   ]
  },
  {
   "cell_type": "code",
   "execution_count": 16,
   "metadata": {},
   "outputs": [
    {
     "data": {
      "text/html": [
       "<div>\n",
       "<style scoped>\n",
       "    .dataframe tbody tr th:only-of-type {\n",
       "        vertical-align: middle;\n",
       "    }\n",
       "\n",
       "    .dataframe tbody tr th {\n",
       "        vertical-align: top;\n",
       "    }\n",
       "\n",
       "    .dataframe thead th {\n",
       "        text-align: right;\n",
       "    }\n",
       "</style>\n",
       "<table border=\"1\" class=\"dataframe\">\n",
       "  <thead>\n",
       "    <tr style=\"text-align: right;\">\n",
       "      <th></th>\n",
       "      <th>hotel_name</th>\n",
       "      <th>rating</th>\n",
       "      <th>total_review</th>\n",
       "      <th>hotel_star</th>\n",
       "      <th>price</th>\n",
       "      <th>facility_pool</th>\n",
       "      <th>facility_wifi</th>\n",
       "      <th>facility_breakfast</th>\n",
       "      <th>facility_beach_access</th>\n",
       "      <th>facility_pet_friendly</th>\n",
       "      <th>facility_spa</th>\n",
       "      <th>coordinate</th>\n",
       "      <th>image</th>\n",
       "      <th>cluster_hotel</th>\n",
       "    </tr>\n",
       "  </thead>\n",
       "  <tbody>\n",
       "    <tr>\n",
       "      <th>0</th>\n",
       "      <td>Loccal Collection Hotel</td>\n",
       "      <td>4.2</td>\n",
       "      <td>905</td>\n",
       "      <td>4-star hotel</td>\n",
       "      <td>1930000</td>\n",
       "      <td>Yes</td>\n",
       "      <td>Yes</td>\n",
       "      <td>Yes</td>\n",
       "      <td>Yes</td>\n",
       "      <td>No</td>\n",
       "      <td>Yes</td>\n",
       "      <td>-8.483960342450034, 119.87987822532138</td>\n",
       "      <td>https://lh5.googleusercontent.com/proxy/tP_a7C...</td>\n",
       "      <td>King</td>\n",
       "    </tr>\n",
       "    <tr>\n",
       "      <th>1</th>\n",
       "      <td>Sunset Hill Hotel</td>\n",
       "      <td>4.1</td>\n",
       "      <td>277</td>\n",
       "      <td>3-star hotel</td>\n",
       "      <td>627000</td>\n",
       "      <td>No</td>\n",
       "      <td>Yes</td>\n",
       "      <td>Yes</td>\n",
       "      <td>No</td>\n",
       "      <td>No</td>\n",
       "      <td>No</td>\n",
       "      <td>-8.481018332731258, 119.8836460253213</td>\n",
       "      <td>https://lh5.googleusercontent.com/p/AF1QipOlUq...</td>\n",
       "      <td>Deluxe</td>\n",
       "    </tr>\n",
       "    <tr>\n",
       "      <th>2</th>\n",
       "      <td>Plataran Komodo Resort &amp; Spa</td>\n",
       "      <td>4.7</td>\n",
       "      <td>562</td>\n",
       "      <td>5-star hotel</td>\n",
       "      <td>4510000</td>\n",
       "      <td>Yes</td>\n",
       "      <td>Yes</td>\n",
       "      <td>Yes</td>\n",
       "      <td>Yes</td>\n",
       "      <td>No</td>\n",
       "      <td>Yes</td>\n",
       "      <td>-8.456531325825136, 119.87045562532123</td>\n",
       "      <td>https://lh5.googleusercontent.com/p/AF1QipNpwa...</td>\n",
       "      <td>King</td>\n",
       "    </tr>\n",
       "    <tr>\n",
       "      <th>3</th>\n",
       "      <td>Meruorah Komodo Labuan Bajo</td>\n",
       "      <td>4.7</td>\n",
       "      <td>488</td>\n",
       "      <td>5-star hotel</td>\n",
       "      <td>2930000</td>\n",
       "      <td>Yes</td>\n",
       "      <td>Yes</td>\n",
       "      <td>No</td>\n",
       "      <td>Yes</td>\n",
       "      <td>No</td>\n",
       "      <td>Yes</td>\n",
       "      <td>-8.490100723667199, 119.87555714066441</td>\n",
       "      <td>https://lh3.googleusercontent.com/proxy/gCR1_7...</td>\n",
       "      <td>King</td>\n",
       "    </tr>\n",
       "    <tr>\n",
       "      <th>4</th>\n",
       "      <td>Sylvia Beach Villa</td>\n",
       "      <td>4.2</td>\n",
       "      <td>79</td>\n",
       "      <td>3-star hotel</td>\n",
       "      <td>569000</td>\n",
       "      <td>Yes</td>\n",
       "      <td>Yes</td>\n",
       "      <td>Yes</td>\n",
       "      <td>Yes</td>\n",
       "      <td>No</td>\n",
       "      <td>No</td>\n",
       "      <td>-8.4621296653001, 119.87294071182824</td>\n",
       "      <td>https://lh3.googleusercontent.com/proxy/3fr3w7...</td>\n",
       "      <td>Deluxe</td>\n",
       "    </tr>\n",
       "  </tbody>\n",
       "</table>\n",
       "</div>"
      ],
      "text/plain": [
       "                     hotel_name  rating  total_review    hotel_star    price  \\\n",
       "0       Loccal Collection Hotel     4.2           905  4-star hotel  1930000   \n",
       "1             Sunset Hill Hotel     4.1           277  3-star hotel   627000   \n",
       "2  Plataran Komodo Resort & Spa     4.7           562  5-star hotel  4510000   \n",
       "3   Meruorah Komodo Labuan Bajo     4.7           488  5-star hotel  2930000   \n",
       "4            Sylvia Beach Villa     4.2            79  3-star hotel   569000   \n",
       "\n",
       "  facility_pool facility_wifi facility_breakfast facility_beach_access  \\\n",
       "0           Yes           Yes                Yes                   Yes   \n",
       "1            No           Yes                Yes                    No   \n",
       "2           Yes           Yes                Yes                   Yes   \n",
       "3           Yes           Yes                 No                   Yes   \n",
       "4           Yes           Yes                Yes                   Yes   \n",
       "\n",
       "  facility_pet_friendly facility_spa                              coordinate  \\\n",
       "0                    No          Yes  -8.483960342450034, 119.87987822532138   \n",
       "1                    No           No   -8.481018332731258, 119.8836460253213   \n",
       "2                    No          Yes  -8.456531325825136, 119.87045562532123   \n",
       "3                    No          Yes  -8.490100723667199, 119.87555714066441   \n",
       "4                    No           No    -8.4621296653001, 119.87294071182824   \n",
       "\n",
       "                                               image cluster_hotel  \n",
       "0  https://lh5.googleusercontent.com/proxy/tP_a7C...          King  \n",
       "1  https://lh5.googleusercontent.com/p/AF1QipOlUq...        Deluxe  \n",
       "2  https://lh5.googleusercontent.com/p/AF1QipNpwa...          King  \n",
       "3  https://lh3.googleusercontent.com/proxy/gCR1_7...          King  \n",
       "4  https://lh3.googleusercontent.com/proxy/3fr3w7...        Deluxe  "
      ]
     },
     "execution_count": 16,
     "metadata": {},
     "output_type": "execute_result"
    }
   ],
   "source": [
    "df_hotel.head()"
   ]
  },
  {
   "cell_type": "code",
   "execution_count": 17,
   "metadata": {},
   "outputs": [
    {
     "data": {
      "text/plain": [
       "Deluxe    31\n",
       "Basic     15\n",
       "King       7\n",
       "Name: cluster_hotel, dtype: int64"
      ]
     },
     "execution_count": 17,
     "metadata": {},
     "output_type": "execute_result"
    }
   ],
   "source": [
    "df_hotel['cluster_hotel'].value_counts()"
   ]
  },
  {
   "cell_type": "code",
   "execution_count": 23,
   "metadata": {},
   "outputs": [],
   "source": [
    "df_hotel.to_csv('hotel_final.csv', index = False)"
   ]
  },
  {
   "cell_type": "code",
   "execution_count": 18,
   "metadata": {},
   "outputs": [],
   "source": [
    "df_hotel['overall_score'] = df_hotel['rating'] * 0.75 + df_hotel['total_review'] * 0.25"
   ]
  },
  {
   "cell_type": "code",
   "execution_count": 21,
   "metadata": {},
   "outputs": [
    {
     "data": {
      "text/html": [
       "<div>\n",
       "<style scoped>\n",
       "    .dataframe tbody tr th:only-of-type {\n",
       "        vertical-align: middle;\n",
       "    }\n",
       "\n",
       "    .dataframe tbody tr th {\n",
       "        vertical-align: top;\n",
       "    }\n",
       "\n",
       "    .dataframe thead th {\n",
       "        text-align: right;\n",
       "    }\n",
       "</style>\n",
       "<table border=\"1\" class=\"dataframe\">\n",
       "  <thead>\n",
       "    <tr style=\"text-align: right;\">\n",
       "      <th></th>\n",
       "      <th>rating</th>\n",
       "      <th>total_review</th>\n",
       "    </tr>\n",
       "  </thead>\n",
       "  <tbody>\n",
       "    <tr>\n",
       "      <th>0</th>\n",
       "      <td>4.2</td>\n",
       "      <td>905</td>\n",
       "    </tr>\n",
       "    <tr>\n",
       "      <th>1</th>\n",
       "      <td>4.1</td>\n",
       "      <td>277</td>\n",
       "    </tr>\n",
       "    <tr>\n",
       "      <th>2</th>\n",
       "      <td>4.7</td>\n",
       "      <td>562</td>\n",
       "    </tr>\n",
       "    <tr>\n",
       "      <th>3</th>\n",
       "      <td>4.7</td>\n",
       "      <td>488</td>\n",
       "    </tr>\n",
       "    <tr>\n",
       "      <th>4</th>\n",
       "      <td>4.2</td>\n",
       "      <td>79</td>\n",
       "    </tr>\n",
       "  </tbody>\n",
       "</table>\n",
       "</div>"
      ],
      "text/plain": [
       "   rating  total_review\n",
       "0     4.2           905\n",
       "1     4.1           277\n",
       "2     4.7           562\n",
       "3     4.7           488\n",
       "4     4.2            79"
      ]
     },
     "execution_count": 21,
     "metadata": {},
     "output_type": "execute_result"
    }
   ],
   "source": [
    "df_scaled = df_hotel[['rating','total_review']]\n",
    "df_scaled.head()"
   ]
  },
  {
   "cell_type": "code",
   "execution_count": 52,
   "metadata": {},
   "outputs": [],
   "source": [
    "scaler = MinMaxScaler()"
   ]
  },
  {
   "cell_type": "code",
   "execution_count": 53,
   "metadata": {},
   "outputs": [],
   "source": [
    "df_scaled = scaler.fit_transform(df_scaled)"
   ]
  },
  {
   "cell_type": "code",
   "execution_count": 54,
   "metadata": {},
   "outputs": [
    {
     "data": {
      "text/html": [
       "<div>\n",
       "<style scoped>\n",
       "    .dataframe tbody tr th:only-of-type {\n",
       "        vertical-align: middle;\n",
       "    }\n",
       "\n",
       "    .dataframe tbody tr th {\n",
       "        vertical-align: top;\n",
       "    }\n",
       "\n",
       "    .dataframe thead th {\n",
       "        text-align: right;\n",
       "    }\n",
       "</style>\n",
       "<table border=\"1\" class=\"dataframe\">\n",
       "  <thead>\n",
       "    <tr style=\"text-align: right;\">\n",
       "      <th></th>\n",
       "      <th>rating_scaled</th>\n",
       "      <th>review_scaled</th>\n",
       "    </tr>\n",
       "  </thead>\n",
       "  <tbody>\n",
       "    <tr>\n",
       "      <th>0</th>\n",
       "      <td>0.5625</td>\n",
       "      <td>0.412329</td>\n",
       "    </tr>\n",
       "    <tr>\n",
       "      <th>1</th>\n",
       "      <td>0.5000</td>\n",
       "      <td>0.125571</td>\n",
       "    </tr>\n",
       "    <tr>\n",
       "      <th>2</th>\n",
       "      <td>0.8750</td>\n",
       "      <td>0.255708</td>\n",
       "    </tr>\n",
       "    <tr>\n",
       "      <th>3</th>\n",
       "      <td>0.8750</td>\n",
       "      <td>0.221918</td>\n",
       "    </tr>\n",
       "    <tr>\n",
       "      <th>4</th>\n",
       "      <td>0.5625</td>\n",
       "      <td>0.035160</td>\n",
       "    </tr>\n",
       "  </tbody>\n",
       "</table>\n",
       "</div>"
      ],
      "text/plain": [
       "   rating_scaled  review_scaled\n",
       "0         0.5625       0.412329\n",
       "1         0.5000       0.125571\n",
       "2         0.8750       0.255708\n",
       "3         0.8750       0.221918\n",
       "4         0.5625       0.035160"
      ]
     },
     "execution_count": 54,
     "metadata": {},
     "output_type": "execute_result"
    }
   ],
   "source": [
    "scaled_df = pd.DataFrame(df_scaled, columns = ['rating_scaled','review_scaled'])\n",
    "scaled_df.head()"
   ]
  },
  {
   "cell_type": "code",
   "execution_count": 55,
   "metadata": {},
   "outputs": [],
   "source": [
    "# Merge dataframe inference dengan prediksi model\n",
    "df_hotel_final = pd.concat([df_hotel, scaled_df], axis = 1)"
   ]
  },
  {
   "cell_type": "code",
   "execution_count": 56,
   "metadata": {},
   "outputs": [],
   "source": [
    "df_hotel_final['overall_score'] = df_hotel_final['rating_scaled'] * 0.7 + df_hotel_final['review_scaled'] * 0.3"
   ]
  },
  {
   "cell_type": "code",
   "execution_count": 57,
   "metadata": {},
   "outputs": [
    {
     "data": {
      "text/html": [
       "<div>\n",
       "<style scoped>\n",
       "    .dataframe tbody tr th:only-of-type {\n",
       "        vertical-align: middle;\n",
       "    }\n",
       "\n",
       "    .dataframe tbody tr th {\n",
       "        vertical-align: top;\n",
       "    }\n",
       "\n",
       "    .dataframe thead th {\n",
       "        text-align: right;\n",
       "    }\n",
       "</style>\n",
       "<table border=\"1\" class=\"dataframe\">\n",
       "  <thead>\n",
       "    <tr style=\"text-align: right;\">\n",
       "      <th></th>\n",
       "      <th>hotel_name</th>\n",
       "      <th>rating</th>\n",
       "      <th>total_review</th>\n",
       "      <th>hotel_star</th>\n",
       "      <th>price</th>\n",
       "      <th>facility_pool</th>\n",
       "      <th>facility_wifi</th>\n",
       "      <th>facility_breakfast</th>\n",
       "      <th>facility_beach_access</th>\n",
       "      <th>facility_pet_friendly</th>\n",
       "      <th>facility_spa</th>\n",
       "      <th>coordinate</th>\n",
       "      <th>image</th>\n",
       "      <th>cluster_hotel</th>\n",
       "      <th>overall_score</th>\n",
       "      <th>rating_scaled</th>\n",
       "      <th>review_scaled</th>\n",
       "    </tr>\n",
       "  </thead>\n",
       "  <tbody>\n",
       "    <tr>\n",
       "      <th>5</th>\n",
       "      <td>AYANA Komodo Resort</td>\n",
       "      <td>4.8</td>\n",
       "      <td>2192</td>\n",
       "      <td>5-star hotel</td>\n",
       "      <td>4390000</td>\n",
       "      <td>Yes</td>\n",
       "      <td>Yes</td>\n",
       "      <td>Yes</td>\n",
       "      <td>Yes</td>\n",
       "      <td>No</td>\n",
       "      <td>Yes</td>\n",
       "      <td>-8.467415214884218, 119.874280488684</td>\n",
       "      <td>https://lh5.googleusercontent.com/p/AF1QipOEVL...</td>\n",
       "      <td>King</td>\n",
       "      <td>0.956250</td>\n",
       "      <td>0.9375</td>\n",
       "      <td>1.000000</td>\n",
       "    </tr>\n",
       "    <tr>\n",
       "      <th>2</th>\n",
       "      <td>Plataran Komodo Resort &amp; Spa</td>\n",
       "      <td>4.7</td>\n",
       "      <td>562</td>\n",
       "      <td>5-star hotel</td>\n",
       "      <td>4510000</td>\n",
       "      <td>Yes</td>\n",
       "      <td>Yes</td>\n",
       "      <td>Yes</td>\n",
       "      <td>Yes</td>\n",
       "      <td>No</td>\n",
       "      <td>Yes</td>\n",
       "      <td>-8.456531325825136, 119.87045562532123</td>\n",
       "      <td>https://lh5.googleusercontent.com/p/AF1QipNpwa...</td>\n",
       "      <td>King</td>\n",
       "      <td>0.689212</td>\n",
       "      <td>0.8750</td>\n",
       "      <td>0.255708</td>\n",
       "    </tr>\n",
       "    <tr>\n",
       "      <th>3</th>\n",
       "      <td>Meruorah Komodo Labuan Bajo</td>\n",
       "      <td>4.7</td>\n",
       "      <td>488</td>\n",
       "      <td>5-star hotel</td>\n",
       "      <td>2930000</td>\n",
       "      <td>Yes</td>\n",
       "      <td>Yes</td>\n",
       "      <td>No</td>\n",
       "      <td>Yes</td>\n",
       "      <td>No</td>\n",
       "      <td>Yes</td>\n",
       "      <td>-8.490100723667199, 119.87555714066441</td>\n",
       "      <td>https://lh3.googleusercontent.com/proxy/gCR1_7...</td>\n",
       "      <td>King</td>\n",
       "      <td>0.679075</td>\n",
       "      <td>0.8750</td>\n",
       "      <td>0.221918</td>\n",
       "    </tr>\n",
       "    <tr>\n",
       "      <th>37</th>\n",
       "      <td>Laprima Hotel</td>\n",
       "      <td>4.3</td>\n",
       "      <td>1734</td>\n",
       "      <td>4-star hotel</td>\n",
       "      <td>916000</td>\n",
       "      <td>Yes</td>\n",
       "      <td>No</td>\n",
       "      <td>Yes</td>\n",
       "      <td>No</td>\n",
       "      <td>No</td>\n",
       "      <td>Yes</td>\n",
       "      <td>-8.504417769950372, 119.87869669648593</td>\n",
       "      <td>https://lh6.googleusercontent.com/proxy/CXXJbE...</td>\n",
       "      <td>King</td>\n",
       "      <td>0.674760</td>\n",
       "      <td>0.6250</td>\n",
       "      <td>0.790868</td>\n",
       "    </tr>\n",
       "    <tr>\n",
       "      <th>33</th>\n",
       "      <td>Bintang Flores Hotel</td>\n",
       "      <td>4.4</td>\n",
       "      <td>1292</td>\n",
       "      <td>4-star hotel</td>\n",
       "      <td>1240000</td>\n",
       "      <td>Yes</td>\n",
       "      <td>Yes</td>\n",
       "      <td>Yes</td>\n",
       "      <td>No</td>\n",
       "      <td>No</td>\n",
       "      <td>No</td>\n",
       "      <td>-8.510840668598057, 119.87692874689506</td>\n",
       "      <td>https://lh5.googleusercontent.com/p/AF1QipPiVJ...</td>\n",
       "      <td>King</td>\n",
       "      <td>0.657962</td>\n",
       "      <td>0.6875</td>\n",
       "      <td>0.589041</td>\n",
       "    </tr>\n",
       "    <tr>\n",
       "      <th>20</th>\n",
       "      <td>Sudamala Resort, Komodo</td>\n",
       "      <td>4.5</td>\n",
       "      <td>203</td>\n",
       "      <td>5-star hotel</td>\n",
       "      <td>2620000</td>\n",
       "      <td>Yes</td>\n",
       "      <td>Yes</td>\n",
       "      <td>Yes</td>\n",
       "      <td>No</td>\n",
       "      <td>No</td>\n",
       "      <td>No</td>\n",
       "      <td>-8.513792448518869, 119.87625914066476</td>\n",
       "      <td>https://lh5.googleusercontent.com/proxy/9e1EYd...</td>\n",
       "      <td>King</td>\n",
       "      <td>0.552534</td>\n",
       "      <td>0.7500</td>\n",
       "      <td>0.091781</td>\n",
       "    </tr>\n",
       "    <tr>\n",
       "      <th>0</th>\n",
       "      <td>Loccal Collection Hotel</td>\n",
       "      <td>4.2</td>\n",
       "      <td>905</td>\n",
       "      <td>4-star hotel</td>\n",
       "      <td>1930000</td>\n",
       "      <td>Yes</td>\n",
       "      <td>Yes</td>\n",
       "      <td>Yes</td>\n",
       "      <td>Yes</td>\n",
       "      <td>No</td>\n",
       "      <td>Yes</td>\n",
       "      <td>-8.483960342450034, 119.87987822532138</td>\n",
       "      <td>https://lh5.googleusercontent.com/proxy/tP_a7C...</td>\n",
       "      <td>King</td>\n",
       "      <td>0.517449</td>\n",
       "      <td>0.5625</td>\n",
       "      <td>0.412329</td>\n",
       "    </tr>\n",
       "  </tbody>\n",
       "</table>\n",
       "</div>"
      ],
      "text/plain": [
       "                      hotel_name  rating  total_review    hotel_star    price  \\\n",
       "5            AYANA Komodo Resort     4.8          2192  5-star hotel  4390000   \n",
       "2   Plataran Komodo Resort & Spa     4.7           562  5-star hotel  4510000   \n",
       "3    Meruorah Komodo Labuan Bajo     4.7           488  5-star hotel  2930000   \n",
       "37                 Laprima Hotel     4.3          1734  4-star hotel   916000   \n",
       "33          Bintang Flores Hotel     4.4          1292  4-star hotel  1240000   \n",
       "20       Sudamala Resort, Komodo     4.5           203  5-star hotel  2620000   \n",
       "0        Loccal Collection Hotel     4.2           905  4-star hotel  1930000   \n",
       "\n",
       "   facility_pool facility_wifi facility_breakfast facility_beach_access  \\\n",
       "5            Yes           Yes                Yes                   Yes   \n",
       "2            Yes           Yes                Yes                   Yes   \n",
       "3            Yes           Yes                 No                   Yes   \n",
       "37           Yes            No                Yes                    No   \n",
       "33           Yes           Yes                Yes                    No   \n",
       "20           Yes           Yes                Yes                    No   \n",
       "0            Yes           Yes                Yes                   Yes   \n",
       "\n",
       "   facility_pet_friendly facility_spa                              coordinate  \\\n",
       "5                     No          Yes    -8.467415214884218, 119.874280488684   \n",
       "2                     No          Yes  -8.456531325825136, 119.87045562532123   \n",
       "3                     No          Yes  -8.490100723667199, 119.87555714066441   \n",
       "37                    No          Yes  -8.504417769950372, 119.87869669648593   \n",
       "33                    No           No  -8.510840668598057, 119.87692874689506   \n",
       "20                    No           No  -8.513792448518869, 119.87625914066476   \n",
       "0                     No          Yes  -8.483960342450034, 119.87987822532138   \n",
       "\n",
       "                                                image cluster_hotel  \\\n",
       "5   https://lh5.googleusercontent.com/p/AF1QipOEVL...          King   \n",
       "2   https://lh5.googleusercontent.com/p/AF1QipNpwa...          King   \n",
       "3   https://lh3.googleusercontent.com/proxy/gCR1_7...          King   \n",
       "37  https://lh6.googleusercontent.com/proxy/CXXJbE...          King   \n",
       "33  https://lh5.googleusercontent.com/p/AF1QipPiVJ...          King   \n",
       "20  https://lh5.googleusercontent.com/proxy/9e1EYd...          King   \n",
       "0   https://lh5.googleusercontent.com/proxy/tP_a7C...          King   \n",
       "\n",
       "    overall_score  rating_scaled  review_scaled  \n",
       "5        0.956250         0.9375       1.000000  \n",
       "2        0.689212         0.8750       0.255708  \n",
       "3        0.679075         0.8750       0.221918  \n",
       "37       0.674760         0.6250       0.790868  \n",
       "33       0.657962         0.6875       0.589041  \n",
       "20       0.552534         0.7500       0.091781  \n",
       "0        0.517449         0.5625       0.412329  "
      ]
     },
     "execution_count": 57,
     "metadata": {},
     "output_type": "execute_result"
    }
   ],
   "source": [
    "df_hotel_final[df_hotel_final['cluster_hotel'] == 'King'].sort_values('overall_score', ascending=False)"
   ]
  },
  {
   "cell_type": "code",
   "execution_count": 61,
   "metadata": {},
   "outputs": [],
   "source": [
    "df_hotel_final['lat'] = df_hotel_final['coordinate'].str.split(', ').str[0]\n",
    "df_hotel_final['lon'] = df_hotel_final['coordinate'].str.split(', ').str[1]"
   ]
  },
  {
   "cell_type": "code",
   "execution_count": 63,
   "metadata": {},
   "outputs": [
    {
     "data": {
      "text/html": [
       "<div>\n",
       "<style scoped>\n",
       "    .dataframe tbody tr th:only-of-type {\n",
       "        vertical-align: middle;\n",
       "    }\n",
       "\n",
       "    .dataframe tbody tr th {\n",
       "        vertical-align: top;\n",
       "    }\n",
       "\n",
       "    .dataframe thead th {\n",
       "        text-align: right;\n",
       "    }\n",
       "</style>\n",
       "<table border=\"1\" class=\"dataframe\">\n",
       "  <thead>\n",
       "    <tr style=\"text-align: right;\">\n",
       "      <th></th>\n",
       "      <th>hotel_name</th>\n",
       "      <th>rating</th>\n",
       "      <th>total_review</th>\n",
       "      <th>hotel_star</th>\n",
       "      <th>price</th>\n",
       "      <th>facility_pool</th>\n",
       "      <th>facility_wifi</th>\n",
       "      <th>facility_breakfast</th>\n",
       "      <th>facility_beach_access</th>\n",
       "      <th>facility_pet_friendly</th>\n",
       "      <th>facility_spa</th>\n",
       "      <th>coordinate</th>\n",
       "      <th>image</th>\n",
       "      <th>cluster_hotel</th>\n",
       "      <th>overall_score</th>\n",
       "      <th>rating_scaled</th>\n",
       "      <th>review_scaled</th>\n",
       "      <th>lat</th>\n",
       "      <th>lon</th>\n",
       "    </tr>\n",
       "  </thead>\n",
       "  <tbody>\n",
       "    <tr>\n",
       "      <th>0</th>\n",
       "      <td>Loccal Collection Hotel</td>\n",
       "      <td>4.2</td>\n",
       "      <td>905</td>\n",
       "      <td>4-star hotel</td>\n",
       "      <td>1930000</td>\n",
       "      <td>Yes</td>\n",
       "      <td>Yes</td>\n",
       "      <td>Yes</td>\n",
       "      <td>Yes</td>\n",
       "      <td>No</td>\n",
       "      <td>Yes</td>\n",
       "      <td>-8.483960342450034, 119.87987822532138</td>\n",
       "      <td>https://lh5.googleusercontent.com/proxy/tP_a7C...</td>\n",
       "      <td>King</td>\n",
       "      <td>0.517449</td>\n",
       "      <td>0.5625</td>\n",
       "      <td>0.412329</td>\n",
       "      <td>-8.483960342450034</td>\n",
       "      <td>119.87987822532138</td>\n",
       "    </tr>\n",
       "    <tr>\n",
       "      <th>1</th>\n",
       "      <td>Sunset Hill Hotel</td>\n",
       "      <td>4.1</td>\n",
       "      <td>277</td>\n",
       "      <td>3-star hotel</td>\n",
       "      <td>627000</td>\n",
       "      <td>No</td>\n",
       "      <td>Yes</td>\n",
       "      <td>Yes</td>\n",
       "      <td>No</td>\n",
       "      <td>No</td>\n",
       "      <td>No</td>\n",
       "      <td>-8.481018332731258, 119.8836460253213</td>\n",
       "      <td>https://lh5.googleusercontent.com/p/AF1QipOlUq...</td>\n",
       "      <td>Deluxe</td>\n",
       "      <td>0.387671</td>\n",
       "      <td>0.5000</td>\n",
       "      <td>0.125571</td>\n",
       "      <td>-8.481018332731258</td>\n",
       "      <td>119.8836460253213</td>\n",
       "    </tr>\n",
       "    <tr>\n",
       "      <th>2</th>\n",
       "      <td>Plataran Komodo Resort &amp; Spa</td>\n",
       "      <td>4.7</td>\n",
       "      <td>562</td>\n",
       "      <td>5-star hotel</td>\n",
       "      <td>4510000</td>\n",
       "      <td>Yes</td>\n",
       "      <td>Yes</td>\n",
       "      <td>Yes</td>\n",
       "      <td>Yes</td>\n",
       "      <td>No</td>\n",
       "      <td>Yes</td>\n",
       "      <td>-8.456531325825136, 119.87045562532123</td>\n",
       "      <td>https://lh5.googleusercontent.com/p/AF1QipNpwa...</td>\n",
       "      <td>King</td>\n",
       "      <td>0.689212</td>\n",
       "      <td>0.8750</td>\n",
       "      <td>0.255708</td>\n",
       "      <td>-8.456531325825136</td>\n",
       "      <td>119.87045562532123</td>\n",
       "    </tr>\n",
       "    <tr>\n",
       "      <th>3</th>\n",
       "      <td>Meruorah Komodo Labuan Bajo</td>\n",
       "      <td>4.7</td>\n",
       "      <td>488</td>\n",
       "      <td>5-star hotel</td>\n",
       "      <td>2930000</td>\n",
       "      <td>Yes</td>\n",
       "      <td>Yes</td>\n",
       "      <td>No</td>\n",
       "      <td>Yes</td>\n",
       "      <td>No</td>\n",
       "      <td>Yes</td>\n",
       "      <td>-8.490100723667199, 119.87555714066441</td>\n",
       "      <td>https://lh3.googleusercontent.com/proxy/gCR1_7...</td>\n",
       "      <td>King</td>\n",
       "      <td>0.679075</td>\n",
       "      <td>0.8750</td>\n",
       "      <td>0.221918</td>\n",
       "      <td>-8.490100723667199</td>\n",
       "      <td>119.87555714066441</td>\n",
       "    </tr>\n",
       "    <tr>\n",
       "      <th>4</th>\n",
       "      <td>Sylvia Beach Villa</td>\n",
       "      <td>4.2</td>\n",
       "      <td>79</td>\n",
       "      <td>3-star hotel</td>\n",
       "      <td>569000</td>\n",
       "      <td>Yes</td>\n",
       "      <td>Yes</td>\n",
       "      <td>Yes</td>\n",
       "      <td>Yes</td>\n",
       "      <td>No</td>\n",
       "      <td>No</td>\n",
       "      <td>-8.4621296653001, 119.87294071182824</td>\n",
       "      <td>https://lh3.googleusercontent.com/proxy/3fr3w7...</td>\n",
       "      <td>Deluxe</td>\n",
       "      <td>0.404298</td>\n",
       "      <td>0.5625</td>\n",
       "      <td>0.035160</td>\n",
       "      <td>-8.4621296653001</td>\n",
       "      <td>119.87294071182824</td>\n",
       "    </tr>\n",
       "  </tbody>\n",
       "</table>\n",
       "</div>"
      ],
      "text/plain": [
       "                     hotel_name  rating  total_review    hotel_star    price  \\\n",
       "0       Loccal Collection Hotel     4.2           905  4-star hotel  1930000   \n",
       "1             Sunset Hill Hotel     4.1           277  3-star hotel   627000   \n",
       "2  Plataran Komodo Resort & Spa     4.7           562  5-star hotel  4510000   \n",
       "3   Meruorah Komodo Labuan Bajo     4.7           488  5-star hotel  2930000   \n",
       "4            Sylvia Beach Villa     4.2            79  3-star hotel   569000   \n",
       "\n",
       "  facility_pool facility_wifi facility_breakfast facility_beach_access  \\\n",
       "0           Yes           Yes                Yes                   Yes   \n",
       "1            No           Yes                Yes                    No   \n",
       "2           Yes           Yes                Yes                   Yes   \n",
       "3           Yes           Yes                 No                   Yes   \n",
       "4           Yes           Yes                Yes                   Yes   \n",
       "\n",
       "  facility_pet_friendly facility_spa                              coordinate  \\\n",
       "0                    No          Yes  -8.483960342450034, 119.87987822532138   \n",
       "1                    No           No   -8.481018332731258, 119.8836460253213   \n",
       "2                    No          Yes  -8.456531325825136, 119.87045562532123   \n",
       "3                    No          Yes  -8.490100723667199, 119.87555714066441   \n",
       "4                    No           No    -8.4621296653001, 119.87294071182824   \n",
       "\n",
       "                                               image cluster_hotel  \\\n",
       "0  https://lh5.googleusercontent.com/proxy/tP_a7C...          King   \n",
       "1  https://lh5.googleusercontent.com/p/AF1QipOlUq...        Deluxe   \n",
       "2  https://lh5.googleusercontent.com/p/AF1QipNpwa...          King   \n",
       "3  https://lh3.googleusercontent.com/proxy/gCR1_7...          King   \n",
       "4  https://lh3.googleusercontent.com/proxy/3fr3w7...        Deluxe   \n",
       "\n",
       "   overall_score  rating_scaled  review_scaled                 lat  \\\n",
       "0       0.517449         0.5625       0.412329  -8.483960342450034   \n",
       "1       0.387671         0.5000       0.125571  -8.481018332731258   \n",
       "2       0.689212         0.8750       0.255708  -8.456531325825136   \n",
       "3       0.679075         0.8750       0.221918  -8.490100723667199   \n",
       "4       0.404298         0.5625       0.035160    -8.4621296653001   \n",
       "\n",
       "                  lon  \n",
       "0  119.87987822532138  \n",
       "1   119.8836460253213  \n",
       "2  119.87045562532123  \n",
       "3  119.87555714066441  \n",
       "4  119.87294071182824  "
      ]
     },
     "execution_count": 63,
     "metadata": {},
     "output_type": "execute_result"
    }
   ],
   "source": [
    "df_hotel_final.head()"
   ]
  },
  {
   "cell_type": "code",
   "execution_count": 64,
   "metadata": {},
   "outputs": [],
   "source": [
    "df_hotel_final.to_csv('hotel_final.csv', index = False)"
   ]
  },
  {
   "cell_type": "code",
   "execution_count": null,
   "metadata": {},
   "outputs": [],
   "source": [
    "df[df['hotel'] == a]"
   ]
  },
  {
   "cell_type": "markdown",
   "metadata": {},
   "source": [
    "# Coba"
   ]
  },
  {
   "cell_type": "code",
   "execution_count": 68,
   "metadata": {},
   "outputs": [
    {
     "data": {
      "text/html": [
       "<div>\n",
       "<style scoped>\n",
       "    .dataframe tbody tr th:only-of-type {\n",
       "        vertical-align: middle;\n",
       "    }\n",
       "\n",
       "    .dataframe tbody tr th {\n",
       "        vertical-align: top;\n",
       "    }\n",
       "\n",
       "    .dataframe thead th {\n",
       "        text-align: right;\n",
       "    }\n",
       "</style>\n",
       "<table border=\"1\" class=\"dataframe\">\n",
       "  <thead>\n",
       "    <tr style=\"text-align: right;\">\n",
       "      <th></th>\n",
       "      <th>hotel_name</th>\n",
       "      <th>rating</th>\n",
       "      <th>total_review</th>\n",
       "      <th>hotel_star</th>\n",
       "      <th>price</th>\n",
       "      <th>facility_pool</th>\n",
       "      <th>facility_wifi</th>\n",
       "      <th>facility_breakfast</th>\n",
       "      <th>facility_beach_access</th>\n",
       "      <th>facility_pet_friendly</th>\n",
       "      <th>facility_spa</th>\n",
       "      <th>coordinate</th>\n",
       "      <th>image</th>\n",
       "      <th>cluster_hotel</th>\n",
       "      <th>overall_score</th>\n",
       "      <th>rating_scaled</th>\n",
       "      <th>review_scaled</th>\n",
       "      <th>lat</th>\n",
       "      <th>lon</th>\n",
       "    </tr>\n",
       "  </thead>\n",
       "  <tbody>\n",
       "    <tr>\n",
       "      <th>0</th>\n",
       "      <td>Loccal Collection Hotel</td>\n",
       "      <td>4.2</td>\n",
       "      <td>905</td>\n",
       "      <td>4-star hotel</td>\n",
       "      <td>1930000</td>\n",
       "      <td>Yes</td>\n",
       "      <td>Yes</td>\n",
       "      <td>Yes</td>\n",
       "      <td>Yes</td>\n",
       "      <td>No</td>\n",
       "      <td>Yes</td>\n",
       "      <td>-8.483960342450034, 119.87987822532138</td>\n",
       "      <td>https://lh5.googleusercontent.com/proxy/tP_a7C...</td>\n",
       "      <td>King</td>\n",
       "      <td>0.517449</td>\n",
       "      <td>0.5625</td>\n",
       "      <td>0.412329</td>\n",
       "      <td>-8.483960342450034</td>\n",
       "      <td>119.87987822532138</td>\n",
       "    </tr>\n",
       "    <tr>\n",
       "      <th>2</th>\n",
       "      <td>Plataran Komodo Resort &amp; Spa</td>\n",
       "      <td>4.7</td>\n",
       "      <td>562</td>\n",
       "      <td>5-star hotel</td>\n",
       "      <td>4510000</td>\n",
       "      <td>Yes</td>\n",
       "      <td>Yes</td>\n",
       "      <td>Yes</td>\n",
       "      <td>Yes</td>\n",
       "      <td>No</td>\n",
       "      <td>Yes</td>\n",
       "      <td>-8.456531325825136, 119.87045562532123</td>\n",
       "      <td>https://lh5.googleusercontent.com/p/AF1QipNpwa...</td>\n",
       "      <td>King</td>\n",
       "      <td>0.689212</td>\n",
       "      <td>0.8750</td>\n",
       "      <td>0.255708</td>\n",
       "      <td>-8.456531325825136</td>\n",
       "      <td>119.87045562532123</td>\n",
       "    </tr>\n",
       "    <tr>\n",
       "      <th>5</th>\n",
       "      <td>AYANA Komodo Resort</td>\n",
       "      <td>4.8</td>\n",
       "      <td>2192</td>\n",
       "      <td>5-star hotel</td>\n",
       "      <td>4390000</td>\n",
       "      <td>Yes</td>\n",
       "      <td>Yes</td>\n",
       "      <td>Yes</td>\n",
       "      <td>Yes</td>\n",
       "      <td>No</td>\n",
       "      <td>Yes</td>\n",
       "      <td>-8.467415214884218, 119.874280488684</td>\n",
       "      <td>https://lh5.googleusercontent.com/p/AF1QipOEVL...</td>\n",
       "      <td>King</td>\n",
       "      <td>0.956250</td>\n",
       "      <td>0.9375</td>\n",
       "      <td>1.000000</td>\n",
       "      <td>-8.467415214884218</td>\n",
       "      <td>119.874280488684</td>\n",
       "    </tr>\n",
       "    <tr>\n",
       "      <th>20</th>\n",
       "      <td>Sudamala Resort, Komodo</td>\n",
       "      <td>4.5</td>\n",
       "      <td>203</td>\n",
       "      <td>5-star hotel</td>\n",
       "      <td>2620000</td>\n",
       "      <td>Yes</td>\n",
       "      <td>Yes</td>\n",
       "      <td>Yes</td>\n",
       "      <td>No</td>\n",
       "      <td>No</td>\n",
       "      <td>No</td>\n",
       "      <td>-8.513792448518869, 119.87625914066476</td>\n",
       "      <td>https://lh5.googleusercontent.com/proxy/9e1EYd...</td>\n",
       "      <td>King</td>\n",
       "      <td>0.552534</td>\n",
       "      <td>0.7500</td>\n",
       "      <td>0.091781</td>\n",
       "      <td>-8.513792448518869</td>\n",
       "      <td>119.87625914066476</td>\n",
       "    </tr>\n",
       "    <tr>\n",
       "      <th>33</th>\n",
       "      <td>Bintang Flores Hotel</td>\n",
       "      <td>4.4</td>\n",
       "      <td>1292</td>\n",
       "      <td>4-star hotel</td>\n",
       "      <td>1240000</td>\n",
       "      <td>Yes</td>\n",
       "      <td>Yes</td>\n",
       "      <td>Yes</td>\n",
       "      <td>No</td>\n",
       "      <td>No</td>\n",
       "      <td>No</td>\n",
       "      <td>-8.510840668598057, 119.87692874689506</td>\n",
       "      <td>https://lh5.googleusercontent.com/p/AF1QipPiVJ...</td>\n",
       "      <td>King</td>\n",
       "      <td>0.657962</td>\n",
       "      <td>0.6875</td>\n",
       "      <td>0.589041</td>\n",
       "      <td>-8.510840668598057</td>\n",
       "      <td>119.87692874689506</td>\n",
       "    </tr>\n",
       "    <tr>\n",
       "      <th>37</th>\n",
       "      <td>Laprima Hotel</td>\n",
       "      <td>4.3</td>\n",
       "      <td>1734</td>\n",
       "      <td>4-star hotel</td>\n",
       "      <td>916000</td>\n",
       "      <td>Yes</td>\n",
       "      <td>No</td>\n",
       "      <td>Yes</td>\n",
       "      <td>No</td>\n",
       "      <td>No</td>\n",
       "      <td>Yes</td>\n",
       "      <td>-8.504417769950372, 119.87869669648593</td>\n",
       "      <td>https://lh6.googleusercontent.com/proxy/CXXJbE...</td>\n",
       "      <td>King</td>\n",
       "      <td>0.674760</td>\n",
       "      <td>0.6250</td>\n",
       "      <td>0.790868</td>\n",
       "      <td>-8.504417769950372</td>\n",
       "      <td>119.87869669648593</td>\n",
       "    </tr>\n",
       "  </tbody>\n",
       "</table>\n",
       "</div>"
      ],
      "text/plain": [
       "                      hotel_name  rating  total_review    hotel_star    price  \\\n",
       "0        Loccal Collection Hotel     4.2           905  4-star hotel  1930000   \n",
       "2   Plataran Komodo Resort & Spa     4.7           562  5-star hotel  4510000   \n",
       "5            AYANA Komodo Resort     4.8          2192  5-star hotel  4390000   \n",
       "20       Sudamala Resort, Komodo     4.5           203  5-star hotel  2620000   \n",
       "33          Bintang Flores Hotel     4.4          1292  4-star hotel  1240000   \n",
       "37                 Laprima Hotel     4.3          1734  4-star hotel   916000   \n",
       "\n",
       "   facility_pool facility_wifi facility_breakfast facility_beach_access  \\\n",
       "0            Yes           Yes                Yes                   Yes   \n",
       "2            Yes           Yes                Yes                   Yes   \n",
       "5            Yes           Yes                Yes                   Yes   \n",
       "20           Yes           Yes                Yes                    No   \n",
       "33           Yes           Yes                Yes                    No   \n",
       "37           Yes            No                Yes                    No   \n",
       "\n",
       "   facility_pet_friendly facility_spa                              coordinate  \\\n",
       "0                     No          Yes  -8.483960342450034, 119.87987822532138   \n",
       "2                     No          Yes  -8.456531325825136, 119.87045562532123   \n",
       "5                     No          Yes    -8.467415214884218, 119.874280488684   \n",
       "20                    No           No  -8.513792448518869, 119.87625914066476   \n",
       "33                    No           No  -8.510840668598057, 119.87692874689506   \n",
       "37                    No          Yes  -8.504417769950372, 119.87869669648593   \n",
       "\n",
       "                                                image cluster_hotel  \\\n",
       "0   https://lh5.googleusercontent.com/proxy/tP_a7C...          King   \n",
       "2   https://lh5.googleusercontent.com/p/AF1QipNpwa...          King   \n",
       "5   https://lh5.googleusercontent.com/p/AF1QipOEVL...          King   \n",
       "20  https://lh5.googleusercontent.com/proxy/9e1EYd...          King   \n",
       "33  https://lh5.googleusercontent.com/p/AF1QipPiVJ...          King   \n",
       "37  https://lh6.googleusercontent.com/proxy/CXXJbE...          King   \n",
       "\n",
       "    overall_score  rating_scaled  review_scaled                 lat  \\\n",
       "0        0.517449         0.5625       0.412329  -8.483960342450034   \n",
       "2        0.689212         0.8750       0.255708  -8.456531325825136   \n",
       "5        0.956250         0.9375       1.000000  -8.467415214884218   \n",
       "20       0.552534         0.7500       0.091781  -8.513792448518869   \n",
       "33       0.657962         0.6875       0.589041  -8.510840668598057   \n",
       "37       0.674760         0.6250       0.790868  -8.504417769950372   \n",
       "\n",
       "                   lon  \n",
       "0   119.87987822532138  \n",
       "2   119.87045562532123  \n",
       "5     119.874280488684  \n",
       "20  119.87625914066476  \n",
       "33  119.87692874689506  \n",
       "37  119.87869669648593  "
      ]
     },
     "execution_count": 68,
     "metadata": {},
     "output_type": "execute_result"
    }
   ],
   "source": [
    "df_hotel_final[(df_hotel_final['cluster_hotel'] == 'King') & (df_hotel_final['facility_pool'] == 'Yes') & (df_hotel_final['facility_breakfast'] == 'Yes')]"
   ]
  },
  {
   "cell_type": "markdown",
   "metadata": {},
   "source": [
    "---\n",
    "# Data Preprocessing"
   ]
  },
  {
   "cell_type": "markdown",
   "metadata": {},
   "source": [
    "## Split Fitur (X) dan Kolom ID (X_id)"
   ]
  },
  {
   "cell_type": "code",
   "execution_count": 10,
   "metadata": {},
   "outputs": [],
   "source": [
    "X_id = df_hotel['hotel_name']\n",
    "X = df_hotel.drop(['hotel_name', 'facility_pool', 'facility_wifi', 'facility_breakfast', 'facility_beach_access', 'facility_pet_friendly', 'facility_spa', 'coordinate', 'image'], axis = 1)"
   ]
  },
  {
   "cell_type": "code",
   "execution_count": 12,
   "metadata": {},
   "outputs": [
    {
     "data": {
      "text/plain": [
       "0         Loccal Collection Hotel\n",
       "1               Sunset Hill Hotel\n",
       "2    Plataran Komodo Resort & Spa\n",
       "3     Meruorah Komodo Labuan Bajo\n",
       "4              Sylvia Beach Villa\n",
       "Name: hotel_name, dtype: object"
      ]
     },
     "execution_count": 12,
     "metadata": {},
     "output_type": "execute_result"
    }
   ],
   "source": [
    "X_id.head()"
   ]
  },
  {
   "cell_type": "code",
   "execution_count": 13,
   "metadata": {},
   "outputs": [
    {
     "data": {
      "text/html": [
       "<div>\n",
       "<style scoped>\n",
       "    .dataframe tbody tr th:only-of-type {\n",
       "        vertical-align: middle;\n",
       "    }\n",
       "\n",
       "    .dataframe tbody tr th {\n",
       "        vertical-align: top;\n",
       "    }\n",
       "\n",
       "    .dataframe thead th {\n",
       "        text-align: right;\n",
       "    }\n",
       "</style>\n",
       "<table border=\"1\" class=\"dataframe\">\n",
       "  <thead>\n",
       "    <tr style=\"text-align: right;\">\n",
       "      <th></th>\n",
       "      <th>rating</th>\n",
       "      <th>total_review</th>\n",
       "      <th>hotel_star</th>\n",
       "      <th>price</th>\n",
       "    </tr>\n",
       "  </thead>\n",
       "  <tbody>\n",
       "    <tr>\n",
       "      <th>0</th>\n",
       "      <td>4.2</td>\n",
       "      <td>905</td>\n",
       "      <td>4-star hotel</td>\n",
       "      <td>1930000</td>\n",
       "    </tr>\n",
       "    <tr>\n",
       "      <th>1</th>\n",
       "      <td>4.1</td>\n",
       "      <td>277</td>\n",
       "      <td>3-star hotel</td>\n",
       "      <td>627000</td>\n",
       "    </tr>\n",
       "    <tr>\n",
       "      <th>2</th>\n",
       "      <td>4.7</td>\n",
       "      <td>562</td>\n",
       "      <td>5-star hotel</td>\n",
       "      <td>4510000</td>\n",
       "    </tr>\n",
       "    <tr>\n",
       "      <th>3</th>\n",
       "      <td>4.7</td>\n",
       "      <td>488</td>\n",
       "      <td>5-star hotel</td>\n",
       "      <td>2930000</td>\n",
       "    </tr>\n",
       "    <tr>\n",
       "      <th>4</th>\n",
       "      <td>4.2</td>\n",
       "      <td>79</td>\n",
       "      <td>3-star hotel</td>\n",
       "      <td>569000</td>\n",
       "    </tr>\n",
       "  </tbody>\n",
       "</table>\n",
       "</div>"
      ],
      "text/plain": [
       "   rating  total_review    hotel_star    price\n",
       "0     4.2           905  4-star hotel  1930000\n",
       "1     4.1           277  3-star hotel   627000\n",
       "2     4.7           562  5-star hotel  4510000\n",
       "3     4.7           488  5-star hotel  2930000\n",
       "4     4.2            79  3-star hotel   569000"
      ]
     },
     "execution_count": 13,
     "metadata": {},
     "output_type": "execute_result"
    }
   ],
   "source": [
    "X.head()"
   ]
  },
  {
   "cell_type": "code",
   "execution_count": 32,
   "metadata": {},
   "outputs": [
    {
     "data": {
      "text/html": [
       "<div>\n",
       "<style scoped>\n",
       "    .dataframe tbody tr th:only-of-type {\n",
       "        vertical-align: middle;\n",
       "    }\n",
       "\n",
       "    .dataframe tbody tr th {\n",
       "        vertical-align: top;\n",
       "    }\n",
       "\n",
       "    .dataframe thead th {\n",
       "        text-align: right;\n",
       "    }\n",
       "</style>\n",
       "<table border=\"1\" class=\"dataframe\">\n",
       "  <thead>\n",
       "    <tr style=\"text-align: right;\">\n",
       "      <th></th>\n",
       "      <th>rating</th>\n",
       "      <th>total_review</th>\n",
       "      <th>price</th>\n",
       "    </tr>\n",
       "  </thead>\n",
       "  <tbody>\n",
       "    <tr>\n",
       "      <th>0</th>\n",
       "      <td>4.2</td>\n",
       "      <td>905</td>\n",
       "      <td>1930000</td>\n",
       "    </tr>\n",
       "    <tr>\n",
       "      <th>1</th>\n",
       "      <td>4.1</td>\n",
       "      <td>277</td>\n",
       "      <td>627000</td>\n",
       "    </tr>\n",
       "    <tr>\n",
       "      <th>2</th>\n",
       "      <td>4.7</td>\n",
       "      <td>562</td>\n",
       "      <td>4510000</td>\n",
       "    </tr>\n",
       "    <tr>\n",
       "      <th>3</th>\n",
       "      <td>4.7</td>\n",
       "      <td>488</td>\n",
       "      <td>2930000</td>\n",
       "    </tr>\n",
       "    <tr>\n",
       "      <th>4</th>\n",
       "      <td>4.2</td>\n",
       "      <td>79</td>\n",
       "      <td>569000</td>\n",
       "    </tr>\n",
       "  </tbody>\n",
       "</table>\n",
       "</div>"
      ],
      "text/plain": [
       "   rating  total_review    price\n",
       "0     4.2           905  1930000\n",
       "1     4.1           277   627000\n",
       "2     4.7           562  4510000\n",
       "3     4.7           488  2930000\n",
       "4     4.2            79   569000"
      ]
     },
     "execution_count": 32,
     "metadata": {},
     "output_type": "execute_result"
    }
   ],
   "source": [
    "X_num = X[['rating','total_review','price']]\n",
    "X_num.head()"
   ]
  },
  {
   "cell_type": "code",
   "execution_count": 37,
   "metadata": {},
   "outputs": [
    {
     "data": {
      "text/html": [
       "<div>\n",
       "<style scoped>\n",
       "    .dataframe tbody tr th:only-of-type {\n",
       "        vertical-align: middle;\n",
       "    }\n",
       "\n",
       "    .dataframe tbody tr th {\n",
       "        vertical-align: top;\n",
       "    }\n",
       "\n",
       "    .dataframe thead th {\n",
       "        text-align: right;\n",
       "    }\n",
       "</style>\n",
       "<table border=\"1\" class=\"dataframe\">\n",
       "  <thead>\n",
       "    <tr style=\"text-align: right;\">\n",
       "      <th></th>\n",
       "      <th>hotel_star</th>\n",
       "    </tr>\n",
       "  </thead>\n",
       "  <tbody>\n",
       "    <tr>\n",
       "      <th>0</th>\n",
       "      <td>4-star hotel</td>\n",
       "    </tr>\n",
       "    <tr>\n",
       "      <th>1</th>\n",
       "      <td>3-star hotel</td>\n",
       "    </tr>\n",
       "    <tr>\n",
       "      <th>2</th>\n",
       "      <td>5-star hotel</td>\n",
       "    </tr>\n",
       "    <tr>\n",
       "      <th>3</th>\n",
       "      <td>5-star hotel</td>\n",
       "    </tr>\n",
       "    <tr>\n",
       "      <th>4</th>\n",
       "      <td>3-star hotel</td>\n",
       "    </tr>\n",
       "  </tbody>\n",
       "</table>\n",
       "</div>"
      ],
      "text/plain": [
       "     hotel_star\n",
       "0  4-star hotel\n",
       "1  3-star hotel\n",
       "2  5-star hotel\n",
       "3  5-star hotel\n",
       "4  3-star hotel"
      ]
     },
     "execution_count": 37,
     "metadata": {},
     "output_type": "execute_result"
    }
   ],
   "source": [
    "X_cat = X[['hotel_star']]\n",
    "X_cat.head()"
   ]
  },
  {
   "cell_type": "markdown",
   "metadata": {},
   "source": [
    "## Cek VIF Data Numerik"
   ]
  },
  {
   "cell_type": "code",
   "execution_count": 19,
   "metadata": {},
   "outputs": [
    {
     "data": {
      "text/html": [
       "<div>\n",
       "<style scoped>\n",
       "    .dataframe tbody tr th:only-of-type {\n",
       "        vertical-align: middle;\n",
       "    }\n",
       "\n",
       "    .dataframe tbody tr th {\n",
       "        vertical-align: top;\n",
       "    }\n",
       "\n",
       "    .dataframe thead th {\n",
       "        text-align: right;\n",
       "    }\n",
       "</style>\n",
       "<table border=\"1\" class=\"dataframe\">\n",
       "  <thead>\n",
       "    <tr style=\"text-align: right;\">\n",
       "      <th></th>\n",
       "      <th>Fitur</th>\n",
       "      <th>VIF</th>\n",
       "    </tr>\n",
       "  </thead>\n",
       "  <tbody>\n",
       "    <tr>\n",
       "      <th>2</th>\n",
       "      <td>price</td>\n",
       "      <td>2.527458</td>\n",
       "    </tr>\n",
       "    <tr>\n",
       "      <th>1</th>\n",
       "      <td>total_review</td>\n",
       "      <td>2.105580</td>\n",
       "    </tr>\n",
       "    <tr>\n",
       "      <th>0</th>\n",
       "      <td>rating</td>\n",
       "      <td>1.974815</td>\n",
       "    </tr>\n",
       "  </tbody>\n",
       "</table>\n",
       "</div>"
      ],
      "text/plain": [
       "          Fitur       VIF\n",
       "2         price  2.527458\n",
       "1  total_review  2.105580\n",
       "0        rating  1.974815"
      ]
     },
     "execution_count": 19,
     "metadata": {},
     "output_type": "execute_result"
    }
   ],
   "source": [
    "# dataframe baru untuk melihat hasil VIF\n",
    "vif_data = pd.DataFrame()\n",
    "vif_data[\"Fitur\"] = X_num.columns\n",
    "\n",
    "# menghitung nilai VIF pada masing-masing fitur\n",
    "vif_data[\"VIF\"] = [variance_inflation_factor(X_num.values, i) for i in range(len(X_num.columns))]\n",
    "vif_data.sort_values(by = \"VIF\", ascending=False)"
   ]
  },
  {
   "cell_type": "markdown",
   "metadata": {},
   "source": [
    "Hasil VIF menunjukan dibawah 5 yang artinya fitur independen terhadap fitur lainnya"
   ]
  },
  {
   "cell_type": "markdown",
   "metadata": {},
   "source": [
    "## Scaling Data Numerik"
   ]
  },
  {
   "cell_type": "code",
   "execution_count": 33,
   "metadata": {},
   "outputs": [],
   "source": [
    "# scaling data numerik\n",
    "scaler = RobustScaler()\n",
    "X_num_scaled = scaler.fit_transform(X_num)"
   ]
  },
  {
   "cell_type": "markdown",
   "metadata": {},
   "source": [
    "## Encoding Data Kategorik"
   ]
  },
  {
   "cell_type": "code",
   "execution_count": 39,
   "metadata": {},
   "outputs": [],
   "source": [
    "encoder = OrdinalEncoder()\n",
    "X_cat_encoded = encoder.fit_transform(X_cat)"
   ]
  },
  {
   "cell_type": "code",
   "execution_count": 53,
   "metadata": {},
   "outputs": [
    {
     "data": {
      "text/html": [
       "<div>\n",
       "<style scoped>\n",
       "    .dataframe tbody tr th:only-of-type {\n",
       "        vertical-align: middle;\n",
       "    }\n",
       "\n",
       "    .dataframe tbody tr th {\n",
       "        vertical-align: top;\n",
       "    }\n",
       "\n",
       "    .dataframe thead th {\n",
       "        text-align: right;\n",
       "    }\n",
       "</style>\n",
       "<table border=\"1\" class=\"dataframe\">\n",
       "  <thead>\n",
       "    <tr style=\"text-align: right;\">\n",
       "      <th></th>\n",
       "      <th>hotel_star</th>\n",
       "    </tr>\n",
       "  </thead>\n",
       "  <tbody>\n",
       "    <tr>\n",
       "      <th>0</th>\n",
       "      <td>4-star hotel</td>\n",
       "    </tr>\n",
       "    <tr>\n",
       "      <th>1</th>\n",
       "      <td>3-star hotel</td>\n",
       "    </tr>\n",
       "    <tr>\n",
       "      <th>2</th>\n",
       "      <td>5-star hotel</td>\n",
       "    </tr>\n",
       "    <tr>\n",
       "      <th>3</th>\n",
       "      <td>5-star hotel</td>\n",
       "    </tr>\n",
       "    <tr>\n",
       "      <th>4</th>\n",
       "      <td>3-star hotel</td>\n",
       "    </tr>\n",
       "  </tbody>\n",
       "</table>\n",
       "</div>"
      ],
      "text/plain": [
       "     hotel_star\n",
       "0  4-star hotel\n",
       "1  3-star hotel\n",
       "2  5-star hotel\n",
       "3  5-star hotel\n",
       "4  3-star hotel"
      ]
     },
     "execution_count": 53,
     "metadata": {},
     "output_type": "execute_result"
    }
   ],
   "source": [
    "X_cat.head()"
   ]
  },
  {
   "cell_type": "code",
   "execution_count": 54,
   "metadata": {},
   "outputs": [
    {
     "data": {
      "text/plain": [
       "array([[3.],\n",
       "       [2.],\n",
       "       [4.],\n",
       "       [4.],\n",
       "       [2.]])"
      ]
     },
     "execution_count": 54,
     "metadata": {},
     "output_type": "execute_result"
    }
   ],
   "source": [
    "X_cat_encoded[:5]"
   ]
  },
  {
   "cell_type": "markdown",
   "metadata": {},
   "source": [
    "## Concatenate Hasil Scaling dan Encoding"
   ]
  },
  {
   "cell_type": "code",
   "execution_count": 48,
   "metadata": {},
   "outputs": [],
   "source": [
    "X_final = np.concatenate([X_num_scaled, X_cat_encoded], axis = 1)"
   ]
  },
  {
   "cell_type": "code",
   "execution_count": 50,
   "metadata": {},
   "outputs": [
    {
     "data": {
      "text/plain": [
       "array([[ 0.        ,  3.725     ,  3.54961832,  3.        ],\n",
       "       [-0.2       ,  0.585     ,  0.23409669,  2.        ],\n",
       "       [ 1.        ,  2.01      , 10.11450382,  4.        ],\n",
       "       [ 1.        ,  1.64      ,  6.09414758,  4.        ],\n",
       "       [ 0.        , -0.405     ,  0.08651399,  2.        ]])"
      ]
     },
     "execution_count": 50,
     "metadata": {},
     "output_type": "execute_result"
    }
   ],
   "source": [
    "X_final[:5]"
   ]
  },
  {
   "cell_type": "code",
   "execution_count": 51,
   "metadata": {},
   "outputs": [
    {
     "data": {
      "text/plain": [
       "(53, 4)"
      ]
     },
     "execution_count": 51,
     "metadata": {},
     "output_type": "execute_result"
    }
   ],
   "source": [
    "X_final.shape"
   ]
  },
  {
   "cell_type": "markdown",
   "metadata": {},
   "source": [
    "## PCA"
   ]
  },
  {
   "cell_type": "code",
   "execution_count": 165,
   "metadata": {},
   "outputs": [
    {
     "data": {
      "text/plain": [
       "array([0.70429099, 0.21126041, 0.04465789])"
      ]
     },
     "execution_count": 165,
     "metadata": {},
     "output_type": "execute_result"
    }
   ],
   "source": [
    "# PCA dengan jumlah komponen sebanyak 10\n",
    "pca = PCA(n_components=3).fit(X_final)\n",
    "pca.explained_variance_ratio_"
   ]
  },
  {
   "cell_type": "code",
   "execution_count": 167,
   "metadata": {},
   "outputs": [
    {
     "data": {
      "image/png": "[encoded data removed]",
      "text/plain": [
       "<Figure size 1296x360 with 2 Axes>"
      ]
     },
     "metadata": {
      "needs_background": "light"
     },
     "output_type": "display_data"
    }
   ],
   "source": [
    "# visualisasi PCA dengan menggunakan elbow method\n",
    "fig,ax=plt.subplots(ncols=2,figsize=(18,5))\n",
    "ax[0].plot(range(1,4),pca.explained_variance_ratio_)\n",
    "ax[0].set_xlabel('Komponen')\n",
    "ax[0].set_ylabel('Explained Variance Ratio')\n",
    "ax[0].grid()\n",
    "\n",
    "ax[1].plot(range(1,4),np.cumsum(pca.explained_variance_ratio_))\n",
    "ax[1].set_xlabel('Jumlah Komponen')\n",
    "ax[1].set_ylabel('Kumulatif Explained Variance Ratio')\n",
    "ax[1].grid()\n",
    "plt.show()"
   ]
  },
  {
   "cell_type": "code",
   "execution_count": 168,
   "metadata": {},
   "outputs": [],
   "source": [
    "# finalisasi pca dengan jumlah komponen terbaik\n",
    "pca_final = PCA(n_components=2)\n",
    "X_final_pca = pca_final.fit_transform(X_final)"
   ]
  },
  {
   "cell_type": "code",
   "execution_count": 169,
   "metadata": {},
   "outputs": [
    {
     "data": {
      "text/plain": [
       "0.9155514009374445"
      ]
     },
     "execution_count": 169,
     "metadata": {},
     "output_type": "execute_result"
    }
   ],
   "source": [
    "# hasil kumulatif EVR\n",
    "np.sum(pca_final.explained_variance_ratio_)"
   ]
  },
  {
   "cell_type": "code",
   "execution_count": 170,
   "metadata": {},
   "outputs": [
    {
     "data": {
      "text/plain": [
       "(53, 2)"
      ]
     },
     "execution_count": 170,
     "metadata": {},
     "output_type": "execute_result"
    }
   ],
   "source": [
    "# dimensi data untuk pemodelan\n",
    "X_final_pca.shape"
   ]
  },
  {
   "cell_type": "markdown",
   "metadata": {},
   "source": [
    "# Model Definition"
   ]
  },
  {
   "cell_type": "code",
   "execution_count": 130,
   "metadata": {},
   "outputs": [],
   "source": [
    "# model clustering\n",
    "kmeans = KMeans(n_clusters=5, random_state=100)\n",
    "agg_clust = AC(linkage='ward')\n",
    "scl = SC(n_clusters = 2, gamma= 0.01)"
   ]
  },
  {
   "cell_type": "markdown",
   "metadata": {},
   "source": [
    "## K-Means"
   ]
  },
  {
   "cell_type": "code",
   "execution_count": 171,
   "metadata": {},
   "outputs": [
    {
     "data": {
      "image/png": "[encoded data removed]",
      "text/plain": [
       "<Figure size 720x360 with 1 Axes>"
      ]
     },
     "metadata": {
      "needs_background": "light"
     },
     "output_type": "display_data"
    }
   ],
   "source": [
    "# training model K-Means\n",
    "K=[2,3,4,5,6,7,8,9,10]\n",
    "inertia=[KMeans(n_clusters=i).fit(X_final_pca).inertia_ for i in K]\n",
    "plt.figure(figsize=(10,5))\n",
    "plt.plot(K,inertia)\n",
    "plt.xlabel('K')\n",
    "plt.ylabel('Inertia')\n",
    "plt.grid()\n",
    "plt.show()"
   ]
  },
  {
   "cell_type": "code",
   "execution_count": 179,
   "metadata": {},
   "outputs": [
    {
     "data": {
      "image/png": "[encoded data removed]",
      "text/plain": [
       "<Figure size 720x360 with 1 Axes>"
      ]
     },
     "metadata": {
      "needs_background": "light"
     },
     "output_type": "display_data"
    }
   ],
   "source": [
    "# training model KMeans\n",
    "K=[2,3,4,5,6,7,8,9,10]\n",
    "s_score=[silhouette_score(X_final_pca, KMeans(n_clusters=i).fit(X_final_pca).labels_) for i in K]\n",
    "plt.figure(figsize=(10,5))\n",
    "plt.plot(K,s_score)\n",
    "plt.xlabel('K')\n",
    "plt.ylabel('Silhouette Score')\n",
    "plt.grid()\n",
    "plt.show()"
   ]
  },
  {
   "cell_type": "code",
   "execution_count": 186,
   "metadata": {},
   "outputs": [
    {
     "data": {
      "text/html": [
       "<style>#sk-container-id-25 {color: black;background-color: white;}#sk-container-id-25 pre{padding: 0;}#sk-container-id-25 div.sk-toggleable {background-color: white;}#sk-container-id-25 label.sk-toggleable__label {cursor: pointer;display: block;width: 100%;margin-bottom: 0;padding: 0.3em;box-sizing: border-box;text-align: center;}#sk-container-id-25 label.sk-toggleable__label-arrow:before {content: \"▸\";float: left;margin-right: 0.25em;color: #696969;}#sk-container-id-25 label.sk-toggleable__label-arrow:hover:before {color: black;}#sk-container-id-25 div.sk-estimator:hover label.sk-toggleable__label-arrow:before {color: black;}#sk-container-id-25 div.sk-toggleable__content {max-height: 0;max-width: 0;overflow: hidden;text-align: left;background-color: #f0f8ff;}#sk-container-id-25 div.sk-toggleable__content pre {margin: 0.2em;color: black;border-radius: 0.25em;background-color: #f0f8ff;}#sk-container-id-25 input.sk-toggleable__control:checked~div.sk-toggleable__content {max-height: 200px;max-width: 100%;overflow: auto;}#sk-container-id-25 input.sk-toggleable__control:checked~label.sk-toggleable__label-arrow:before {content: \"▾\";}#sk-container-id-25 div.sk-estimator input.sk-toggleable__control:checked~label.sk-toggleable__label {background-color: #d4ebff;}#sk-container-id-25 div.sk-label input.sk-toggleable__control:checked~label.sk-toggleable__label {background-color: #d4ebff;}#sk-container-id-25 input.sk-hidden--visually {border: 0;clip: rect(1px 1px 1px 1px);clip: rect(1px, 1px, 1px, 1px);height: 1px;margin: -1px;overflow: hidden;padding: 0;position: absolute;width: 1px;}#sk-container-id-25 div.sk-estimator {font-family: monospace;background-color: #f0f8ff;border: 1px dotted black;border-radius: 0.25em;box-sizing: border-box;margin-bottom: 0.5em;}#sk-container-id-25 div.sk-estimator:hover {background-color: #d4ebff;}#sk-container-id-25 div.sk-parallel-item::after {content: \"\";width: 100%;border-bottom: 1px solid gray;flex-grow: 1;}#sk-container-id-25 div.sk-label:hover label.sk-toggleable__label {background-color: #d4ebff;}#sk-container-id-25 div.sk-serial::before {content: \"\";position: absolute;border-left: 1px solid gray;box-sizing: border-box;top: 0;bottom: 0;left: 50%;z-index: 0;}#sk-container-id-25 div.sk-serial {display: flex;flex-direction: column;align-items: center;background-color: white;padding-right: 0.2em;padding-left: 0.2em;position: relative;}#sk-container-id-25 div.sk-item {position: relative;z-index: 1;}#sk-container-id-25 div.sk-parallel {display: flex;align-items: stretch;justify-content: center;background-color: white;position: relative;}#sk-container-id-25 div.sk-item::before, #sk-container-id-25 div.sk-parallel-item::before {content: \"\";position: absolute;border-left: 1px solid gray;box-sizing: border-box;top: 0;bottom: 0;left: 50%;z-index: -1;}#sk-container-id-25 div.sk-parallel-item {display: flex;flex-direction: column;z-index: 1;position: relative;background-color: white;}#sk-container-id-25 div.sk-parallel-item:first-child::after {align-self: flex-end;width: 50%;}#sk-container-id-25 div.sk-parallel-item:last-child::after {align-self: flex-start;width: 50%;}#sk-container-id-25 div.sk-parallel-item:only-child::after {width: 0;}#sk-container-id-25 div.sk-dashed-wrapped {border: 1px dashed gray;margin: 0 0.4em 0.5em 0.4em;box-sizing: border-box;padding-bottom: 0.4em;background-color: white;}#sk-container-id-25 div.sk-label label {font-family: monospace;font-weight: bold;display: inline-block;line-height: 1.2em;}#sk-container-id-25 div.sk-label-container {text-align: center;}#sk-container-id-25 div.sk-container {/* jupyter's `normalize.less` sets `[hidden] { display: none; }` but bootstrap.min.css set `[hidden] { display: none !important; }` so we also need the `!important` here to be able to override the default hidden behavior on the sphinx rendered scikit-learn.org. See: https://github.com/scikit-learn/scikit-learn/issues/21755 */display: inline-block !important;position: relative;}#sk-container-id-25 div.sk-text-repr-fallback {display: none;}</style><div id=\"sk-container-id-25\" class=\"sk-top-container\"><div class=\"sk-text-repr-fallback\"><pre>KMeans(n_clusters=3, random_state=100)</pre><b>In a Jupyter environment, please rerun this cell to show the HTML representation or trust the notebook. <br />On GitHub, the HTML representation is unable to render, please try loading this page with nbviewer.org.</b></div><div class=\"sk-container\" hidden><div class=\"sk-item\"><div class=\"sk-estimator sk-toggleable\"><input class=\"sk-toggleable__control sk-hidden--visually\" id=\"sk-estimator-id-25\" type=\"checkbox\" checked><label for=\"sk-estimator-id-25\" class=\"sk-toggleable__label sk-toggleable__label-arrow\">KMeans</label><div class=\"sk-toggleable__content\"><pre>KMeans(n_clusters=3, random_state=100)</pre></div></div></div></div></div>"
      ],
      "text/plain": [
       "KMeans(n_clusters=3, random_state=100)"
      ]
     },
     "execution_count": 186,
     "metadata": {},
     "output_type": "execute_result"
    }
   ],
   "source": [
    "# model KMeans dengan jumlah cluster terbaik\n",
    "kmeans_best = KMeans(n_clusters=3, random_state=100)\n",
    "\n",
    "# fit model KMeans pada data\n",
    "kmeans_best.fit(X_final_pca)"
   ]
  },
  {
   "cell_type": "code",
   "execution_count": 187,
   "metadata": {},
   "outputs": [
    {
     "data": {
      "text/plain": [
       "array([1, 0, 2, 2, 0, 2, 0, 1, 0, 0, 0, 0, 0, 0, 0, 0, 0, 0, 0, 0, 2, 0,\n",
       "       0, 0, 0, 0, 0, 0, 0, 0, 0, 0, 0, 1, 0, 0, 0, 1, 0, 0, 0, 0, 0, 0,\n",
       "       0, 0, 1, 0, 0, 0, 0, 0, 0])"
      ]
     },
     "execution_count": 187,
     "metadata": {},
     "output_type": "execute_result"
    }
   ],
   "source": [
    "# label / hasil clustering dari model KMeans\n",
    "kmeans_best.labels_"
   ]
  },
  {
   "cell_type": "code",
   "execution_count": 188,
   "metadata": {},
   "outputs": [
    {
     "data": {
      "text/plain": [
       "kmeans\n",
       "0         44\n",
       "1          5\n",
       "2          4\n",
       "dtype: int64"
      ]
     },
     "execution_count": 188,
     "metadata": {},
     "output_type": "execute_result"
    }
   ],
   "source": [
    "kmeans_df = pd.DataFrame(kmeans_best.labels_, columns = ['kmeans'])\n",
    "kmeans_df.value_counts()"
   ]
  },
  {
   "cell_type": "code",
   "execution_count": 176,
   "metadata": {},
   "outputs": [
    {
     "data": {
      "image/png": "[encoded data removed]",
      "text/plain": [
       "<Figure size 720x576 with 1 Axes>"
      ]
     },
     "metadata": {
      "needs_background": "light"
     },
     "output_type": "display_data"
    }
   ],
   "source": [
    "# visualisasi hasil clustering pada plot 2 dimensi\n",
    "plt.figure(figsize=(10,8))\n",
    "sns.scatterplot(x=X_final_pca[:,0],y=X_final_pca[:,1],hue=kmeans_best.labels_)\n",
    "plt.title('Plot 2D Hasil Clustering dengan KMeans')\n",
    "plt.xlabel('X1')\n",
    "plt.ylabel('X2')\n",
    "plt.show()"
   ]
  },
  {
   "cell_type": "markdown",
   "metadata": {},
   "source": [
    "## Agglomerative Clustering"
   ]
  },
  {
   "cell_type": "code",
   "execution_count": 178,
   "metadata": {},
   "outputs": [
    {
     "data": {
      "image/png": "[encoded data removed]",
      "text/plain": [
       "<Figure size 720x360 with 1 Axes>"
      ]
     },
     "metadata": {
      "needs_background": "light"
     },
     "output_type": "display_data"
    }
   ],
   "source": [
    "# training model Agglomerative Clustering\n",
    "K=[2,3,4,5,6,7,8,9,10]\n",
    "s_score_ac=[silhouette_score(X_final_pca, AC(n_clusters=i).fit(X_final_pca).labels_) for i in K]\n",
    "plt.figure(figsize=(10,5))\n",
    "plt.plot(K,s_score_ac)\n",
    "plt.xlabel('K')\n",
    "plt.ylabel('Silhouette Score')\n",
    "plt.grid()\n",
    "plt.show()"
   ]
  },
  {
   "cell_type": "code",
   "execution_count": 190,
   "metadata": {},
   "outputs": [],
   "source": [
    "# model Agglomerative dengan jumlah cluster terbaik\n",
    "agg_clust_final = AC(n_clusters=3, linkage='ward')"
   ]
  },
  {
   "cell_type": "code",
   "execution_count": 191,
   "metadata": {},
   "outputs": [
    {
     "data": {
      "text/html": [
       "<style>#sk-container-id-27 {color: black;background-color: white;}#sk-container-id-27 pre{padding: 0;}#sk-container-id-27 div.sk-toggleable {background-color: white;}#sk-container-id-27 label.sk-toggleable__label {cursor: pointer;display: block;width: 100%;margin-bottom: 0;padding: 0.3em;box-sizing: border-box;text-align: center;}#sk-container-id-27 label.sk-toggleable__label-arrow:before {content: \"▸\";float: left;margin-right: 0.25em;color: #696969;}#sk-container-id-27 label.sk-toggleable__label-arrow:hover:before {color: black;}#sk-container-id-27 div.sk-estimator:hover label.sk-toggleable__label-arrow:before {color: black;}#sk-container-id-27 div.sk-toggleable__content {max-height: 0;max-width: 0;overflow: hidden;text-align: left;background-color: #f0f8ff;}#sk-container-id-27 div.sk-toggleable__content pre {margin: 0.2em;color: black;border-radius: 0.25em;background-color: #f0f8ff;}#sk-container-id-27 input.sk-toggleable__control:checked~div.sk-toggleable__content {max-height: 200px;max-width: 100%;overflow: auto;}#sk-container-id-27 input.sk-toggleable__control:checked~label.sk-toggleable__label-arrow:before {content: \"▾\";}#sk-container-id-27 div.sk-estimator input.sk-toggleable__control:checked~label.sk-toggleable__label {background-color: #d4ebff;}#sk-container-id-27 div.sk-label input.sk-toggleable__control:checked~label.sk-toggleable__label {background-color: #d4ebff;}#sk-container-id-27 input.sk-hidden--visually {border: 0;clip: rect(1px 1px 1px 1px);clip: rect(1px, 1px, 1px, 1px);height: 1px;margin: -1px;overflow: hidden;padding: 0;position: absolute;width: 1px;}#sk-container-id-27 div.sk-estimator {font-family: monospace;background-color: #f0f8ff;border: 1px dotted black;border-radius: 0.25em;box-sizing: border-box;margin-bottom: 0.5em;}#sk-container-id-27 div.sk-estimator:hover {background-color: #d4ebff;}#sk-container-id-27 div.sk-parallel-item::after {content: \"\";width: 100%;border-bottom: 1px solid gray;flex-grow: 1;}#sk-container-id-27 div.sk-label:hover label.sk-toggleable__label {background-color: #d4ebff;}#sk-container-id-27 div.sk-serial::before {content: \"\";position: absolute;border-left: 1px solid gray;box-sizing: border-box;top: 0;bottom: 0;left: 50%;z-index: 0;}#sk-container-id-27 div.sk-serial {display: flex;flex-direction: column;align-items: center;background-color: white;padding-right: 0.2em;padding-left: 0.2em;position: relative;}#sk-container-id-27 div.sk-item {position: relative;z-index: 1;}#sk-container-id-27 div.sk-parallel {display: flex;align-items: stretch;justify-content: center;background-color: white;position: relative;}#sk-container-id-27 div.sk-item::before, #sk-container-id-27 div.sk-parallel-item::before {content: \"\";position: absolute;border-left: 1px solid gray;box-sizing: border-box;top: 0;bottom: 0;left: 50%;z-index: -1;}#sk-container-id-27 div.sk-parallel-item {display: flex;flex-direction: column;z-index: 1;position: relative;background-color: white;}#sk-container-id-27 div.sk-parallel-item:first-child::after {align-self: flex-end;width: 50%;}#sk-container-id-27 div.sk-parallel-item:last-child::after {align-self: flex-start;width: 50%;}#sk-container-id-27 div.sk-parallel-item:only-child::after {width: 0;}#sk-container-id-27 div.sk-dashed-wrapped {border: 1px dashed gray;margin: 0 0.4em 0.5em 0.4em;box-sizing: border-box;padding-bottom: 0.4em;background-color: white;}#sk-container-id-27 div.sk-label label {font-family: monospace;font-weight: bold;display: inline-block;line-height: 1.2em;}#sk-container-id-27 div.sk-label-container {text-align: center;}#sk-container-id-27 div.sk-container {/* jupyter's `normalize.less` sets `[hidden] { display: none; }` but bootstrap.min.css set `[hidden] { display: none !important; }` so we also need the `!important` here to be able to override the default hidden behavior on the sphinx rendered scikit-learn.org. See: https://github.com/scikit-learn/scikit-learn/issues/21755 */display: inline-block !important;position: relative;}#sk-container-id-27 div.sk-text-repr-fallback {display: none;}</style><div id=\"sk-container-id-27\" class=\"sk-top-container\"><div class=\"sk-text-repr-fallback\"><pre>AgglomerativeClustering(n_clusters=3)</pre><b>In a Jupyter environment, please rerun this cell to show the HTML representation or trust the notebook. <br />On GitHub, the HTML representation is unable to render, please try loading this page with nbviewer.org.</b></div><div class=\"sk-container\" hidden><div class=\"sk-item\"><div class=\"sk-estimator sk-toggleable\"><input class=\"sk-toggleable__control sk-hidden--visually\" id=\"sk-estimator-id-27\" type=\"checkbox\" checked><label for=\"sk-estimator-id-27\" class=\"sk-toggleable__label sk-toggleable__label-arrow\">AgglomerativeClustering</label><div class=\"sk-toggleable__content\"><pre>AgglomerativeClustering(n_clusters=3)</pre></div></div></div></div></div>"
      ],
      "text/plain": [
       "AgglomerativeClustering(n_clusters=3)"
      ]
     },
     "execution_count": 191,
     "metadata": {},
     "output_type": "execute_result"
    }
   ],
   "source": [
    "# model Agglomerative Clustering fit pada data\n",
    "agg_clust_final.fit(X_final_pca)"
   ]
  },
  {
   "cell_type": "code",
   "execution_count": 192,
   "metadata": {},
   "outputs": [
    {
     "data": {
      "text/plain": [
       "array([0, 1, 0, 0, 1, 0, 1, 2, 1, 1, 1, 1, 1, 1, 1, 1, 1, 1, 1, 1, 0, 1,\n",
       "       1, 1, 1, 1, 1, 1, 1, 1, 1, 1, 1, 2, 1, 1, 1, 2, 1, 1, 1, 1, 1, 1,\n",
       "       1, 1, 1, 1, 1, 1, 1, 1, 1], dtype=int64)"
      ]
     },
     "execution_count": 192,
     "metadata": {},
     "output_type": "execute_result"
    }
   ],
   "source": [
    "# label / hasil clustering dari model Agglomerative Clustering\n",
    "agg_clust_final.labels_"
   ]
  },
  {
   "cell_type": "code",
   "execution_count": 193,
   "metadata": {},
   "outputs": [
    {
     "data": {
      "text/plain": [
       "agg\n",
       "1      45\n",
       "0       5\n",
       "2       3\n",
       "dtype: int64"
      ]
     },
     "execution_count": 193,
     "metadata": {},
     "output_type": "execute_result"
    }
   ],
   "source": [
    "agg_df = pd.DataFrame(agg_clust_final.labels_, columns = ['agg'])\n",
    "agg_df.value_counts()"
   ]
  },
  {
   "cell_type": "code",
   "execution_count": 194,
   "metadata": {},
   "outputs": [
    {
     "data": {
      "image/png": "[encoded data removed]",
      "text/plain": [
       "<Figure size 720x576 with 1 Axes>"
      ]
     },
     "metadata": {
      "needs_background": "light"
     },
     "output_type": "display_data"
    }
   ],
   "source": [
    "# visualisasi hasil Agglomerative clustering pada plot 2 dimensi\n",
    "plt.figure(figsize=(10,8))\n",
    "sns.scatterplot(x=X_final_pca[:,0],y=X_final_pca[:,1],hue=agg_clust_final.labels_)\n",
    "plt.title('Plot 2D Hasil Clustering dengan Agglomerative Clustering')\n",
    "plt.xlabel('X1')\n",
    "plt.ylabel('X2')\n",
    "plt.show()"
   ]
  },
  {
   "cell_type": "markdown",
   "metadata": {},
   "source": [
    "## Spectral Clustering"
   ]
  },
  {
   "cell_type": "code",
   "execution_count": 195,
   "metadata": {},
   "outputs": [
    {
     "data": {
      "image/png": "[encoded data removed]",
      "text/plain": [
       "<Figure size 720x360 with 1 Axes>"
      ]
     },
     "metadata": {
      "needs_background": "light"
     },
     "output_type": "display_data"
    }
   ],
   "source": [
    "# training moddel Spectral Clustering\n",
    "K=[2,3,4,5,6,7,8,9,10]\n",
    "s_score_slc=[silhouette_score(X_final_pca, SC(n_clusters=i).fit(X_final_pca).labels_) for i in K]\n",
    "plt.figure(figsize=(10,5))\n",
    "plt.plot(K,s_score_slc)\n",
    "plt.xlabel('K')\n",
    "plt.ylabel('Silhouette Score')\n",
    "plt.grid()\n",
    "plt.show()"
   ]
  },
  {
   "cell_type": "code",
   "execution_count": 196,
   "metadata": {},
   "outputs": [],
   "source": [
    "# model Agglomerative dengan jumlah cluster terbaik\n",
    "sc_clust_final = SC(n_clusters=3)"
   ]
  },
  {
   "cell_type": "code",
   "execution_count": 197,
   "metadata": {},
   "outputs": [
    {
     "data": {
      "text/html": [
       "<style>#sk-container-id-28 {color: black;background-color: white;}#sk-container-id-28 pre{padding: 0;}#sk-container-id-28 div.sk-toggleable {background-color: white;}#sk-container-id-28 label.sk-toggleable__label {cursor: pointer;display: block;width: 100%;margin-bottom: 0;padding: 0.3em;box-sizing: border-box;text-align: center;}#sk-container-id-28 label.sk-toggleable__label-arrow:before {content: \"▸\";float: left;margin-right: 0.25em;color: #696969;}#sk-container-id-28 label.sk-toggleable__label-arrow:hover:before {color: black;}#sk-container-id-28 div.sk-estimator:hover label.sk-toggleable__label-arrow:before {color: black;}#sk-container-id-28 div.sk-toggleable__content {max-height: 0;max-width: 0;overflow: hidden;text-align: left;background-color: #f0f8ff;}#sk-container-id-28 div.sk-toggleable__content pre {margin: 0.2em;color: black;border-radius: 0.25em;background-color: #f0f8ff;}#sk-container-id-28 input.sk-toggleable__control:checked~div.sk-toggleable__content {max-height: 200px;max-width: 100%;overflow: auto;}#sk-container-id-28 input.sk-toggleable__control:checked~label.sk-toggleable__label-arrow:before {content: \"▾\";}#sk-container-id-28 div.sk-estimator input.sk-toggleable__control:checked~label.sk-toggleable__label {background-color: #d4ebff;}#sk-container-id-28 div.sk-label input.sk-toggleable__control:checked~label.sk-toggleable__label {background-color: #d4ebff;}#sk-container-id-28 input.sk-hidden--visually {border: 0;clip: rect(1px 1px 1px 1px);clip: rect(1px, 1px, 1px, 1px);height: 1px;margin: -1px;overflow: hidden;padding: 0;position: absolute;width: 1px;}#sk-container-id-28 div.sk-estimator {font-family: monospace;background-color: #f0f8ff;border: 1px dotted black;border-radius: 0.25em;box-sizing: border-box;margin-bottom: 0.5em;}#sk-container-id-28 div.sk-estimator:hover {background-color: #d4ebff;}#sk-container-id-28 div.sk-parallel-item::after {content: \"\";width: 100%;border-bottom: 1px solid gray;flex-grow: 1;}#sk-container-id-28 div.sk-label:hover label.sk-toggleable__label {background-color: #d4ebff;}#sk-container-id-28 div.sk-serial::before {content: \"\";position: absolute;border-left: 1px solid gray;box-sizing: border-box;top: 0;bottom: 0;left: 50%;z-index: 0;}#sk-container-id-28 div.sk-serial {display: flex;flex-direction: column;align-items: center;background-color: white;padding-right: 0.2em;padding-left: 0.2em;position: relative;}#sk-container-id-28 div.sk-item {position: relative;z-index: 1;}#sk-container-id-28 div.sk-parallel {display: flex;align-items: stretch;justify-content: center;background-color: white;position: relative;}#sk-container-id-28 div.sk-item::before, #sk-container-id-28 div.sk-parallel-item::before {content: \"\";position: absolute;border-left: 1px solid gray;box-sizing: border-box;top: 0;bottom: 0;left: 50%;z-index: -1;}#sk-container-id-28 div.sk-parallel-item {display: flex;flex-direction: column;z-index: 1;position: relative;background-color: white;}#sk-container-id-28 div.sk-parallel-item:first-child::after {align-self: flex-end;width: 50%;}#sk-container-id-28 div.sk-parallel-item:last-child::after {align-self: flex-start;width: 50%;}#sk-container-id-28 div.sk-parallel-item:only-child::after {width: 0;}#sk-container-id-28 div.sk-dashed-wrapped {border: 1px dashed gray;margin: 0 0.4em 0.5em 0.4em;box-sizing: border-box;padding-bottom: 0.4em;background-color: white;}#sk-container-id-28 div.sk-label label {font-family: monospace;font-weight: bold;display: inline-block;line-height: 1.2em;}#sk-container-id-28 div.sk-label-container {text-align: center;}#sk-container-id-28 div.sk-container {/* jupyter's `normalize.less` sets `[hidden] { display: none; }` but bootstrap.min.css set `[hidden] { display: none !important; }` so we also need the `!important` here to be able to override the default hidden behavior on the sphinx rendered scikit-learn.org. See: https://github.com/scikit-learn/scikit-learn/issues/21755 */display: inline-block !important;position: relative;}#sk-container-id-28 div.sk-text-repr-fallback {display: none;}</style><div id=\"sk-container-id-28\" class=\"sk-top-container\"><div class=\"sk-text-repr-fallback\"><pre>SpectralClustering(n_clusters=3)</pre><b>In a Jupyter environment, please rerun this cell to show the HTML representation or trust the notebook. <br />On GitHub, the HTML representation is unable to render, please try loading this page with nbviewer.org.</b></div><div class=\"sk-container\" hidden><div class=\"sk-item\"><div class=\"sk-estimator sk-toggleable\"><input class=\"sk-toggleable__control sk-hidden--visually\" id=\"sk-estimator-id-28\" type=\"checkbox\" checked><label for=\"sk-estimator-id-28\" class=\"sk-toggleable__label sk-toggleable__label-arrow\">SpectralClustering</label><div class=\"sk-toggleable__content\"><pre>SpectralClustering(n_clusters=3)</pre></div></div></div></div></div>"
      ],
      "text/plain": [
       "SpectralClustering(n_clusters=3)"
      ]
     },
     "execution_count": 197,
     "metadata": {},
     "output_type": "execute_result"
    }
   ],
   "source": [
    "# model Agglomerative Clustering fit pada data\n",
    "sc_clust_final.fit(X_final_pca)"
   ]
  },
  {
   "cell_type": "code",
   "execution_count": 198,
   "metadata": {},
   "outputs": [
    {
     "data": {
      "text/plain": [
       "array([1, 0, 2, 2, 0, 2, 0, 1, 0, 0, 0, 0, 0, 0, 0, 0, 0, 0, 0, 0, 2, 0,\n",
       "       0, 0, 0, 0, 0, 0, 0, 0, 0, 0, 0, 1, 0, 0, 0, 1, 0, 0, 0, 0, 0, 0,\n",
       "       0, 0, 0, 0, 0, 0, 0, 0, 0])"
      ]
     },
     "execution_count": 198,
     "metadata": {},
     "output_type": "execute_result"
    }
   ],
   "source": [
    "# label / hasil clustering dari model Agglomerative Clustering\n",
    "sc_clust_final.labels_"
   ]
  },
  {
   "cell_type": "code",
   "execution_count": 199,
   "metadata": {},
   "outputs": [
    {
     "data": {
      "text/plain": [
       "sc\n",
       "0     45\n",
       "1      4\n",
       "2      4\n",
       "dtype: int64"
      ]
     },
     "execution_count": 199,
     "metadata": {},
     "output_type": "execute_result"
    }
   ],
   "source": [
    "sc_df = pd.DataFrame(sc_clust_final.labels_, columns = ['sc'])\n",
    "sc_df.value_counts()"
   ]
  },
  {
   "cell_type": "code",
   "execution_count": 200,
   "metadata": {},
   "outputs": [
    {
     "data": {
      "image/png": "[encoded data removed]",
      "text/plain": [
       "<Figure size 720x576 with 1 Axes>"
      ]
     },
     "metadata": {
      "needs_background": "light"
     },
     "output_type": "display_data"
    }
   ],
   "source": [
    "# visualisasi hasil Agglomerative clustering pada plot 2 dimensi\n",
    "plt.figure(figsize=(10,8))\n",
    "sns.scatterplot(x=X_final_pca[:,0],y=X_final_pca[:,1],hue=sc_clust_final.labels_)\n",
    "plt.title('Plot 2D Hasil Clustering dengan Spectral Clustering')\n",
    "plt.xlabel('X1')\n",
    "plt.ylabel('X2')\n",
    "plt.show()"
   ]
  },
  {
   "cell_type": "markdown",
   "metadata": {},
   "source": [
    "# Manual Clustering"
   ]
  },
  {
   "cell_type": "code",
   "execution_count": 208,
   "metadata": {},
   "outputs": [
    {
     "data": {
      "image/png": "[encoded data removed]",
      "text/plain": [
       "<Figure size 864x720 with 1 Axes>"
      ]
     },
     "metadata": {
      "needs_background": "light"
     },
     "output_type": "display_data"
    }
   ],
   "source": [
    "plt.figure(figsize=(12,10))\n",
    "sns.barplot(data = df_hotel, x = 'hotel_star', y = 'price', order=['1-star hotel', '2-star hotel', '3-star hotel', '4-star hotel', '5-star hotel'])\n",
    "plt.title('Rata-rata Harga Hotel', size = 15)\n",
    "plt.xlabel('Bintang Hotel')\n",
    "plt.ylabel('Rata-rata Harga Hotel (Juta Rupiah)')\n",
    "plt.show()"
   ]
  },
  {
   "cell_type": "code",
   "execution_count": 222,
   "metadata": {},
   "outputs": [
    {
     "name": "stdout",
     "output_type": "stream",
     "text": [
      "Rata-rata harga hotel bintang 1 : 318600.0\n",
      "Minimum harga hotel bintang 1 : 176000\n",
      "Maksimum harga hotel bintang 1 : 438000 \n",
      "\n",
      "Rata-rata harga hotel bintang 2 : 390455.0\n",
      "Minimum harga hotel bintang 2 : 200000\n",
      "Maksimum harga hotel bintang 2 : 655000 \n",
      "\n",
      "Rata-rata harga hotel bintang 3 : 540880.0\n",
      "Minimum harga hotel bintang 3 : 270000\n",
      "Maksimum harga hotel bintang 3 : 893000 \n",
      "\n",
      "Rata-rata harga hotel bintang 4 : 959250.0\n",
      "Minimum harga hotel bintang 4 : 535000\n",
      "Maksimum harga hotel bintang 4 : 1930000 \n",
      "\n",
      "Rata-rata harga hotel bintang 5 : 3612500.0\n",
      "Minimum harga hotel bintang 5 : 2620000\n",
      "Maksimum harga hotel bintang 5 : 4510000 \n",
      "\n"
     ]
    }
   ],
   "source": [
    "print('Rata-rata harga hotel bintang 1 :', np.round(df_hotel[df_hotel['hotel_star'] == '1-star hotel']['price'].mean()))\n",
    "print('Minimum harga hotel bintang 1 :', np.round(df_hotel[df_hotel['hotel_star'] == '1-star hotel']['price'].min()))\n",
    "print('Maksimum harga hotel bintang 1 :', np.round(df_hotel[df_hotel['hotel_star'] == '1-star hotel']['price'].max()),'\\n')\n",
    "\n",
    "print('Rata-rata harga hotel bintang 2 :', np.round(df_hotel[df_hotel['hotel_star'] == '2-star hotel']['price'].mean()))\n",
    "print('Minimum harga hotel bintang 2 :', np.round(df_hotel[df_hotel['hotel_star'] == '2-star hotel']['price'].min()))\n",
    "print('Maksimum harga hotel bintang 2 :', np.round(df_hotel[df_hotel['hotel_star'] == '2-star hotel']['price'].max()),'\\n')\n",
    "\n",
    "print('Rata-rata harga hotel bintang 3 :', np.round(df_hotel[df_hotel['hotel_star'] == '3-star hotel']['price'].mean()))\n",
    "print('Minimum harga hotel bintang 3 :', np.round(df_hotel[df_hotel['hotel_star'] == '3-star hotel']['price'].min()))\n",
    "print('Maksimum harga hotel bintang 3 :', np.round(df_hotel[df_hotel['hotel_star'] == '3-star hotel']['price'].max()),'\\n')\n",
    "\n",
    "print('Rata-rata harga hotel bintang 4 :', np.round(df_hotel[df_hotel['hotel_star'] == '4-star hotel']['price'].mean()))\n",
    "print('Minimum harga hotel bintang 4 :', np.round(df_hotel[df_hotel['hotel_star'] == '4-star hotel']['price'].min()))\n",
    "print('Maksimum harga hotel bintang 4 :', np.round(df_hotel[df_hotel['hotel_star'] == '4-star hotel']['price'].max()),'\\n')\n",
    "\n",
    "print('Rata-rata harga hotel bintang 5 :', np.round(df_hotel[df_hotel['hotel_star'] == '5-star hotel']['price'].mean()))\n",
    "print('Minimum harga hotel bintang 5 :', np.round(df_hotel[df_hotel['hotel_star'] == '5-star hotel']['price'].min()))\n",
    "print('Maksimum harga hotel bintang 5 :', np.round(df_hotel[df_hotel['hotel_star'] == '5-star hotel']['price'].max()),'\\n')"
   ]
  },
  {
   "cell_type": "markdown",
   "metadata": {},
   "source": [
    "## Kesimpulan Clustering"
   ]
  },
  {
   "cell_type": "markdown",
   "metadata": {},
   "source": [
    "Clustering menggunakan model menghasilkan clustering yang buruk untuk diimplementasikan pada dataset hotel ini, sehingga metode clustering yang kita gunakan adalah metode manual berdasarkan EDA dari dataset hotel. Hasil EDA menunjukan bahwa kita dapat membagi cluster hotel ini menjadi 3 cluster sesuai dengan klasifikasi user yaitu Basic, Deluxe, dan King. Hotel bintang 1 dan bintang 2 dapat dijadikan sebagai cluster Basic, hotel bintang 3 dapat dijadikan sebagai cluster Deluxe, dan hotel bintang 4 dan bintang 5 dapat dijadikan sebagai cluster King."
   ]
  },
  {
   "cell_type": "markdown",
   "metadata": {},
   "source": [
    "# Cluster Hotel"
   ]
  },
  {
   "cell_type": "code",
   "execution_count": 225,
   "metadata": {},
   "outputs": [],
   "source": [
    "df_hotel['cluster_hotel'] = df_hotel['hotel_star'].map({'1-star hotel' : 'Basic', '2-star hotel' : 'Basic', '3-star hotel' : 'Deluxe', '4-star hotel' : 'King', '5-star hotel' : 'King'})"
   ]
  },
  {
   "cell_type": "code",
   "execution_count": 228,
   "metadata": {},
   "outputs": [
    {
     "data": {
      "text/plain": [
       "Deluxe    25\n",
       "Basic     16\n",
       "King      12\n",
       "Name: cluster_hotel, dtype: int64"
      ]
     },
     "execution_count": 228,
     "metadata": {},
     "output_type": "execute_result"
    }
   ],
   "source": [
    "df_hotel['cluster_hotel'].value_counts()"
   ]
  }
 ],
 "metadata": {
  "kernelspec": {
   "display_name": "Python 3.9.2 64-bit",
   "language": "python",
   "name": "python3"
  },
  "language_info": {
   "codemirror_mode": {
    "name": "ipython",
    "version": 3
   },
   "file_extension": ".py",
   "mimetype": "text/x-python",
   "name": "python",
   "nbconvert_exporter": "python",
   "pygments_lexer": "ipython3",
   "version": "3.9.2"
  },
  "orig_nbformat": 4,
  "vscode": {
   "interpreter": {
    "hash": "14958d3aee5f1cad06795f787e54b96185c25fb40dfec723a5be941f3a531b8c"
   }
  }
 },
 "nbformat": 4,
 "nbformat_minor": 2
}
